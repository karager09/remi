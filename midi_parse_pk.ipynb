{
 "cells": [
  {
   "cell_type": "code",
   "execution_count": 1,
   "metadata": {},
   "outputs": [],
   "source": [
    "import miditoolkit\n",
    "import utils_pk"
   ]
  },
  {
   "cell_type": "markdown",
   "metadata": {},
   "source": [
    "# Read MIDI (example)"
   ]
  },
  {
   "cell_type": "code",
   "execution_count": 11,
   "metadata": {},
   "outputs": [
    {
     "output_type": "execute_result",
     "data": {
      "text/plain": "array([0.   , 0.125, 0.25 , 0.375, 0.5  , 0.625, 0.75 , 0.875, 1.   ,\n       1.125, 1.25 , 1.375, 1.5  , 1.625, 1.75 , 1.875, 2.   , 2.125,\n       2.25 , 2.375, 2.5  , 2.625, 2.75 , 2.875, 3.   , 3.125, 3.25 ,\n       3.375, 3.5  , 3.625, 3.75 , 3.875, 4.   ])"
     },
     "metadata": {},
     "execution_count": 11
    }
   ],
   "source": [
    "import numpy as np\n",
    "np.arange(0, 4.01, 1/8, dtype=float)"
   ]
  },
  {
   "cell_type": "code",
   "execution_count": 3,
   "metadata": {
    "tags": []
   },
   "outputs": [
    {
     "output_type": "stream",
     "name": "stdout",
     "text": "768\n"
    },
    {
     "output_type": "execute_result",
     "data": {
      "text/plain": "[TimeSignature(numerator=4, denominator=4, time=0),\n TimeSignature(numerator=12, denominator=8, time=199680)]"
     },
     "metadata": {},
     "execution_count": 3
    }
   ],
   "source": [
    "# midi_obj = miditoolkit.midi.parser.MidiFile('./data/evaluation/000.midi')\n",
    "midi_obj = miditoolkit.midi.parser.MidiFile('D:/Studia/magisterka/Pliki midi/Classical Archives - The Greats (MIDI Library)/Classical Archives - The Greats (MIDI)\\\\Buxethude Buxwv136 Prelude.mid')\n",
    "print(midi_obj.ticks_per_beat)\n",
    "midi_obj.time_signature_changes"
   ]
  },
  {
   "cell_type": "code",
   "execution_count": 13,
   "metadata": {
    "tags": []
   },
   "outputs": [
    {
     "output_type": "stream",
     "name": "stdout",
     "text": "Note(start=192, end=384, pitch=55, velocity=92)\nNote(start=384, end=576, pitch=57, velocity=92)\nNote(start=576, end=768, pitch=59, velocity=92)\nNote(start=768, end=960, pitch=60, velocity=92)\nNote(start=960, end=1152, pitch=62, velocity=92)\nNote(start=1152, end=1344, pitch=64, velocity=92)\nNote(start=1344, end=1536, pitch=65, velocity=92)\nNote(start=1536, end=1728, pitch=67, velocity=92)\nNote(start=1728, end=1920, pitch=64, velocity=92)\nNote(start=1920, end=2112, pitch=65, velocity=92)\nNote(start=2112, end=2304, pitch=67, velocity=92)\nNote(start=2304, end=2496, pitch=69, velocity=92)\nNote(start=2496, end=2688, pitch=71, velocity=92)\nNote(start=2688, end=2880, pitch=72, velocity=92)\nNote(start=2880, end=3072, pitch=74, velocity=92)\nNote(start=3264, end=3456, pitch=67, velocity=92)\nNote(start=3456, end=3648, pitch=69, velocity=92)\nNote(start=3648, end=3840, pitch=71, velocity=92)\nNote(start=3072, end=3840, pitch=76, velocity=92)\nNote(start=3840, end=4608, pitch=76, velocity=92)\nNote(start=3840, end=4608, pitch=72, velocity=92)\nNote(start=4800, end=4992, pitch=74, velocity=92)\nNote(start=4992, end=5184, pitch=79, velocity=92)\nNote(start=5184, end=5376, pitch=77, velocity=92)\nNote(start=5568, end=5760, pitch=74, velocity=92)\nNote(start=5760, end=5952, pitch=72, velocity=92)\nNote(start=5952, end=6144, pitch=71, velocity=92)\nNote(start=5376, end=6144, pitch=76, velocity=92)\nNote(start=6144, end=6912, pitch=69, velocity=92)\nNote(start=6912, end=7104, pitch=67, velocity=92)\n"
    }
   ],
   "source": [
    "print(*midi_obj.instruments[0].notes[:30], sep='\\n')"
   ]
  },
  {
   "cell_type": "code",
   "execution_count": 11,
   "metadata": {
    "tags": []
   },
   "outputs": [
    {
     "output_type": "stream",
     "name": "stdout",
     "text": "420.00042000042 BPM at 0 ticks\n412.0001922667564 BPM at 93440 ticks\n404.0023162799467 BPM at 93696 ticks\n396.000396000396 BPM at 93952 ticks\n388.0004397338317 BPM at 94208 ticks\n380.00177334160895 BPM at 94464 ticks\n372.000744001488 BPM at 94720 ticks\n364.000364000364 BPM at 94976 ticks\n356.0006882679973 BPM at 95232 ticks\n312.00112320404355 BPM at 99328 ticks\n"
    }
   ],
   "source": [
    "print(*midi_obj.tempo_changes[:10], sep='\\n')"
   ]
  },
  {
   "cell_type": "markdown",
   "metadata": {},
   "source": [
    "# Convert to REMI events"
   ]
  },
  {
   "cell_type": "markdown",
   "metadata": {},
   "source": [
    "## 1. Read midi into \"Item\""
   ]
  },
  {
   "cell_type": "code",
   "execution_count": 4,
   "metadata": {},
   "outputs": [],
   "source": [
    "note_items, tempo_items = utils_pk.read_items('D:/Studia/magisterka/Pliki midi/Classical Archives - The Greats (MIDI Library)/Classical Archives - The Greats (MIDI)\\\\Buxethude Buxwv136 Prelude.mid')"
   ]
  },
  {
   "cell_type": "code",
   "execution_count": 23,
   "metadata": {
    "tags": []
   },
   "outputs": [
    {
     "output_type": "stream",
     "name": "stdout",
     "text": "Item(name=Note, start=0.25, end=0.5, velocity=92, pitch=55)\nItem(name=Note, start=0.5, end=0.75, velocity=92, pitch=57)\nItem(name=Note, start=0.75, end=1.25, velocity=97, pitch=55)\nItem(name=Note, start=0.75, end=1.0, velocity=92, pitch=59)\nItem(name=Note, start=1.0, end=1.25, velocity=92, pitch=60)\nItem(name=Note, start=1.25, end=1.5, velocity=97, pitch=57)\nItem(name=Note, start=1.25, end=1.5, velocity=92, pitch=62)\nItem(name=Note, start=1.5, end=1.75, velocity=97, pitch=59)\nItem(name=Note, start=1.5, end=1.75, velocity=92, pitch=64)\nItem(name=Note, start=1.75, end=2.0, velocity=97, pitch=60)\nItem(name=Note, start=1.75, end=2.0, velocity=92, pitch=65)\nItem(name=Note, start=2.0, end=2.25, velocity=97, pitch=62)\nItem(name=Note, start=2.0, end=2.25, velocity=92, pitch=67)\nItem(name=Note, start=2.25, end=2.5, velocity=92, pitch=64)\nItem(name=Note, start=2.25, end=2.5, velocity=97, pitch=64)\nItem(name=Note, start=2.5, end=2.75, velocity=97, pitch=60)\nItem(name=Note, start=2.5, end=2.75, velocity=92, pitch=65)\nItem(name=Note, start=2.75, end=3.0, velocity=97, pitch=62)\nItem(name=Note, start=2.75, end=3.0, velocity=92, pitch=67)\nItem(name=Note, start=3.0, end=3.25, velocity=97, pitch=64)\nItem(name=Note, start=3.0, end=3.25, velocity=92, pitch=69)\nItem(name=Note, start=3.25, end=3.5, velocity=97, pitch=65)\nItem(name=Note, start=3.25, end=3.5, velocity=92, pitch=71)\nItem(name=Note, start=3.5, end=3.75, velocity=97, pitch=62)\nItem(name=Note, start=3.5, end=3.75, velocity=92, pitch=72)\nItem(name=Note, start=3.75, end=4.0, velocity=97, pitch=64)\nItem(name=Note, start=3.75, end=4.0, velocity=92, pitch=74)\nItem(name=Note, start=4.0, end=5.0, velocity=97, pitch=60)\nItem(name=Note, start=4.0, end=5.0, velocity=92, pitch=76)\nItem(name=Note, start=4.25, end=4.5, velocity=92, pitch=67)\n"
    }
   ],
   "source": [
    "# first = note_items[0]\n",
    "# first.start = 0.1333\n",
    "# note_items = [first] + note_items[1:]\n",
    "print(*note_items[:30], sep='\\n')"
   ]
  },
  {
   "cell_type": "code",
   "execution_count": 24,
   "metadata": {
    "tags": []
   },
   "outputs": [
    {
     "output_type": "stream",
     "name": "stdout",
     "text": "Item(name=Tempo, start=434.0, end=None, velocity=None, pitch=92)\nItem(name=Tempo, start=435.0, end=None, velocity=None, pitch=92)\nItem(name=Tempo, start=436.0, end=None, velocity=None, pitch=92)\nItem(name=Tempo, start=437.0, end=None, velocity=None, pitch=92)\nItem(name=Tempo, start=438.0, end=None, velocity=None, pitch=92)\nItem(name=Tempo, start=439.0, end=None, velocity=None, pitch=92)\nItem(name=Tempo, start=440.0, end=None, velocity=None, pitch=88)\nItem(name=Tempo, start=441.0, end=None, velocity=None, pitch=88)\nItem(name=Tempo, start=442.0, end=None, velocity=None, pitch=88)\nItem(name=Tempo, start=443.0, end=None, velocity=None, pitch=40)\n"
    }
   ],
   "source": [
    "print(*tempo_items[-10:], sep='\\n')"
   ]
  },
  {
   "cell_type": "markdown",
   "metadata": {},
   "source": [
    "## 2. Quantize note items"
   ]
  },
  {
   "cell_type": "code",
   "execution_count": 7,
   "metadata": {},
   "outputs": [
    {
     "output_type": "execute_result",
     "data": {
      "text/plain": "0.0234375"
     },
     "metadata": {},
     "execution_count": 7
    }
   ],
   "source": [
    "9.5/8 % 1/8"
   ]
  },
  {
   "cell_type": "code",
   "execution_count": 5,
   "metadata": {},
   "outputs": [
    {
     "output_type": "execute_result",
     "data": {
      "text/plain": "[Item(name=Note, start=0.25, end=0.5, velocity=92, pitch=55),\n Item(name=Note, start=0.5, end=0.75, velocity=92, pitch=57),\n Item(name=Note, start=0.75, end=1.25, velocity=97, pitch=55),\n Item(name=Note, start=0.75, end=1.0, velocity=92, pitch=59),\n Item(name=Note, start=1.0, end=1.25, velocity=92, pitch=60),\n Item(name=Note, start=1.25, end=1.5, velocity=97, pitch=57),\n Item(name=Note, start=1.25, end=1.5, velocity=92, pitch=62),\n Item(name=Note, start=1.5, end=1.75, velocity=97, pitch=59),\n Item(name=Note, start=1.5, end=1.75, velocity=92, pitch=64),\n Item(name=Note, start=1.75, end=2.0, velocity=97, pitch=60)]"
     },
     "metadata": {},
     "execution_count": 5
    }
   ],
   "source": [
    "note_items = utils_pk.quantize_items(note_items, ticks=1/8)\n",
    "note_items[:10]"
   ]
  },
  {
   "cell_type": "code",
   "execution_count": 28,
   "metadata": {
    "tags": [
     "outputPrepend"
    ]
   },
   "outputs": [
    {
     "output_type": "stream",
     "name": "stdout",
     "text": "378.0, end=378.5, velocity=92, pitch=76)\nItem(name=Note, start=378.5, end=379.5, velocity=97, pitch=59)\nItem(name=Note, start=378.5, end=379.0, velocity=92, pitch=67)\nItem(name=Note, start=378.5, end=379.5, velocity=92, pitch=74)\nItem(name=Note, start=379.0, end=379.5, velocity=92, pitch=65)\nItem(name=Note, start=379.5, end=380.0, velocity=97, pitch=61)\nItem(name=Note, start=379.5, end=380.0, velocity=92, pitch=64)\nItem(name=Note, start=379.5, end=380.5, velocity=92, pitch=76)\nItem(name=Note, start=380.0, end=381.5, velocity=97, pitch=62)\nItem(name=Note, start=380.0, end=381.5, velocity=92, pitch=65)\nItem(name=Note, start=380.5, end=381.0, velocity=92, pitch=69)\nItem(name=Note, start=381.0, end=382.0, velocity=92, pitch=74)\nItem(name=Note, start=381.5, end=383.0, velocity=97, pitch=56)\nItem(name=Note, start=381.5, end=383.0, velocity=92, pitch=64)\nItem(name=Note, start=382.0, end=382.5, velocity=92, pitch=72)\nItem(name=Note, start=382.5, end=383.0, velocity=92, pitch=71)\nItem(name=Note, start=383.0, end=384.0, velocity=97, pitch=57)\nItem(name=Note, start=383.0, end=383.5, velocity=92, pitch=64)\nItem(name=Note, start=383.0, end=384.5, velocity=92, pitch=72)\nItem(name=Note, start=383.5, end=385.5, velocity=92, pitch=69)\nItem(name=Note, start=384.0, end=384.5, velocity=97, pitch=60)\nItem(name=Note, start=384.5, end=385.0, velocity=97, pitch=62)\nItem(name=Note, start=384.5, end=386.0, velocity=92, pitch=71)\nItem(name=Note, start=385.0, end=385.5, velocity=97, pitch=59)\nItem(name=Note, start=385.5, end=386.0, velocity=97, pitch=64)\nItem(name=Note, start=385.5, end=386.0, velocity=92, pitch=68)\nItem(name=Note, start=386.0, end=386.5, velocity=97, pitch=57)\nItem(name=Note, start=386.0, end=386.5, velocity=92, pitch=69)\nItem(name=Note, start=386.0, end=386.5, velocity=92, pitch=72)\nItem(name=Note, start=386.5, end=387.0, velocity=92, pitch=64)\nItem(name=Note, start=387.0, end=387.5, velocity=92, pitch=69)\nItem(name=Note, start=387.5, end=388.0, velocity=97, pitch=60)\nItem(name=Note, start=387.5, end=388.0, velocity=92, pitch=69)\nItem(name=Note, start=387.5, end=388.0, velocity=92, pitch=72)\nItem(name=Note, start=388.0, end=388.5, velocity=92, pitch=64)\nItem(name=Note, start=388.5, end=389.0, velocity=92, pitch=69)\nItem(name=Note, start=389.0, end=389.5, velocity=97, pitch=62)\nItem(name=Note, start=389.0, end=389.5, velocity=92, pitch=69)\nItem(name=Note, start=389.0, end=389.5, velocity=92, pitch=71)\nItem(name=Note, start=389.5, end=390.0, velocity=92, pitch=65)\nItem(name=Note, start=390.0, end=390.5, velocity=92, pitch=69)\nItem(name=Note, start=390.5, end=391.0, velocity=97, pitch=64)\nItem(name=Note, start=390.5, end=391.0, velocity=92, pitch=67)\nItem(name=Note, start=390.5, end=391.0, velocity=92, pitch=71)\nItem(name=Note, start=391.0, end=391.5, velocity=92, pitch=64)\nItem(name=Note, start=391.5, end=392.0, velocity=92, pitch=67)\nItem(name=Note, start=392.0, end=392.5, velocity=97, pitch=61)\nItem(name=Note, start=392.0, end=392.5, velocity=92, pitch=67)\nItem(name=Note, start=392.0, end=392.5, velocity=92, pitch=69)\nItem(name=Note, start=392.5, end=393.0, velocity=92, pitch=64)\nItem(name=Note, start=393.0, end=393.5, velocity=92, pitch=67)\nItem(name=Note, start=393.5, end=394.0, velocity=97, pitch=62)\nItem(name=Note, start=393.5, end=394.0, velocity=92, pitch=65)\nItem(name=Note, start=393.5, end=394.0, velocity=92, pitch=69)\nItem(name=Note, start=394.0, end=394.5, velocity=92, pitch=62)\nItem(name=Note, start=394.5, end=395.0, velocity=92, pitch=65)\nItem(name=Note, start=395.0, end=395.5, velocity=97, pitch=59)\nItem(name=Note, start=395.0, end=395.5, velocity=92, pitch=65)\nItem(name=Note, start=395.0, end=395.5, velocity=92, pitch=67)\nItem(name=Note, start=395.5, end=396.0, velocity=92, pitch=62)\nItem(name=Note, start=396.0, end=396.5, velocity=92, pitch=65)\nItem(name=Note, start=396.5, end=397.0, velocity=97, pitch=60)\nItem(name=Note, start=396.5, end=397.0, velocity=92, pitch=64)\nItem(name=Note, start=396.5, end=397.0, velocity=92, pitch=67)\nItem(name=Note, start=397.0, end=397.5, velocity=92, pitch=60)\nItem(name=Note, start=397.5, end=398.0, velocity=92, pitch=64)\nItem(name=Note, start=398.0, end=398.5, velocity=97, pitch=60)\nItem(name=Note, start=398.0, end=398.5, velocity=92, pitch=66)\nItem(name=Note, start=398.0, end=398.5, velocity=92, pitch=69)\nItem(name=Note, start=398.5, end=399.0, velocity=92, pitch=62)\nItem(name=Note, start=399.0, end=399.5, velocity=92, pitch=66)\nItem(name=Note, start=399.5, end=400.0, velocity=97, pitch=59)\nItem(name=Note, start=399.5, end=400.0, velocity=92, pitch=67)\nItem(name=Note, start=399.5, end=400.0, velocity=92, pitch=71)\nItem(name=Note, start=400.0, end=400.5, velocity=92, pitch=62)\nItem(name=Note, start=400.5, end=401.0, velocity=92, pitch=67)\nItem(name=Note, start=401.0, end=401.5, velocity=97, pitch=57)\nItem(name=Note, start=401.0, end=401.5, velocity=92, pitch=67)\nItem(name=Note, start=401.0, end=401.5, velocity=92, pitch=72)\nItem(name=Note, start=401.5, end=402.0, velocity=92, pitch=64)\nItem(name=Note, start=402.0, end=402.5, velocity=92, pitch=67)\nItem(name=Note, start=402.5, end=403.0, velocity=97, pitch=62)\nItem(name=Note, start=402.5, end=403.0, velocity=92, pitch=66)\nItem(name=Note, start=402.5, end=403.0, velocity=92, pitch=72)\nItem(name=Note, start=403.0, end=403.5, velocity=92, pitch=62)\nItem(name=Note, start=403.5, end=404.0, velocity=92, pitch=66)\nItem(name=Note, start=404.0, end=404.5, velocity=97, pitch=55)\nItem(name=Note, start=404.0, end=404.5, velocity=92, pitch=67)\nItem(name=Note, start=404.0, end=404.5, velocity=92, pitch=71)\nItem(name=Note, start=404.5, end=405.0, velocity=92, pitch=62)\nItem(name=Note, start=405.0, end=405.5, velocity=92, pitch=67)\nItem(name=Note, start=405.5, end=406.0, velocity=97, pitch=59)\nItem(name=Note, start=405.5, end=406.0, velocity=92, pitch=67)\nItem(name=Note, start=405.5, end=406.0, velocity=92, pitch=74)\nItem(name=Note, start=406.0, end=406.5, velocity=92, pitch=62)\nItem(name=Note, start=406.5, end=407.0, velocity=92, pitch=67)\nItem(name=Note, start=407.0, end=407.5, velocity=97, pitch=61)\nItem(name=Note, start=407.0, end=407.5, velocity=92, pitch=67)\nItem(name=Note, start=407.0, end=407.5, velocity=92, pitch=76)\nItem(name=Note, start=407.5, end=408.0, velocity=92, pitch=64)\nItem(name=Note, start=408.0, end=408.5, velocity=92, pitch=67)\nItem(name=Note, start=408.5, end=409.0, velocity=97, pitch=62)\nItem(name=Note, start=408.5, end=409.0, velocity=92, pitch=66)\nItem(name=Note, start=408.5, end=409.0, velocity=92, pitch=69)\nItem(name=Note, start=409.0, end=409.5, velocity=92, pitch=64)\nItem(name=Note, start=409.5, end=410.0, velocity=92, pitch=66)\nItem(name=Note, start=410.0, end=410.5, velocity=97, pitch=62)\nItem(name=Note, start=410.0, end=410.5, velocity=92, pitch=68)\nItem(name=Note, start=410.0, end=410.5, velocity=92, pitch=71)\nItem(name=Note, start=410.5, end=411.0, velocity=92, pitch=64)\nItem(name=Note, start=411.0, end=411.5, velocity=92, pitch=68)\nItem(name=Note, start=411.5, end=412.0, velocity=97, pitch=60)\nItem(name=Note, start=411.5, end=412.0, velocity=92, pitch=69)\nItem(name=Note, start=411.5, end=412.0, velocity=92, pitch=72)\nItem(name=Note, start=412.0, end=412.5, velocity=92, pitch=64)\nItem(name=Note, start=412.5, end=413.0, velocity=92, pitch=69)\nItem(name=Note, start=413.0, end=413.5, velocity=97, pitch=59)\nItem(name=Note, start=413.0, end=413.5, velocity=92, pitch=69)\nItem(name=Note, start=413.0, end=413.5, velocity=92, pitch=74)\nItem(name=Note, start=413.5, end=414.0, velocity=92, pitch=68)\nItem(name=Note, start=414.0, end=414.5, velocity=92, pitch=69)\nItem(name=Note, start=414.5, end=415.0, velocity=97, pitch=64)\nItem(name=Note, start=414.5, end=415.0, velocity=92, pitch=67)\nItem(name=Note, start=414.5, end=415.0, velocity=92, pitch=74)\nItem(name=Note, start=415.0, end=415.5, velocity=92, pitch=66)\nItem(name=Note, start=415.5, end=416.0, velocity=92, pitch=67)\nItem(name=Note, start=416.0, end=416.5, velocity=97, pitch=57)\nItem(name=Note, start=416.0, end=416.5, velocity=92, pitch=67)\nItem(name=Note, start=416.0, end=416.5, velocity=92, pitch=72)\nItem(name=Note, start=416.5, end=417.0, velocity=92, pitch=66)\nItem(name=Note, start=417.0, end=417.5, velocity=92, pitch=67)\nItem(name=Note, start=417.5, end=418.0, velocity=97, pitch=62)\nItem(name=Note, start=417.5, end=418.0, velocity=92, pitch=65)\nItem(name=Note, start=417.5, end=418.0, velocity=92, pitch=72)\nItem(name=Note, start=418.0, end=418.5, velocity=92, pitch=64)\nItem(name=Note, start=418.5, end=419.0, velocity=92, pitch=65)\nItem(name=Note, start=419.0, end=419.5, velocity=97, pitch=55)\nItem(name=Note, start=419.0, end=419.5, velocity=92, pitch=65)\nItem(name=Note, start=419.0, end=419.5, velocity=92, pitch=71)\nItem(name=Note, start=419.5, end=420.0, velocity=92, pitch=64)\nItem(name=Note, start=420.0, end=420.5, velocity=92, pitch=65)\nItem(name=Note, start=420.5, end=421.0, velocity=97, pitch=57)\nItem(name=Note, start=420.5, end=421.0, velocity=92, pitch=64)\nItem(name=Note, start=420.5, end=421.0, velocity=92, pitch=72)\nItem(name=Note, start=421.0, end=421.5, velocity=92, pitch=60)\nItem(name=Note, start=421.5, end=422.0, velocity=92, pitch=64)\nItem(name=Note, start=422.0, end=422.5, velocity=97, pitch=54)\nItem(name=Note, start=422.0, end=422.5, velocity=92, pitch=69)\nItem(name=Note, start=422.0, end=422.5, velocity=92, pitch=72)\nItem(name=Note, start=422.5, end=423.0, velocity=92, pitch=62)\nItem(name=Note, start=423.0, end=423.5, velocity=92, pitch=69)\nItem(name=Note, start=423.5, end=424.0, velocity=97, pitch=55)\nItem(name=Note, start=423.5, end=424.0, velocity=92, pitch=67)\nItem(name=Note, start=423.5, end=424.0, velocity=92, pitch=71)\nItem(name=Note, start=424.0, end=424.5, velocity=92, pitch=62)\nItem(name=Note, start=424.5, end=425.0, velocity=92, pitch=67)\nItem(name=Note, start=425.0, end=426.5, velocity=97, pitch=55)\nItem(name=Note, start=425.0, end=425.5, velocity=92, pitch=69)\nItem(name=Note, start=425.0, end=425.5, velocity=92, pitch=72)\nItem(name=Note, start=425.5, end=426.0, velocity=92, pitch=64)\nItem(name=Note, start=426.0, end=426.5, velocity=92, pitch=69)\nItem(name=Note, start=426.5, end=428.0, velocity=97, pitch=54)\nItem(name=Note, start=426.5, end=427.0, velocity=92, pitch=69)\nItem(name=Note, start=426.5, end=427.0, velocity=92, pitch=72)\nItem(name=Note, start=427.0, end=427.5, velocity=92, pitch=62)\nItem(name=Note, start=427.5, end=428.0, velocity=92, pitch=69)\nItem(name=Note, start=428.0, end=428.125, velocity=97, pitch=57)\nItem(name=Note, start=428.0, end=428.5, velocity=92, pitch=67)\nItem(name=Note, start=428.0, end=428.5, velocity=92, pitch=72)\nItem(name=Note, start=428.125, end=428.25, velocity=97, pitch=55)\nItem(name=Note, start=428.25, end=428.375, velocity=97, pitch=57)\nItem(name=Note, start=428.375, end=428.5, velocity=97, pitch=55)\nItem(name=Note, start=428.5, end=428.625, velocity=97, pitch=57)\nItem(name=Note, start=428.5, end=429.0, velocity=92, pitch=64)\nItem(name=Note, start=428.625, end=428.75, velocity=97, pitch=55)\nItem(name=Note, start=428.75, end=428.875, velocity=97, pitch=57)\nItem(name=Note, start=428.875, end=429.0, velocity=97, pitch=55)\nItem(name=Note, start=429.0, end=429.125, velocity=97, pitch=57)\nItem(name=Note, start=429.0, end=429.5, velocity=92, pitch=67)\nItem(name=Note, start=429.125, end=429.25, velocity=97, pitch=55)\nItem(name=Note, start=429.25, end=429.375, velocity=97, pitch=57)\nItem(name=Note, start=429.375, end=429.5, velocity=97, pitch=55)\nItem(name=Note, start=429.5, end=429.625, velocity=97, pitch=57)\nItem(name=Note, start=429.5, end=430.0, velocity=92, pitch=67)\nItem(name=Note, start=429.5, end=430.0, velocity=92, pitch=72)\nItem(name=Note, start=429.625, end=429.75, velocity=97, pitch=55)\nItem(name=Note, start=429.75, end=429.875, velocity=97, pitch=57)\nItem(name=Note, start=429.875, end=430.0, velocity=97, pitch=55)\nItem(name=Note, start=430.0, end=430.125, velocity=97, pitch=57)\nItem(name=Note, start=430.0, end=430.5, velocity=92, pitch=64)\nItem(name=Note, start=430.125, end=430.25, velocity=97, pitch=55)\nItem(name=Note, start=430.25, end=430.375, velocity=97, pitch=57)\nItem(name=Note, start=430.375, end=430.5, velocity=97, pitch=55)\nItem(name=Note, start=430.5, end=430.625, velocity=97, pitch=57)\nItem(name=Note, start=430.5, end=431.0, velocity=92, pitch=67)\nItem(name=Note, start=430.625, end=430.75, velocity=97, pitch=55)\nItem(name=Note, start=430.75, end=430.875, velocity=97, pitch=57)\nItem(name=Note, start=430.875, end=431.0, velocity=97, pitch=55)\nItem(name=Note, start=431.0, end=431.125, velocity=97, pitch=57)\nItem(name=Note, start=431.0, end=431.5, velocity=92, pitch=67)\nItem(name=Note, start=431.0, end=431.5, velocity=92, pitch=72)\nItem(name=Note, start=431.125, end=431.25, velocity=97, pitch=55)\nItem(name=Note, start=431.25, end=431.375, velocity=97, pitch=57)\nItem(name=Note, start=431.375, end=431.5, velocity=97, pitch=55)\nItem(name=Note, start=431.5, end=431.625, velocity=97, pitch=57)\nItem(name=Note, start=431.5, end=432.0, velocity=92, pitch=62)\nItem(name=Note, start=431.625, end=431.75, velocity=97, pitch=55)\nItem(name=Note, start=431.75, end=431.875, velocity=97, pitch=57)\nItem(name=Note, start=431.875, end=432.0, velocity=97, pitch=55)\nItem(name=Note, start=432.0, end=432.125, velocity=97, pitch=57)\nItem(name=Note, start=432.0, end=432.5, velocity=92, pitch=67)\nItem(name=Note, start=432.125, end=432.25, velocity=97, pitch=55)\nItem(name=Note, start=432.25, end=432.375, velocity=97, pitch=57)\nItem(name=Note, start=432.375, end=432.5, velocity=97, pitch=55)\nItem(name=Note, start=432.5, end=432.625, velocity=97, pitch=57)\nItem(name=Note, start=432.5, end=433.0, velocity=92, pitch=67)\nItem(name=Note, start=432.5, end=433.0, velocity=92, pitch=71)\nItem(name=Note, start=432.625, end=432.75, velocity=97, pitch=55)\nItem(name=Note, start=432.75, end=432.875, velocity=97, pitch=57)\nItem(name=Note, start=432.875, end=433.0, velocity=97, pitch=55)\nItem(name=Note, start=433.0, end=433.125, velocity=97, pitch=57)\nItem(name=Note, start=433.0, end=433.5, velocity=92, pitch=62)\nItem(name=Note, start=433.125, end=433.25, velocity=97, pitch=55)\nItem(name=Note, start=433.25, end=433.375, velocity=97, pitch=57)\nItem(name=Note, start=433.375, end=433.5, velocity=97, pitch=55)\nItem(name=Note, start=433.5, end=433.625, velocity=97, pitch=57)\nItem(name=Note, start=433.5, end=434.0, velocity=92, pitch=65)\nItem(name=Note, start=433.625, end=433.75, velocity=97, pitch=55)\nItem(name=Note, start=433.75, end=433.875, velocity=97, pitch=57)\nItem(name=Note, start=433.875, end=434.0, velocity=97, pitch=55)\nItem(name=Note, start=434.0, end=434.125, velocity=97, pitch=57)\nItem(name=Note, start=434.0, end=435.0, velocity=92, pitch=64)\nItem(name=Note, start=434.0, end=435.0, velocity=92, pitch=67)\nItem(name=Note, start=434.125, end=434.25, velocity=97, pitch=55)\nItem(name=Note, start=434.25, end=434.375, velocity=97, pitch=57)\nItem(name=Note, start=434.375, end=434.5, velocity=97, pitch=55)\nItem(name=Note, start=434.5, end=434.625, velocity=97, pitch=57)\nItem(name=Note, start=434.5, end=435.0, velocity=92, pitch=71)\nItem(name=Note, start=434.625, end=434.75, velocity=97, pitch=55)\nItem(name=Note, start=434.75, end=434.875, velocity=97, pitch=57)\nItem(name=Note, start=434.875, end=435.0, velocity=97, pitch=55)\nItem(name=Note, start=435.0, end=435.125, velocity=97, pitch=57)\nItem(name=Note, start=435.0, end=435.5, velocity=92, pitch=64)\nItem(name=Note, start=435.0, end=435.5, velocity=92, pitch=67)\nItem(name=Note, start=435.125, end=435.25, velocity=97, pitch=55)\nItem(name=Note, start=435.25, end=435.375, velocity=97, pitch=57)\nItem(name=Note, start=435.375, end=435.5, velocity=97, pitch=55)\nItem(name=Note, start=435.5, end=435.625, velocity=97, pitch=57)\nItem(name=Note, start=435.5, end=436.5, velocity=92, pitch=64)\nItem(name=Note, start=435.5, end=436.5, velocity=92, pitch=67)\nItem(name=Note, start=435.625, end=435.75, velocity=97, pitch=55)\nItem(name=Note, start=435.75, end=435.875, velocity=97, pitch=57)\nItem(name=Note, start=435.875, end=436.0, velocity=97, pitch=55)\nItem(name=Note, start=436.0, end=436.125, velocity=97, pitch=57)\nItem(name=Note, start=436.0, end=436.5, velocity=92, pitch=72)\nItem(name=Note, start=436.125, end=436.25, velocity=97, pitch=55)\nItem(name=Note, start=436.25, end=436.375, velocity=97, pitch=57)\nItem(name=Note, start=436.375, end=436.5, velocity=97, pitch=55)\nItem(name=Note, start=436.5, end=436.625, velocity=97, pitch=57)\nItem(name=Note, start=436.5, end=437.0, velocity=92, pitch=64)\nItem(name=Note, start=436.5, end=437.0, velocity=92, pitch=67)\nItem(name=Note, start=436.625, end=436.75, velocity=97, pitch=55)\nItem(name=Note, start=436.75, end=436.875, velocity=97, pitch=57)\nItem(name=Note, start=436.875, end=437.0, velocity=97, pitch=55)\nItem(name=Note, start=437.0, end=437.125, velocity=97, pitch=57)\nItem(name=Note, start=437.0, end=438.0, velocity=92, pitch=62)\nItem(name=Note, start=437.0, end=438.0, velocity=92, pitch=65)\nItem(name=Note, start=437.125, end=437.25, velocity=97, pitch=55)\nItem(name=Note, start=437.25, end=437.375, velocity=97, pitch=57)\nItem(name=Note, start=437.375, end=437.5, velocity=97, pitch=55)\nItem(name=Note, start=437.5, end=437.625, velocity=97, pitch=57)\nItem(name=Note, start=437.5, end=438.0, velocity=92, pitch=72)\nItem(name=Note, start=437.625, end=437.75, velocity=97, pitch=55)\nItem(name=Note, start=437.75, end=437.875, velocity=97, pitch=57)\nItem(name=Note, start=437.875, end=438.0, velocity=97, pitch=55)\nItem(name=Note, start=438.0, end=438.125, velocity=97, pitch=57)\nItem(name=Note, start=438.0, end=438.5, velocity=92, pitch=62)\nItem(name=Note, start=438.0, end=438.5, velocity=92, pitch=65)\nItem(name=Note, start=438.125, end=438.25, velocity=97, pitch=55)\nItem(name=Note, start=438.25, end=438.375, velocity=97, pitch=57)\nItem(name=Note, start=438.375, end=438.5, velocity=97, pitch=55)\nItem(name=Note, start=438.5, end=438.625, velocity=97, pitch=57)\nItem(name=Note, start=438.5, end=439.5, velocity=92, pitch=62)\nItem(name=Note, start=438.5, end=439.5, velocity=92, pitch=66)\nItem(name=Note, start=438.625, end=438.75, velocity=97, pitch=55)\nItem(name=Note, start=438.75, end=438.875, velocity=97, pitch=57)\nItem(name=Note, start=438.875, end=439.0, velocity=97, pitch=55)\nItem(name=Note, start=439.0, end=439.125, velocity=97, pitch=57)\nItem(name=Note, start=439.0, end=439.5, velocity=92, pitch=71)\nItem(name=Note, start=439.125, end=439.25, velocity=97, pitch=55)\nItem(name=Note, start=439.25, end=439.375, velocity=97, pitch=57)\nItem(name=Note, start=439.375, end=439.5, velocity=97, pitch=55)\nItem(name=Note, start=439.5, end=439.625, velocity=97, pitch=57)\nItem(name=Note, start=439.5, end=440.0, velocity=92, pitch=62)\nItem(name=Note, start=439.5, end=440.0, velocity=92, pitch=66)\nItem(name=Note, start=439.625, end=439.75, velocity=97, pitch=55)\nItem(name=Note, start=439.75, end=439.875, velocity=97, pitch=57)\nItem(name=Note, start=439.875, end=440.0, velocity=97, pitch=55)\nItem(name=Note, start=440.0, end=443.0, velocity=97, pitch=55)\nItem(name=Note, start=440.0, end=441.0, velocity=92, pitch=64)\nItem(name=Note, start=440.0, end=441.0, velocity=92, pitch=72)\nItem(name=Note, start=440.5, end=441.0, velocity=92, pitch=67)\nItem(name=Note, start=441.0, end=441.5, velocity=92, pitch=65)\nItem(name=Note, start=441.0, end=441.5, velocity=92, pitch=69)\nItem(name=Note, start=441.0, end=441.5, velocity=92, pitch=74)\nItem(name=Note, start=441.5, end=443.0, velocity=92, pitch=62)\nItem(name=Note, start=441.5, end=443.0, velocity=92, pitch=71)\nItem(name=Note, start=442.0, end=442.5, velocity=92, pitch=64)\nItem(name=Note, start=442.5, end=443.0, velocity=92, pitch=65)\nItem(name=Note, start=443.0, end=446.0, velocity=97, pitch=48)\nItem(name=Note, start=443.0, end=446.0, velocity=97, pitch=55)\nItem(name=Note, start=443.0, end=446.0, velocity=92, pitch=60)\nItem(name=Note, start=443.0, end=446.0, velocity=92, pitch=64)\nItem(name=Note, start=443.0, end=446.0, velocity=92, pitch=72)\n"
    }
   ],
   "source": [
    "print(*note_items, sep='\\n')"
   ]
  },
  {
   "cell_type": "markdown",
   "metadata": {},
   "source": [
    "## 3. extract chord (if needed)"
   ]
  },
  {
   "cell_type": "code",
   "execution_count": 16,
   "metadata": {},
   "outputs": [],
   "source": [
    "chord_items = utils.extract_chords(note_items)"
   ]
  },
  {
   "cell_type": "code",
   "execution_count": 17,
   "metadata": {},
   "outputs": [
    {
     "name": "stdout",
     "output_type": "stream",
     "text": [
      "Item(name=Chord, start=0, end=960, velocity=None, pitch=N:N)\n",
      "Item(name=Chord, start=960, end=2880, velocity=None, pitch=G:maj)\n",
      "Item(name=Chord, start=2880, end=4800, velocity=None, pitch=G:maj)\n",
      "Item(name=Chord, start=4800, end=6720, velocity=None, pitch=C:maj)\n",
      "Item(name=Chord, start=6720, end=8707, velocity=None, pitch=A:min)\n"
     ]
    }
   ],
   "source": [
    "print(*chord_items, sep='\\n')"
   ]
  },
  {
   "cell_type": "markdown",
   "metadata": {},
   "source": [
    "## 4. group items"
   ]
  },
  {
   "cell_type": "code",
   "execution_count": 6,
   "metadata": {},
   "outputs": [
    {
     "output_type": "execute_result",
     "data": {
      "text/plain": "[TimeSignature(numerator=4, denominator=4, time=0),\n TimeSignature(numerator=6, denominator=4, time=260)]"
     },
     "metadata": {},
     "execution_count": 6
    }
   ],
   "source": [
    "midi_obj = miditoolkit.midi.parser.MidiFile('D:/Studia/magisterka/Generated/REMI/sample.mid')\n",
    "midi_obj.time_signature_changes\n",
    "# miditoolkit.midi.containers.TimeSignature(time = 0, numerator=3, denominator=4)"
   ]
  },
  {
   "cell_type": "code",
   "execution_count": 8,
   "metadata": {},
   "outputs": [
    {
     "output_type": "execute_result",
     "data": {
      "text/plain": "247"
     },
     "metadata": {},
     "execution_count": 8
    }
   ],
   "source": [
    "import pickle\n",
    "event2word, word2event = pickle.load(open(r\"D:\\Studia\\magisterka\\Inne projekty\\remi\\REMI-tempo-checkpoint-pk\\dictionary.pkl\", 'rb'))\n",
    "len(event2word)"
   ]
  },
  {
   "cell_type": "code",
   "execution_count": 2,
   "metadata": {},
   "outputs": [
    {
     "output_type": "execute_result",
     "data": {
      "text/plain": "272"
     },
     "metadata": {},
     "execution_count": 2
    }
   ],
   "source": [
    "import utils_pk\n",
    "event2word, word2event = utils_pk.make_map()\n",
    "len(event2word)"
   ]
  },
  {
   "cell_type": "code",
   "execution_count": 1,
   "metadata": {
    "tags": []
   },
   "outputs": [
    {
     "output_type": "stream",
     "name": "stdout",
     "text": "0\n260\n4\n4/4 at 0 ticks\n12/8 at 199680 ticks\n260\n452\n6\n12/8 at 199680 ticks\nNone\n"
    },
    {
     "output_type": "execute_result",
     "data": {
      "text/plain": "97.0, end=397.5, velocity=92, pitch=60),\n  Item(name=Note, start=397.5, end=398.0, velocity=92, pitch=64),\n  398],\n [398,\n  Item(name=Tempo, start=398.0, end=None, velocity=None, pitch=100),\n  Item(name=Note, start=398.0, end=398.5, velocity=97, pitch=60),\n  Item(name=Note, start=398.0, end=398.5, velocity=92, pitch=66),\n  Item(name=Note, start=398.0, end=398.5, velocity=92, pitch=69),\n  Item(name=Note, start=398.5, end=399.0, velocity=92, pitch=62),\n  Item(name=Tempo, start=399.0, end=None, velocity=None, pitch=100),\n  Item(name=Note, start=399.0, end=399.5, velocity=92, pitch=66),\n  Item(name=Note, start=399.5, end=400.0, velocity=97, pitch=59),\n  Item(name=Note, start=399.5, end=400.0, velocity=92, pitch=67),\n  Item(name=Note, start=399.5, end=400.0, velocity=92, pitch=71),\n  Item(name=Tempo, start=400.0, end=None, velocity=None, pitch=100),\n  Item(name=Note, start=400.0, end=400.5, velocity=92, pitch=62),\n  Item(name=Note, start=400.5, end=401.0, velocity=92, pitch=67),\n  Item(name=Tempo, start=401.0, end=None, velocity=None, pitch=100),\n  Item(name=Note, start=401.0, end=401.5, velocity=97, pitch=57),\n  Item(name=Note, start=401.0, end=401.5, velocity=92, pitch=67),\n  Item(name=Note, start=401.0, end=401.5, velocity=92, pitch=72),\n  Item(name=Note, start=401.5, end=402.0, velocity=92, pitch=64),\n  Item(name=Tempo, start=402.0, end=None, velocity=None, pitch=100),\n  Item(name=Note, start=402.0, end=402.5, velocity=92, pitch=67),\n  Item(name=Note, start=402.5, end=403.0, velocity=97, pitch=62),\n  Item(name=Note, start=402.5, end=403.0, velocity=92, pitch=66),\n  Item(name=Note, start=402.5, end=403.0, velocity=92, pitch=72),\n  Item(name=Tempo, start=403.0, end=None, velocity=None, pitch=100),\n  Item(name=Note, start=403.0, end=403.5, velocity=92, pitch=62),\n  Item(name=Note, start=403.5, end=404.0, velocity=92, pitch=66),\n  404],\n [404,\n  Item(name=Tempo, start=404.0, end=None, velocity=None, pitch=100),\n  Item(name=Note, start=404.0, end=404.5, velocity=97, pitch=55),\n  Item(name=Note, start=404.0, end=404.5, velocity=92, pitch=67),\n  Item(name=Note, start=404.0, end=404.5, velocity=92, pitch=71),\n  Item(name=Note, start=404.5, end=405.0, velocity=92, pitch=62),\n  Item(name=Tempo, start=405.0, end=None, velocity=None, pitch=100),\n  Item(name=Note, start=405.0, end=405.5, velocity=92, pitch=67),\n  Item(name=Note, start=405.5, end=406.0, velocity=97, pitch=59),\n  Item(name=Note, start=405.5, end=406.0, velocity=92, pitch=67),\n  Item(name=Note, start=405.5, end=406.0, velocity=92, pitch=74),\n  Item(name=Tempo, start=406.0, end=None, velocity=None, pitch=100),\n  Item(name=Note, start=406.0, end=406.5, velocity=92, pitch=62),\n  Item(name=Note, start=406.5, end=407.0, velocity=92, pitch=67),\n  Item(name=Tempo, start=407.0, end=None, velocity=None, pitch=100),\n  Item(name=Note, start=407.0, end=407.5, velocity=97, pitch=61),\n  Item(name=Note, start=407.0, end=407.5, velocity=92, pitch=67),\n  Item(name=Note, start=407.0, end=407.5, velocity=92, pitch=76),\n  Item(name=Note, start=407.5, end=408.0, velocity=92, pitch=64),\n  Item(name=Tempo, start=408.0, end=None, velocity=None, pitch=100),\n  Item(name=Note, start=408.0, end=408.5, velocity=92, pitch=67),\n  Item(name=Note, start=408.5, end=409.0, velocity=97, pitch=62),\n  Item(name=Note, start=408.5, end=409.0, velocity=92, pitch=66),\n  Item(name=Note, start=408.5, end=409.0, velocity=92, pitch=69),\n  Item(name=Tempo, start=409.0, end=None, velocity=None, pitch=100),\n  Item(name=Note, start=409.0, end=409.5, velocity=92, pitch=64),\n  Item(name=Note, start=409.5, end=410.0, velocity=92, pitch=66),\n  410],\n [410,\n  Item(name=Tempo, start=410.0, end=None, velocity=None, pitch=100),\n  Item(name=Note, start=410.0, end=410.5, velocity=97, pitch=62),\n  Item(name=Note, start=410.0, end=410.5, velocity=92, pitch=68),\n  Item(name=Note, start=410.0, end=410.5, velocity=92, pitch=71),\n  Item(name=Note, start=410.5, end=411.0, velocity=92, pitch=64),\n  Item(name=Tempo, start=411.0, end=None, velocity=None, pitch=100),\n  Item(name=Note, start=411.0, end=411.5, velocity=92, pitch=68),\n  Item(name=Note, start=411.5, end=412.0, velocity=97, pitch=60),\n  Item(name=Note, start=411.5, end=412.0, velocity=92, pitch=69),\n  Item(name=Note, start=411.5, end=412.0, velocity=92, pitch=72),\n  Item(name=Tempo, start=412.0, end=None, velocity=None, pitch=100),\n  Item(name=Note, start=412.0, end=412.5, velocity=92, pitch=64),\n  Item(name=Note, start=412.5, end=413.0, velocity=92, pitch=69),\n  Item(name=Tempo, start=413.0, end=None, velocity=None, pitch=100),\n  Item(name=Note, start=413.0, end=413.5, velocity=97, pitch=59),\n  Item(name=Note, start=413.0, end=413.5, velocity=92, pitch=69),\n  Item(name=Note, start=413.0, end=413.5, velocity=92, pitch=74),\n  Item(name=Note, start=413.5, end=414.0, velocity=92, pitch=68),\n  Item(name=Tempo, start=414.0, end=None, velocity=None, pitch=100),\n  Item(name=Note, start=414.0, end=414.5, velocity=92, pitch=69),\n  Item(name=Note, start=414.5, end=415.0, velocity=97, pitch=64),\n  Item(name=Note, start=414.5, end=415.0, velocity=92, pitch=67),\n  Item(name=Note, start=414.5, end=415.0, velocity=92, pitch=74),\n  Item(name=Tempo, start=415.0, end=None, velocity=None, pitch=100),\n  Item(name=Note, start=415.0, end=415.5, velocity=92, pitch=66),\n  Item(name=Note, start=415.5, end=416.0, velocity=92, pitch=67),\n  416],\n [416,\n  Item(name=Tempo, start=416.0, end=None, velocity=None, pitch=100),\n  Item(name=Note, start=416.0, end=416.5, velocity=97, pitch=57),\n  Item(name=Note, start=416.0, end=416.5, velocity=92, pitch=67),\n  Item(name=Note, start=416.0, end=416.5, velocity=92, pitch=72),\n  Item(name=Note, start=416.5, end=417.0, velocity=92, pitch=66),\n  Item(name=Tempo, start=417.0, end=None, velocity=None, pitch=100),\n  Item(name=Note, start=417.0, end=417.5, velocity=92, pitch=67),\n  Item(name=Note, start=417.5, end=418.0, velocity=97, pitch=62),\n  Item(name=Note, start=417.5, end=418.0, velocity=92, pitch=65),\n  Item(name=Note, start=417.5, end=418.0, velocity=92, pitch=72),\n  Item(name=Tempo, start=418.0, end=None, velocity=None, pitch=100),\n  Item(name=Note, start=418.0, end=418.5, velocity=92, pitch=64),\n  Item(name=Note, start=418.5, end=419.0, velocity=92, pitch=65),\n  Item(name=Tempo, start=419.0, end=None, velocity=None, pitch=100),\n  Item(name=Note, start=419.0, end=419.5, velocity=97, pitch=55),\n  Item(name=Note, start=419.0, end=419.5, velocity=92, pitch=65),\n  Item(name=Note, start=419.0, end=419.5, velocity=92, pitch=71),\n  Item(name=Note, start=419.5, end=420.0, velocity=92, pitch=64),\n  Item(name=Tempo, start=420.0, end=None, velocity=None, pitch=100),\n  Item(name=Note, start=420.0, end=420.5, velocity=92, pitch=65),\n  Item(name=Note, start=420.5, end=421.0, velocity=97, pitch=57),\n  Item(name=Note, start=420.5, end=421.0, velocity=92, pitch=64),\n  Item(name=Note, start=420.5, end=421.0, velocity=92, pitch=72),\n  Item(name=Tempo, start=421.0, end=None, velocity=None, pitch=100),\n  Item(name=Note, start=421.0, end=421.5, velocity=92, pitch=60),\n  Item(name=Note, start=421.5, end=422.0, velocity=92, pitch=64),\n  422],\n [422,\n  Item(name=Tempo, start=422.0, end=None, velocity=None, pitch=100),\n  Item(name=Note, start=422.0, end=422.5, velocity=97, pitch=54),\n  Item(name=Note, start=422.0, end=422.5, velocity=92, pitch=69),\n  Item(name=Note, start=422.0, end=422.5, velocity=92, pitch=72),\n  Item(name=Note, start=422.5, end=423.0, velocity=92, pitch=62),\n  Item(name=Tempo, start=423.0, end=None, velocity=None, pitch=100),\n  Item(name=Note, start=423.0, end=423.5, velocity=92, pitch=69),\n  Item(name=Note, start=423.5, end=424.0, velocity=97, pitch=55),\n  Item(name=Note, start=423.5, end=424.0, velocity=92, pitch=67),\n  Item(name=Note, start=423.5, end=424.0, velocity=92, pitch=71),\n  Item(name=Tempo, start=424.0, end=None, velocity=None, pitch=100),\n  Item(name=Note, start=424.0, end=424.5, velocity=92, pitch=62),\n  Item(name=Note, start=424.5, end=425.0, velocity=92, pitch=67),\n  Item(name=Tempo, start=425.0, end=None, velocity=None, pitch=100),\n  Item(name=Note, start=425.0, end=426.5, velocity=97, pitch=55),\n  Item(name=Note, start=425.0, end=425.5, velocity=92, pitch=69),\n  Item(name=Note, start=425.0, end=425.5, velocity=92, pitch=72),\n  Item(name=Note, start=425.5, end=426.0, velocity=92, pitch=64),\n  Item(name=Tempo, start=426.0, end=None, velocity=None, pitch=100),\n  Item(name=Note, start=426.0, end=426.5, velocity=92, pitch=69),\n  Item(name=Note, start=426.5, end=428.0, velocity=97, pitch=54),\n  Item(name=Note, start=426.5, end=427.0, velocity=92, pitch=69),\n  Item(name=Note, start=426.5, end=427.0, velocity=92, pitch=72),\n  Item(name=Tempo, start=427.0, end=None, velocity=None, pitch=100),\n  Item(name=Note, start=427.0, end=427.5, velocity=92, pitch=62),\n  Item(name=Note, start=427.5, end=428.0, velocity=92, pitch=69),\n  428],\n [428,\n  Item(name=Tempo, start=428.0, end=None, velocity=None, pitch=96),\n  Item(name=Note, start=428.0, end=428.125, velocity=97, pitch=57),\n  Item(name=Note, start=428.0, end=428.5, velocity=92, pitch=67),\n  Item(name=Note, start=428.0, end=428.5, velocity=92, pitch=72),\n  Item(name=Note, start=428.125, end=428.25, velocity=97, pitch=55),\n  Item(name=Note, start=428.25, end=428.375, velocity=97, pitch=57),\n  Item(name=Note, start=428.375, end=428.5, velocity=97, pitch=55),\n  Item(name=Note, start=428.5, end=428.625, velocity=97, pitch=57),\n  Item(name=Note, start=428.5, end=429.0, velocity=92, pitch=64),\n  Item(name=Note, start=428.625, end=428.75, velocity=97, pitch=55),\n  Item(name=Note, start=428.75, end=428.875, velocity=97, pitch=57),\n  Item(name=Note, start=428.875, end=429.0, velocity=97, pitch=55),\n  Item(name=Tempo, start=429.0, end=None, velocity=None, pitch=96),\n  Item(name=Note, start=429.0, end=429.125, velocity=97, pitch=57),\n  Item(name=Note, start=429.0, end=429.5, velocity=92, pitch=67),\n  Item(name=Note, start=429.125, end=429.25, velocity=97, pitch=55),\n  Item(name=Note, start=429.25, end=429.375, velocity=97, pitch=57),\n  Item(name=Note, start=429.375, end=429.5, velocity=97, pitch=55),\n  Item(name=Note, start=429.5, end=429.625, velocity=97, pitch=57),\n  Item(name=Note, start=429.5, end=430.0, velocity=92, pitch=67),\n  Item(name=Note, start=429.5, end=430.0, velocity=92, pitch=72),\n  Item(name=Note, start=429.625, end=429.75, velocity=97, pitch=55),\n  Item(name=Note, start=429.75, end=429.875, velocity=97, pitch=57),\n  Item(name=Note, start=429.875, end=430.0, velocity=97, pitch=55),\n  Item(name=Tempo, start=430.0, end=None, velocity=None, pitch=96),\n  Item(name=Note, start=430.0, end=430.125, velocity=97, pitch=57),\n  Item(name=Note, start=430.0, end=430.5, velocity=92, pitch=64),\n  Item(name=Note, start=430.125, end=430.25, velocity=97, pitch=55),\n  Item(name=Note, start=430.25, end=430.375, velocity=97, pitch=57),\n  Item(name=Note, start=430.375, end=430.5, velocity=97, pitch=55),\n  Item(name=Note, start=430.5, end=430.625, velocity=97, pitch=57),\n  Item(name=Note, start=430.5, end=431.0, velocity=92, pitch=67),\n  Item(name=Note, start=430.625, end=430.75, velocity=97, pitch=55),\n  Item(name=Note, start=430.75, end=430.875, velocity=97, pitch=57),\n  Item(name=Note, start=430.875, end=431.0, velocity=97, pitch=55),\n  Item(name=Tempo, start=431.0, end=None, velocity=None, pitch=96),\n  Item(name=Note, start=431.0, end=431.125, velocity=97, pitch=57),\n  Item(name=Note, start=431.0, end=431.5, velocity=92, pitch=67),\n  Item(name=Note, start=431.0, end=431.5, velocity=92, pitch=72),\n  Item(name=Note, start=431.125, end=431.25, velocity=97, pitch=55),\n  Item(name=Note, start=431.25, end=431.375, velocity=97, pitch=57),\n  Item(name=Note, start=431.375, end=431.5, velocity=97, pitch=55),\n  Item(name=Note, start=431.5, end=431.625, velocity=97, pitch=57),\n  Item(name=Note, start=431.5, end=432.0, velocity=92, pitch=62),\n  Item(name=Note, start=431.625, end=431.75, velocity=97, pitch=55),\n  Item(name=Note, start=431.75, end=431.875, velocity=97, pitch=57),\n  Item(name=Note, start=431.875, end=432.0, velocity=97, pitch=55),\n  Item(name=Tempo, start=432.0, end=None, velocity=None, pitch=96),\n  Item(name=Note, start=432.0, end=432.125, velocity=97, pitch=57),\n  Item(name=Note, start=432.0, end=432.5, velocity=92, pitch=67),\n  Item(name=Note, start=432.125, end=432.25, velocity=97, pitch=55),\n  Item(name=Note, start=432.25, end=432.375, velocity=97, pitch=57),\n  Item(name=Note, start=432.375, end=432.5, velocity=97, pitch=55),\n  Item(name=Note, start=432.5, end=432.625, velocity=97, pitch=57),\n  Item(name=Note, start=432.5, end=433.0, velocity=92, pitch=67),\n  Item(name=Note, start=432.5, end=433.0, velocity=92, pitch=71),\n  Item(name=Note, start=432.625, end=432.75, velocity=97, pitch=55),\n  Item(name=Note, start=432.75, end=432.875, velocity=97, pitch=57),\n  Item(name=Note, start=432.875, end=433.0, velocity=97, pitch=55),\n  Item(name=Tempo, start=433.0, end=None, velocity=None, pitch=96),\n  Item(name=Note, start=433.0, end=433.125, velocity=97, pitch=57),\n  Item(name=Note, start=433.0, end=433.5, velocity=92, pitch=62),\n  Item(name=Note, start=433.125, end=433.25, velocity=97, pitch=55),\n  Item(name=Note, start=433.25, end=433.375, velocity=97, pitch=57),\n  Item(name=Note, start=433.375, end=433.5, velocity=97, pitch=55),\n  Item(name=Note, start=433.5, end=433.625, velocity=97, pitch=57),\n  Item(name=Note, start=433.5, end=434.0, velocity=92, pitch=65),\n  Item(name=Note, start=433.625, end=433.75, velocity=97, pitch=55),\n  Item(name=Note, start=433.75, end=433.875, velocity=97, pitch=57),\n  Item(name=Note, start=433.875, end=434.0, velocity=97, pitch=55),\n  434],\n [434,\n  Item(name=Tempo, start=434.0, end=None, velocity=None, pitch=92),\n  Item(name=Note, start=434.0, end=434.125, velocity=97, pitch=57),\n  Item(name=Note, start=434.0, end=435.0, velocity=92, pitch=64),\n  Item(name=Note, start=434.0, end=435.0, velocity=92, pitch=67),\n  Item(name=Note, start=434.125, end=434.25, velocity=97, pitch=55),\n  Item(name=Note, start=434.25, end=434.375, velocity=97, pitch=57),\n  Item(name=Note, start=434.375, end=434.5, velocity=97, pitch=55),\n  Item(name=Note, start=434.5, end=434.625, velocity=97, pitch=57),\n  Item(name=Note, start=434.5, end=435.0, velocity=92, pitch=71),\n  Item(name=Note, start=434.625, end=434.75, velocity=97, pitch=55),\n  Item(name=Note, start=434.75, end=434.875, velocity=97, pitch=57),\n  Item(name=Note, start=434.875, end=435.0, velocity=97, pitch=55),\n  Item(name=Tempo, start=435.0, end=None, velocity=None, pitch=92),\n  Item(name=Note, start=435.0, end=435.125, velocity=97, pitch=57),\n  Item(name=Note, start=435.0, end=435.5, velocity=92, pitch=64),\n  Item(name=Note, start=435.0, end=435.5, velocity=92, pitch=67),\n  Item(name=Note, start=435.125, end=435.25, velocity=97, pitch=55),\n  Item(name=Note, start=435.25, end=435.375, velocity=97, pitch=57),\n  Item(name=Note, start=435.375, end=435.5, velocity=97, pitch=55),\n  Item(name=Note, start=435.5, end=435.625, velocity=97, pitch=57),\n  Item(name=Note, start=435.5, end=436.5, velocity=92, pitch=64),\n  Item(name=Note, start=435.5, end=436.5, velocity=92, pitch=67),\n  Item(name=Note, start=435.625, end=435.75, velocity=97, pitch=55),\n  Item(name=Note, start=435.75, end=435.875, velocity=97, pitch=57),\n  Item(name=Note, start=435.875, end=436.0, velocity=97, pitch=55),\n  Item(name=Tempo, start=436.0, end=None, velocity=None, pitch=92),\n  Item(name=Note, start=436.0, end=436.125, velocity=97, pitch=57),\n  Item(name=Note, start=436.0, end=436.5, velocity=92, pitch=72),\n  Item(name=Note, start=436.125, end=436.25, velocity=97, pitch=55),\n  Item(name=Note, start=436.25, end=436.375, velocity=97, pitch=57),\n  Item(name=Note, start=436.375, end=436.5, velocity=97, pitch=55),\n  Item(name=Note, start=436.5, end=436.625, velocity=97, pitch=57),\n  Item(name=Note, start=436.5, end=437.0, velocity=92, pitch=64),\n  Item(name=Note, start=436.5, end=437.0, velocity=92, pitch=67),\n  Item(name=Note, start=436.625, end=436.75, velocity=97, pitch=55),\n  Item(name=Note, start=436.75, end=436.875, velocity=97, pitch=57),\n  Item(name=Note, start=436.875, end=437.0, velocity=97, pitch=55),\n  Item(name=Tempo, start=437.0, end=None, velocity=None, pitch=92),\n  Item(name=Note, start=437.0, end=437.125, velocity=97, pitch=57),\n  Item(name=Note, start=437.0, end=438.0, velocity=92, pitch=62),\n  Item(name=Note, start=437.0, end=438.0, velocity=92, pitch=65),\n  Item(name=Note, start=437.125, end=437.25, velocity=97, pitch=55),\n  Item(name=Note, start=437.25, end=437.375, velocity=97, pitch=57),\n  Item(name=Note, start=437.375, end=437.5, velocity=97, pitch=55),\n  Item(name=Note, start=437.5, end=437.625, velocity=97, pitch=57),\n  Item(name=Note, start=437.5, end=438.0, velocity=92, pitch=72),\n  Item(name=Note, start=437.625, end=437.75, velocity=97, pitch=55),\n  Item(name=Note, start=437.75, end=437.875, velocity=97, pitch=57),\n  Item(name=Note, start=437.875, end=438.0, velocity=97, pitch=55),\n  Item(name=Tempo, start=438.0, end=None, velocity=None, pitch=92),\n  Item(name=Note, start=438.0, end=438.125, velocity=97, pitch=57),\n  Item(name=Note, start=438.0, end=438.5, velocity=92, pitch=62),\n  Item(name=Note, start=438.0, end=438.5, velocity=92, pitch=65),\n  Item(name=Note, start=438.125, end=438.25, velocity=97, pitch=55),\n  Item(name=Note, start=438.25, end=438.375, velocity=97, pitch=57),\n  Item(name=Note, start=438.375, end=438.5, velocity=97, pitch=55),\n  Item(name=Note, start=438.5, end=438.625, velocity=97, pitch=57),\n  Item(name=Note, start=438.5, end=439.5, velocity=92, pitch=62),\n  Item(name=Note, start=438.5, end=439.5, velocity=92, pitch=66),\n  Item(name=Note, start=438.625, end=438.75, velocity=97, pitch=55),\n  Item(name=Note, start=438.75, end=438.875, velocity=97, pitch=57),\n  Item(name=Note, start=438.875, end=439.0, velocity=97, pitch=55),\n  Item(name=Tempo, start=439.0, end=None, velocity=None, pitch=92),\n  Item(name=Note, start=439.0, end=439.125, velocity=97, pitch=57),\n  Item(name=Note, start=439.0, end=439.5, velocity=92, pitch=71),\n  Item(name=Note, start=439.125, end=439.25, velocity=97, pitch=55),\n  Item(name=Note, start=439.25, end=439.375, velocity=97, pitch=57),\n  Item(name=Note, start=439.375, end=439.5, velocity=97, pitch=55),\n  Item(name=Note, start=439.5, end=439.625, velocity=97, pitch=57),\n  Item(name=Note, start=439.5, end=440.0, velocity=92, pitch=62),\n  Item(name=Note, start=439.5, end=440.0, velocity=92, pitch=66),\n  Item(name=Note, start=439.625, end=439.75, velocity=97, pitch=55),\n  Item(name=Note, start=439.75, end=439.875, velocity=97, pitch=57),\n  Item(name=Note, start=439.875, end=440.0, velocity=97, pitch=55),\n  440],\n [440,\n  Item(name=Tempo, start=440.0, end=None, velocity=None, pitch=88),\n  Item(name=Note, start=440.0, end=443.0, velocity=97, pitch=55),\n  Item(name=Note, start=440.0, end=441.0, velocity=92, pitch=64),\n  Item(name=Note, start=440.0, end=441.0, velocity=92, pitch=72),\n  Item(name=Note, start=440.5, end=441.0, velocity=92, pitch=67),\n  Item(name=Tempo, start=441.0, end=None, velocity=None, pitch=88),\n  Item(name=Note, start=441.0, end=441.5, velocity=92, pitch=65),\n  Item(name=Note, start=441.0, end=441.5, velocity=92, pitch=69),\n  Item(name=Note, start=441.0, end=441.5, velocity=92, pitch=74),\n  Item(name=Note, start=441.5, end=443.0, velocity=92, pitch=62),\n  Item(name=Note, start=441.5, end=443.0, velocity=92, pitch=71),\n  Item(name=Tempo, start=442.0, end=None, velocity=None, pitch=88),\n  Item(name=Note, start=442.0, end=442.5, velocity=92, pitch=64),\n  Item(name=Note, start=442.5, end=443.0, velocity=92, pitch=65),\n  Item(name=Tempo, start=443.0, end=None, velocity=None, pitch=40),\n  Item(name=Note, start=443.0, end=446.0, velocity=97, pitch=48),\n  Item(name=Note, start=443.0, end=446.0, velocity=97, pitch=55),\n  Item(name=Note, start=443.0, end=446.0, velocity=92, pitch=60),\n  Item(name=Note, start=443.0, end=446.0, velocity=92, pitch=64),\n  Item(name=Note, start=443.0, end=446.0, velocity=92, pitch=72),\n  446]]"
     },
     "metadata": {},
     "execution_count": 1
    }
   ],
   "source": [
    "# chord_items\n",
    "import miditoolkit\n",
    "import utils_pk\n",
    "\n",
    "midi_obj = miditoolkit.midi.parser.MidiFile('D:/Studia/magisterka/Pliki midi/Classical Archives - The Greats (MIDI Library)/Classical Archives - The Greats (MIDI)\\\\Buxethude Buxwv136 Prelude.mid')\n",
    "note_items, tempo_items = utils_pk.read_items(midi_obj)\n",
    "note_items = utils_pk.quantize_items(note_items)\n",
    "\n",
    "items = tempo_items + note_items\n",
    "max_time = note_items[-1].end\n",
    "groups = utils_pk.group_items(items, max_time, midi_obj.ticks_per_beat, time_signature_changes = midi_obj.time_signature_changes)\n",
    "groups"
   ]
  },
  {
   "cell_type": "code",
   "execution_count": 2,
   "metadata": {
    "tags": [
     "outputPrepend"
    ]
   },
   "outputs": [
    {
     "output_type": "stream",
     "name": "stdout",
     "text": "art=381.5, end=383.0, velocity=97, pitch=56)\nItem(name=Note, start=381.5, end=383.0, velocity=92, pitch=64)\nItem(name=Note, start=382.0, end=382.5, velocity=92, pitch=72)\nItem(name=Note, start=382.5, end=383.0, velocity=92, pitch=71)\nItem(name=Note, start=383.0, end=384.0, velocity=97, pitch=57)\nItem(name=Note, start=383.0, end=383.5, velocity=92, pitch=64)\nItem(name=Note, start=383.0, end=384.5, velocity=92, pitch=72)\nItem(name=Note, start=383.5, end=385.5, velocity=92, pitch=69)\nItem(name=Note, start=384.0, end=384.5, velocity=97, pitch=60)\nItem(name=Note, start=384.5, end=385.0, velocity=97, pitch=62)\nItem(name=Note, start=384.5, end=386.0, velocity=92, pitch=71)\nItem(name=Note, start=385.0, end=385.5, velocity=97, pitch=59)\nItem(name=Note, start=385.5, end=386.0, velocity=97, pitch=64)\nItem(name=Note, start=385.5, end=386.0, velocity=92, pitch=68)\n386\n\n386\nItem(name=Tempo, start=386.0, end=None, velocity=None, pitch=100)\nItem(name=Note, start=386.0, end=386.5, velocity=97, pitch=57)\nItem(name=Note, start=386.0, end=386.5, velocity=92, pitch=69)\nItem(name=Note, start=386.0, end=386.5, velocity=92, pitch=72)\nItem(name=Note, start=386.5, end=387.0, velocity=92, pitch=64)\nItem(name=Note, start=387.0, end=387.5, velocity=92, pitch=69)\nItem(name=Note, start=387.5, end=388.0, velocity=97, pitch=60)\nItem(name=Note, start=387.5, end=388.0, velocity=92, pitch=69)\nItem(name=Note, start=387.5, end=388.0, velocity=92, pitch=72)\nItem(name=Note, start=388.0, end=388.5, velocity=92, pitch=64)\nItem(name=Note, start=388.5, end=389.0, velocity=92, pitch=69)\nItem(name=Note, start=389.0, end=389.5, velocity=97, pitch=62)\nItem(name=Note, start=389.0, end=389.5, velocity=92, pitch=69)\nItem(name=Note, start=389.0, end=389.5, velocity=92, pitch=71)\nItem(name=Note, start=389.5, end=390.0, velocity=92, pitch=65)\nItem(name=Note, start=390.0, end=390.5, velocity=92, pitch=69)\nItem(name=Note, start=390.5, end=391.0, velocity=97, pitch=64)\nItem(name=Note, start=390.5, end=391.0, velocity=92, pitch=67)\nItem(name=Note, start=390.5, end=391.0, velocity=92, pitch=71)\nItem(name=Note, start=391.0, end=391.5, velocity=92, pitch=64)\nItem(name=Note, start=391.5, end=392.0, velocity=92, pitch=67)\n392\n\n392\nItem(name=Tempo, start=392.0, end=None, velocity=None, pitch=100)\nItem(name=Note, start=392.0, end=392.5, velocity=97, pitch=61)\nItem(name=Note, start=392.0, end=392.5, velocity=92, pitch=67)\nItem(name=Note, start=392.0, end=392.5, velocity=92, pitch=69)\nItem(name=Note, start=392.5, end=393.0, velocity=92, pitch=64)\nItem(name=Note, start=393.0, end=393.5, velocity=92, pitch=67)\nItem(name=Note, start=393.5, end=394.0, velocity=97, pitch=62)\nItem(name=Note, start=393.5, end=394.0, velocity=92, pitch=65)\nItem(name=Note, start=393.5, end=394.0, velocity=92, pitch=69)\nItem(name=Note, start=394.0, end=394.5, velocity=92, pitch=62)\nItem(name=Note, start=394.5, end=395.0, velocity=92, pitch=65)\nItem(name=Note, start=395.0, end=395.5, velocity=97, pitch=59)\nItem(name=Note, start=395.0, end=395.5, velocity=92, pitch=65)\nItem(name=Note, start=395.0, end=395.5, velocity=92, pitch=67)\nItem(name=Note, start=395.5, end=396.0, velocity=92, pitch=62)\nItem(name=Note, start=396.0, end=396.5, velocity=92, pitch=65)\nItem(name=Note, start=396.5, end=397.0, velocity=97, pitch=60)\nItem(name=Note, start=396.5, end=397.0, velocity=92, pitch=64)\nItem(name=Note, start=396.5, end=397.0, velocity=92, pitch=67)\nItem(name=Note, start=397.0, end=397.5, velocity=92, pitch=60)\nItem(name=Note, start=397.5, end=398.0, velocity=92, pitch=64)\n398\n\n398\nItem(name=Tempo, start=398.0, end=None, velocity=None, pitch=100)\nItem(name=Note, start=398.0, end=398.5, velocity=97, pitch=60)\nItem(name=Note, start=398.0, end=398.5, velocity=92, pitch=66)\nItem(name=Note, start=398.0, end=398.5, velocity=92, pitch=69)\nItem(name=Note, start=398.5, end=399.0, velocity=92, pitch=62)\nItem(name=Note, start=399.0, end=399.5, velocity=92, pitch=66)\nItem(name=Note, start=399.5, end=400.0, velocity=97, pitch=59)\nItem(name=Note, start=399.5, end=400.0, velocity=92, pitch=67)\nItem(name=Note, start=399.5, end=400.0, velocity=92, pitch=71)\nItem(name=Note, start=400.0, end=400.5, velocity=92, pitch=62)\nItem(name=Note, start=400.5, end=401.0, velocity=92, pitch=67)\nItem(name=Note, start=401.0, end=401.5, velocity=97, pitch=57)\nItem(name=Note, start=401.0, end=401.5, velocity=92, pitch=67)\nItem(name=Note, start=401.0, end=401.5, velocity=92, pitch=72)\nItem(name=Note, start=401.5, end=402.0, velocity=92, pitch=64)\nItem(name=Note, start=402.0, end=402.5, velocity=92, pitch=67)\nItem(name=Note, start=402.5, end=403.0, velocity=97, pitch=62)\nItem(name=Note, start=402.5, end=403.0, velocity=92, pitch=66)\nItem(name=Note, start=402.5, end=403.0, velocity=92, pitch=72)\nItem(name=Note, start=403.0, end=403.5, velocity=92, pitch=62)\nItem(name=Note, start=403.5, end=404.0, velocity=92, pitch=66)\n404\n\n404\nItem(name=Tempo, start=404.0, end=None, velocity=None, pitch=100)\nItem(name=Note, start=404.0, end=404.5, velocity=97, pitch=55)\nItem(name=Note, start=404.0, end=404.5, velocity=92, pitch=67)\nItem(name=Note, start=404.0, end=404.5, velocity=92, pitch=71)\nItem(name=Note, start=404.5, end=405.0, velocity=92, pitch=62)\nItem(name=Note, start=405.0, end=405.5, velocity=92, pitch=67)\nItem(name=Note, start=405.5, end=406.0, velocity=97, pitch=59)\nItem(name=Note, start=405.5, end=406.0, velocity=92, pitch=67)\nItem(name=Note, start=405.5, end=406.0, velocity=92, pitch=74)\nItem(name=Note, start=406.0, end=406.5, velocity=92, pitch=62)\nItem(name=Note, start=406.5, end=407.0, velocity=92, pitch=67)\nItem(name=Note, start=407.0, end=407.5, velocity=97, pitch=61)\nItem(name=Note, start=407.0, end=407.5, velocity=92, pitch=67)\nItem(name=Note, start=407.0, end=407.5, velocity=92, pitch=76)\nItem(name=Note, start=407.5, end=408.0, velocity=92, pitch=64)\nItem(name=Note, start=408.0, end=408.5, velocity=92, pitch=67)\nItem(name=Note, start=408.5, end=409.0, velocity=97, pitch=62)\nItem(name=Note, start=408.5, end=409.0, velocity=92, pitch=66)\nItem(name=Note, start=408.5, end=409.0, velocity=92, pitch=69)\nItem(name=Note, start=409.0, end=409.5, velocity=92, pitch=64)\nItem(name=Note, start=409.5, end=410.0, velocity=92, pitch=66)\n410\n\n410\nItem(name=Tempo, start=410.0, end=None, velocity=None, pitch=100)\nItem(name=Note, start=410.0, end=410.5, velocity=97, pitch=62)\nItem(name=Note, start=410.0, end=410.5, velocity=92, pitch=68)\nItem(name=Note, start=410.0, end=410.5, velocity=92, pitch=71)\nItem(name=Note, start=410.5, end=411.0, velocity=92, pitch=64)\nItem(name=Note, start=411.0, end=411.5, velocity=92, pitch=68)\nItem(name=Note, start=411.5, end=412.0, velocity=97, pitch=60)\nItem(name=Note, start=411.5, end=412.0, velocity=92, pitch=69)\nItem(name=Note, start=411.5, end=412.0, velocity=92, pitch=72)\nItem(name=Note, start=412.0, end=412.5, velocity=92, pitch=64)\nItem(name=Note, start=412.5, end=413.0, velocity=92, pitch=69)\nItem(name=Note, start=413.0, end=413.5, velocity=97, pitch=59)\nItem(name=Note, start=413.0, end=413.5, velocity=92, pitch=69)\nItem(name=Note, start=413.0, end=413.5, velocity=92, pitch=74)\nItem(name=Note, start=413.5, end=414.0, velocity=92, pitch=68)\nItem(name=Note, start=414.0, end=414.5, velocity=92, pitch=69)\nItem(name=Note, start=414.5, end=415.0, velocity=97, pitch=64)\nItem(name=Note, start=414.5, end=415.0, velocity=92, pitch=67)\nItem(name=Note, start=414.5, end=415.0, velocity=92, pitch=74)\nItem(name=Note, start=415.0, end=415.5, velocity=92, pitch=66)\nItem(name=Note, start=415.5, end=416.0, velocity=92, pitch=67)\n416\n\n416\nItem(name=Tempo, start=416.0, end=None, velocity=None, pitch=100)\nItem(name=Note, start=416.0, end=416.5, velocity=97, pitch=57)\nItem(name=Note, start=416.0, end=416.5, velocity=92, pitch=67)\nItem(name=Note, start=416.0, end=416.5, velocity=92, pitch=72)\nItem(name=Note, start=416.5, end=417.0, velocity=92, pitch=66)\nItem(name=Note, start=417.0, end=417.5, velocity=92, pitch=67)\nItem(name=Note, start=417.5, end=418.0, velocity=97, pitch=62)\nItem(name=Note, start=417.5, end=418.0, velocity=92, pitch=65)\nItem(name=Note, start=417.5, end=418.0, velocity=92, pitch=72)\nItem(name=Note, start=418.0, end=418.5, velocity=92, pitch=64)\nItem(name=Note, start=418.5, end=419.0, velocity=92, pitch=65)\nItem(name=Note, start=419.0, end=419.5, velocity=97, pitch=55)\nItem(name=Note, start=419.0, end=419.5, velocity=92, pitch=65)\nItem(name=Note, start=419.0, end=419.5, velocity=92, pitch=71)\nItem(name=Note, start=419.5, end=420.0, velocity=92, pitch=64)\nItem(name=Note, start=420.0, end=420.5, velocity=92, pitch=65)\nItem(name=Note, start=420.5, end=421.0, velocity=97, pitch=57)\nItem(name=Note, start=420.5, end=421.0, velocity=92, pitch=64)\nItem(name=Note, start=420.5, end=421.0, velocity=92, pitch=72)\nItem(name=Note, start=421.0, end=421.5, velocity=92, pitch=60)\nItem(name=Note, start=421.5, end=422.0, velocity=92, pitch=64)\n422\n\n422\nItem(name=Tempo, start=422.0, end=None, velocity=None, pitch=100)\nItem(name=Note, start=422.0, end=422.5, velocity=97, pitch=54)\nItem(name=Note, start=422.0, end=422.5, velocity=92, pitch=69)\nItem(name=Note, start=422.0, end=422.5, velocity=92, pitch=72)\nItem(name=Note, start=422.5, end=423.0, velocity=92, pitch=62)\nItem(name=Note, start=423.0, end=423.5, velocity=92, pitch=69)\nItem(name=Note, start=423.5, end=424.0, velocity=97, pitch=55)\nItem(name=Note, start=423.5, end=424.0, velocity=92, pitch=67)\nItem(name=Note, start=423.5, end=424.0, velocity=92, pitch=71)\nItem(name=Note, start=424.0, end=424.5, velocity=92, pitch=62)\nItem(name=Note, start=424.5, end=425.0, velocity=92, pitch=67)\nItem(name=Note, start=425.0, end=426.5, velocity=97, pitch=55)\nItem(name=Note, start=425.0, end=425.5, velocity=92, pitch=69)\nItem(name=Note, start=425.0, end=425.5, velocity=92, pitch=72)\nItem(name=Note, start=425.5, end=426.0, velocity=92, pitch=64)\nItem(name=Note, start=426.0, end=426.5, velocity=92, pitch=69)\nItem(name=Note, start=426.5, end=428.0, velocity=97, pitch=54)\nItem(name=Note, start=426.5, end=427.0, velocity=92, pitch=69)\nItem(name=Note, start=426.5, end=427.0, velocity=92, pitch=72)\nItem(name=Note, start=427.0, end=427.5, velocity=92, pitch=62)\nItem(name=Note, start=427.5, end=428.0, velocity=92, pitch=69)\n428\n\n428\nItem(name=Tempo, start=428.0, end=None, velocity=None, pitch=96)\nItem(name=Note, start=428.0, end=428.125, velocity=97, pitch=57)\nItem(name=Note, start=428.0, end=428.5, velocity=92, pitch=67)\nItem(name=Note, start=428.0, end=428.5, velocity=92, pitch=72)\nItem(name=Note, start=428.125, end=428.25, velocity=97, pitch=55)\nItem(name=Note, start=428.25, end=428.375, velocity=97, pitch=57)\nItem(name=Note, start=428.375, end=428.5, velocity=97, pitch=55)\nItem(name=Note, start=428.5, end=428.625, velocity=97, pitch=57)\nItem(name=Note, start=428.5, end=429.0, velocity=92, pitch=64)\nItem(name=Note, start=428.625, end=428.75, velocity=97, pitch=55)\nItem(name=Note, start=428.75, end=428.875, velocity=97, pitch=57)\nItem(name=Note, start=428.875, end=429.0, velocity=97, pitch=55)\nItem(name=Note, start=429.0, end=429.125, velocity=97, pitch=57)\nItem(name=Note, start=429.0, end=429.5, velocity=92, pitch=67)\nItem(name=Note, start=429.125, end=429.25, velocity=97, pitch=55)\nItem(name=Note, start=429.25, end=429.375, velocity=97, pitch=57)\nItem(name=Note, start=429.375, end=429.5, velocity=97, pitch=55)\nItem(name=Note, start=429.5, end=429.625, velocity=97, pitch=57)\nItem(name=Note, start=429.5, end=430.0, velocity=92, pitch=67)\nItem(name=Note, start=429.5, end=430.0, velocity=92, pitch=72)\nItem(name=Note, start=429.625, end=429.75, velocity=97, pitch=55)\nItem(name=Note, start=429.75, end=429.875, velocity=97, pitch=57)\nItem(name=Note, start=429.875, end=430.0, velocity=97, pitch=55)\nItem(name=Note, start=430.0, end=430.125, velocity=97, pitch=57)\nItem(name=Note, start=430.0, end=430.5, velocity=92, pitch=64)\nItem(name=Note, start=430.125, end=430.25, velocity=97, pitch=55)\nItem(name=Note, start=430.25, end=430.375, velocity=97, pitch=57)\nItem(name=Note, start=430.375, end=430.5, velocity=97, pitch=55)\nItem(name=Note, start=430.5, end=430.625, velocity=97, pitch=57)\nItem(name=Note, start=430.5, end=431.0, velocity=92, pitch=67)\nItem(name=Note, start=430.625, end=430.75, velocity=97, pitch=55)\nItem(name=Note, start=430.75, end=430.875, velocity=97, pitch=57)\nItem(name=Note, start=430.875, end=431.0, velocity=97, pitch=55)\nItem(name=Note, start=431.0, end=431.125, velocity=97, pitch=57)\nItem(name=Note, start=431.0, end=431.5, velocity=92, pitch=67)\nItem(name=Note, start=431.0, end=431.5, velocity=92, pitch=72)\nItem(name=Note, start=431.125, end=431.25, velocity=97, pitch=55)\nItem(name=Note, start=431.25, end=431.375, velocity=97, pitch=57)\nItem(name=Note, start=431.375, end=431.5, velocity=97, pitch=55)\nItem(name=Note, start=431.5, end=431.625, velocity=97, pitch=57)\nItem(name=Note, start=431.5, end=432.0, velocity=92, pitch=62)\nItem(name=Note, start=431.625, end=431.75, velocity=97, pitch=55)\nItem(name=Note, start=431.75, end=431.875, velocity=97, pitch=57)\nItem(name=Note, start=431.875, end=432.0, velocity=97, pitch=55)\nItem(name=Note, start=432.0, end=432.125, velocity=97, pitch=57)\nItem(name=Note, start=432.0, end=432.5, velocity=92, pitch=67)\nItem(name=Note, start=432.125, end=432.25, velocity=97, pitch=55)\nItem(name=Note, start=432.25, end=432.375, velocity=97, pitch=57)\nItem(name=Note, start=432.375, end=432.5, velocity=97, pitch=55)\nItem(name=Note, start=432.5, end=432.625, velocity=97, pitch=57)\nItem(name=Note, start=432.5, end=433.0, velocity=92, pitch=67)\nItem(name=Note, start=432.5, end=433.0, velocity=92, pitch=71)\nItem(name=Note, start=432.625, end=432.75, velocity=97, pitch=55)\nItem(name=Note, start=432.75, end=432.875, velocity=97, pitch=57)\nItem(name=Note, start=432.875, end=433.0, velocity=97, pitch=55)\nItem(name=Note, start=433.0, end=433.125, velocity=97, pitch=57)\nItem(name=Note, start=433.0, end=433.5, velocity=92, pitch=62)\nItem(name=Note, start=433.125, end=433.25, velocity=97, pitch=55)\nItem(name=Note, start=433.25, end=433.375, velocity=97, pitch=57)\nItem(name=Note, start=433.375, end=433.5, velocity=97, pitch=55)\nItem(name=Note, start=433.5, end=433.625, velocity=97, pitch=57)\nItem(name=Note, start=433.5, end=434.0, velocity=92, pitch=65)\nItem(name=Note, start=433.625, end=433.75, velocity=97, pitch=55)\nItem(name=Note, start=433.75, end=433.875, velocity=97, pitch=57)\nItem(name=Note, start=433.875, end=434.0, velocity=97, pitch=55)\n434\n\n434\nItem(name=Tempo, start=434.0, end=None, velocity=None, pitch=92)\nItem(name=Note, start=434.0, end=434.125, velocity=97, pitch=57)\nItem(name=Note, start=434.0, end=435.0, velocity=92, pitch=64)\nItem(name=Note, start=434.0, end=435.0, velocity=92, pitch=67)\nItem(name=Note, start=434.125, end=434.25, velocity=97, pitch=55)\nItem(name=Note, start=434.25, end=434.375, velocity=97, pitch=57)\nItem(name=Note, start=434.375, end=434.5, velocity=97, pitch=55)\nItem(name=Note, start=434.5, end=434.625, velocity=97, pitch=57)\nItem(name=Note, start=434.5, end=435.0, velocity=92, pitch=71)\nItem(name=Note, start=434.625, end=434.75, velocity=97, pitch=55)\nItem(name=Note, start=434.75, end=434.875, velocity=97, pitch=57)\nItem(name=Note, start=434.875, end=435.0, velocity=97, pitch=55)\nItem(name=Note, start=435.0, end=435.125, velocity=97, pitch=57)\nItem(name=Note, start=435.0, end=435.5, velocity=92, pitch=64)\nItem(name=Note, start=435.0, end=435.5, velocity=92, pitch=67)\nItem(name=Note, start=435.125, end=435.25, velocity=97, pitch=55)\nItem(name=Note, start=435.25, end=435.375, velocity=97, pitch=57)\nItem(name=Note, start=435.375, end=435.5, velocity=97, pitch=55)\nItem(name=Note, start=435.5, end=435.625, velocity=97, pitch=57)\nItem(name=Note, start=435.5, end=436.5, velocity=92, pitch=64)\nItem(name=Note, start=435.5, end=436.5, velocity=92, pitch=67)\nItem(name=Note, start=435.625, end=435.75, velocity=97, pitch=55)\nItem(name=Note, start=435.75, end=435.875, velocity=97, pitch=57)\nItem(name=Note, start=435.875, end=436.0, velocity=97, pitch=55)\nItem(name=Note, start=436.0, end=436.125, velocity=97, pitch=57)\nItem(name=Note, start=436.0, end=436.5, velocity=92, pitch=72)\nItem(name=Note, start=436.125, end=436.25, velocity=97, pitch=55)\nItem(name=Note, start=436.25, end=436.375, velocity=97, pitch=57)\nItem(name=Note, start=436.375, end=436.5, velocity=97, pitch=55)\nItem(name=Note, start=436.5, end=436.625, velocity=97, pitch=57)\nItem(name=Note, start=436.5, end=437.0, velocity=92, pitch=64)\nItem(name=Note, start=436.5, end=437.0, velocity=92, pitch=67)\nItem(name=Note, start=436.625, end=436.75, velocity=97, pitch=55)\nItem(name=Note, start=436.75, end=436.875, velocity=97, pitch=57)\nItem(name=Note, start=436.875, end=437.0, velocity=97, pitch=55)\nItem(name=Note, start=437.0, end=437.125, velocity=97, pitch=57)\nItem(name=Note, start=437.0, end=438.0, velocity=92, pitch=62)\nItem(name=Note, start=437.0, end=438.0, velocity=92, pitch=65)\nItem(name=Note, start=437.125, end=437.25, velocity=97, pitch=55)\nItem(name=Note, start=437.25, end=437.375, velocity=97, pitch=57)\nItem(name=Note, start=437.375, end=437.5, velocity=97, pitch=55)\nItem(name=Note, start=437.5, end=437.625, velocity=97, pitch=57)\nItem(name=Note, start=437.5, end=438.0, velocity=92, pitch=72)\nItem(name=Note, start=437.625, end=437.75, velocity=97, pitch=55)\nItem(name=Note, start=437.75, end=437.875, velocity=97, pitch=57)\nItem(name=Note, start=437.875, end=438.0, velocity=97, pitch=55)\nItem(name=Note, start=438.0, end=438.125, velocity=97, pitch=57)\nItem(name=Note, start=438.0, end=438.5, velocity=92, pitch=62)\nItem(name=Note, start=438.0, end=438.5, velocity=92, pitch=65)\nItem(name=Note, start=438.125, end=438.25, velocity=97, pitch=55)\nItem(name=Note, start=438.25, end=438.375, velocity=97, pitch=57)\nItem(name=Note, start=438.375, end=438.5, velocity=97, pitch=55)\nItem(name=Note, start=438.5, end=438.625, velocity=97, pitch=57)\nItem(name=Note, start=438.5, end=439.5, velocity=92, pitch=62)\nItem(name=Note, start=438.5, end=439.5, velocity=92, pitch=66)\nItem(name=Note, start=438.625, end=438.75, velocity=97, pitch=55)\nItem(name=Note, start=438.75, end=438.875, velocity=97, pitch=57)\nItem(name=Note, start=438.875, end=439.0, velocity=97, pitch=55)\nItem(name=Note, start=439.0, end=439.125, velocity=97, pitch=57)\nItem(name=Note, start=439.0, end=439.5, velocity=92, pitch=71)\nItem(name=Note, start=439.125, end=439.25, velocity=97, pitch=55)\nItem(name=Note, start=439.25, end=439.375, velocity=97, pitch=57)\nItem(name=Note, start=439.375, end=439.5, velocity=97, pitch=55)\nItem(name=Note, start=439.5, end=439.625, velocity=97, pitch=57)\nItem(name=Note, start=439.5, end=440.0, velocity=92, pitch=62)\nItem(name=Note, start=439.5, end=440.0, velocity=92, pitch=66)\nItem(name=Note, start=439.625, end=439.75, velocity=97, pitch=55)\nItem(name=Note, start=439.75, end=439.875, velocity=97, pitch=57)\nItem(name=Note, start=439.875, end=440.0, velocity=97, pitch=55)\n440\n\n440\nItem(name=Tempo, start=440.0, end=None, velocity=None, pitch=88)\nItem(name=Note, start=440.0, end=443.0, velocity=97, pitch=55)\nItem(name=Note, start=440.0, end=441.0, velocity=92, pitch=64)\nItem(name=Note, start=440.0, end=441.0, velocity=92, pitch=72)\nItem(name=Note, start=440.5, end=441.0, velocity=92, pitch=67)\nItem(name=Note, start=441.0, end=441.5, velocity=92, pitch=65)\nItem(name=Note, start=441.0, end=441.5, velocity=92, pitch=69)\nItem(name=Note, start=441.0, end=441.5, velocity=92, pitch=74)\nItem(name=Note, start=441.5, end=443.0, velocity=92, pitch=62)\nItem(name=Note, start=441.5, end=443.0, velocity=92, pitch=71)\nItem(name=Note, start=442.0, end=442.5, velocity=92, pitch=64)\nItem(name=Note, start=442.5, end=443.0, velocity=92, pitch=65)\nItem(name=Note, start=443.0, end=446.0, velocity=97, pitch=48)\nItem(name=Note, start=443.0, end=446.0, velocity=97, pitch=55)\nItem(name=Note, start=443.0, end=446.0, velocity=92, pitch=60)\nItem(name=Note, start=443.0, end=446.0, velocity=92, pitch=64)\nItem(name=Note, start=443.0, end=446.0, velocity=92, pitch=72)\n446\n\n"
    }
   ],
   "source": [
    "for g in groups:\n",
    "    print(*g, sep='\\n')\n",
    "    print()"
   ]
  },
  {
   "cell_type": "markdown",
   "metadata": {},
   "source": [
    "## 5. \"Item\" to \"Event\""
   ]
  },
  {
   "cell_type": "code",
   "execution_count": 3,
   "metadata": {},
   "outputs": [
    {
     "output_type": "execute_result",
     "data": {
      "text/plain": "[Event(name=Bar, time=None, value=None, text=1),\n Event(name=Position Bar, time=0.0, value=1, text=0.0),\n Event(name=Position Quarter, time=0.0, value=1/8, text=0.0),\n Event(name=Tempo Class, time=0.0, value=slow, text=None),\n Event(name=Tempo Value, time=0.0, value=28, text=None),\n Event(name=Position Bar, time=0.25, value=1, text=0.25),\n Event(name=Position Quarter, time=0.25, value=3/8, text=0.25),\n Event(name=Note Velocity, time=0.25, value=92, text=92/92),\n Event(name=Note On, time=0.25, value=55, text=55),\n Event(name=Note Duration, time=0.25, value=2, text=2/8)]"
     },
     "metadata": {},
     "execution_count": 3
    }
   ],
   "source": [
    "events = utils_pk.item2event(groups)\n",
    "events[:10]"
   ]
  },
  {
   "cell_type": "code",
   "execution_count": 4,
   "metadata": {
    "tags": []
   },
   "outputs": [
    {
     "output_type": "execute_result",
     "data": {
      "text/plain": "[1, 2, 8, 210, 241, 2, 10, 39, 137, 51]"
     },
     "metadata": {},
     "execution_count": 4
    }
   ],
   "source": [
    "words = utils_pk.event_to_word(events, event2word)\n",
    "words[:10]"
   ]
  },
  {
   "cell_type": "code",
   "execution_count": 5,
   "metadata": {
    "tags": []
   },
   "outputs": [
    {
     "output_type": "stream",
     "name": "stdout",
     "text": "Tempos: ['Bar', 4, [0.0, 58], [1.0, 58], [2.0, 58], [3.0, 58], 'Bar', 4, [0.0, 58], [1.0, 58], [2.0, 58], [3.0, 58], 'Bar', 4, [0.0, 58], [1.0, 58], [2.0, 58], [3.0, 58], 'Bar', 4, [0.0, 58], [1.0, 58], [2.0, 58], [3.0, 58], 'Bar', 4, [0.0, 58], [1.0, 58], [2.0, 58], [3.0, 58], 'Bar', 4, [0.0, 58], [1.0, 58], [2.0, 58], [3.0, 58], 'Bar', 4, [0.0, 58], [1.0, 58], [2.0, 58], [3.0, 58], 'Bar', 4, [0.0, 58], [1.0, 58], [2.0, 58], [3.0, 58], 'Bar', 4, [0.0, 58], [1.0, 58], [2.0, 58], [3.0, 58], 'Bar', 4, [0.0, 58], [1.0, 58], [2.0, 58], [3.0, 58], 'Bar', 4, [0.0, 58], [1.0, 58], [2.0, 58], [3.0, 58], 'Bar', 4, [0.0, 58], [1.0, 58], [2.0, 58], [3.0, 58], 'Bar', 4, [0.0, 64], [1.0, 64], [2.0, 64], [3.0, 64], 'Bar', 4, [0.0, 64], [1.0, 64], [2.0, 64], [3.0, 64], 'Bar', 4, [0.0, 64], [1.0, 64], [2.0, 64], [3.0, 64], 'Bar', 4, [0.0, 64], [1.0, 64], [2.0, 64], [3.0, 64], 'Bar', 4, [0.0, 64], [1.0, 64], [2.0, 64], [3.0, 64], 'Bar', 4, [0.0, 64], [1.0, 64], [2.0, 64], [3.0, 64], 'Bar', 4, [0.0, 64], [1.0, 64], [2.0, 64], [3.0, 64], 'Bar', 4, [0.0, 64], [1.0, 64], [2.0, 64], [3.0, 64], 'Bar', 4, [0.0, 64], [1.0, 64], [2.0, 64], [3.0, 64], 'Bar', 4, [0.0, 64], [1.0, 64], [2.0, 64], [3.0, 64], 'Bar', 4, [0.0, 64], [1.0, 64], [2.0, 64], [3.0, 64], 'Bar', 4, [0.0, 64], [1.0, 64], [2.0, 64], [3.0, 64], 'Bar', 4, [0.0, 64], [1.0, 64], [2.0, 64], [3.0, 64], 'Bar', 4, [0.0, 64], [1.0, 64], [2.0, 64], [3.0, 64], 'Bar', 4, [0.0, 64], [1.0, 64], [2.0, 64], [3.0, 64], 'Bar', 4, [0.0, 64], [1.0, 64], [2.0, 64], [3.0, 64], 'Bar', 4, [0.0, 64], [1.0, 64], [2.0, 64], [3.0, 64], 'Bar', 4, [0.0, 64], [1.0, 64], [2.0, 64], [3.0, 64], 'Bar', 4, [0.0, 64], [1.0, 64], [2.0, 64], [3.0, 64], 'Bar', 4, [0.0, 64], [1.0, 64], [2.0, 64], [3.0, 64], 'Bar', 4, [0.0, 64], [1.0, 64], [2.0, 64], [3.0, 64], 'Bar', 4, [0.0, 64], [1.0, 64], [2.0, 64], [3.0, 64], 'Bar', 4, [0.0, 64], [1.0, 64], [2.0, 64], [3.0, 64], 'Bar', 4, [0.0, 64], [1.0, 64], [2.0, 64], [3.0, 64], 'Bar', 4, [0.0, 64], [1.0, 64], [2.0, 64], [3.0, 64], 'Bar', 4, [0.0, 64], [1.0, 64], [2.0, 64], [3.0, 64], 'Bar', 4, [0.0, 64], [1.0, 64], [2.0, 64], [3.0, 64], 'Bar', 4, [0.0, 64], [1.0, 64], [2.0, 64], [3.0, 64], 'Bar', 4, [0.0, 64], [1.0, 64], [2.0, 64], [3.0, 64], 'Bar', 4, [0.0, 64], [1.0, 64], [2.0, 64], [3.0, 64], 'Bar', 4, [0.0, 64], [1.0, 64], [2.0, 64], [3.0, 64], 'Bar', 4, [0.0, 64], [1.0, 64], [2.0, 64], [3.0, 64], 'Bar', 4, [0.0, 64], [1.0, 64], [2.0, 64], [3.0, 64], 'Bar', 4, [0.0, 64], [1.0, 64], [2.0, 64], [3.0, 64], 'Bar', 4, [0.0, 64], [1.0, 64], [2.0, 64], [3.0, 64], 'Bar', 4, [0.0, 60], [1.0, 60], [2.0, 60], [3.0, 60], 'Bar', 4, [0.0, 60], [1.0, 60], [2.0, 60], [3.0, 60], 'Bar', 4, [0.0, 60], [1.0, 60], [2.0, 60], [3.0, 60], 'Bar', 4, [0.0, 60], [1.0, 60], [2.0, 60], [3.0, 60], 'Bar', 4, [0.0, 60], [1.0, 60], [2.0, 60], [3.0, 60], 'Bar', 4, [0.0, 60], [1.0, 60], [2.0, 60], [3.0, 60], 'Bar', 4, [0.0, 60], [1.0, 60], [2.0, 60], [3.0, 60], 'Bar', 4, [0.0, 68], [1.0, 68], [2.0, 68], [3.0, 68], 'Bar', 4, [0.0, 68], [1.0, 68], [2.0, 68], [3.0, 68], 'Bar', 4, [0.0, 68], [1.0, 68], [2.0, 68], [3.0, 68], 'Bar', 4, [0.0, 68], [1.0, 68], [2.0, 68], [3.0, 68], 'Bar', 4, [0.0, 68], [1.0, 68], [2.0, 68], [3.0, 68], 'Bar', 4, [0.0, 68], [1.0, 68], [2.0, 68], [3.0, 68], 'Bar', 4, [0.0, 68], [1.0, 68], [2.0, 68], [3.0, 68], 'Bar', 4, [0.0, 68], [1.0, 68], [2.0, 68], [3.0, 68], 'Bar', 4, [0.0, 68], [1.0, 68], [2.0, 68], [3.0, 68], 'Bar', 4, [0.0, 64], [1.0, 64], [2.0, 64], [3.0, 64], 'Bar', 4, [0.0, 64], [1.0, 64], [2.0, 64], [3.0, 64], 'Bar', 6, [0.0, 100], [1.0, 100], [2.0, 100], [3.0, 100], [4.0, 100], [5.0, 100], 'Bar', 6, [0.0, 100], [1.0, 100], [2.0, 100], [3.0, 100], [4.0, 100], [5.0, 100], 'Bar', 6, [0.0, 100], [1.0, 100], [2.0, 100], [3.0, 100], [4.0, 100], [5.0, 100], 'Bar', 6, [0.0, 100], [1.0, 100], [2.0, 100], [3.0, 100], [4.0, 100], [5.0, 100], 'Bar', 6, [0.0, 100], [1.0, 100], [2.0, 100], [3.0, 100], [4.0, 100], [5.0, 100], 'Bar', 6, [0.0, 100], [1.0, 100], [2.0, 100], [3.0, 100], [4.0, 100], [5.0, 100], 'Bar', 6, [0.0, 100], [1.0, 100], [2.0, 100], [3.0, 100], [4.0, 100], [5.0, 100], 'Bar', 6, [0.0, 100], [1.0, 100], [2.0, 100], [3.0, 100], [4.0, 100], [5.0, 100], 'Bar', 6, [0.0, 100], [1.0, 100], [2.0, 100], [3.0, 100], [4.0, 100], [5.0, 100], 'Bar', 6, [0.0, 100], [1.0, 100], [2.0, 100], [3.0, 100], [4.0, 100], [5.0, 100], 'Bar', 6, [0.0, 100], [1.0, 100], [2.0, 100], [3.0, 100], [4.0, 100], [5.0, 100], 'Bar', 6, [0.0, 100], [1.0, 100], [2.0, 100], [3.0, 100], [4.0, 100], [5.0, 100], 'Bar', 6, [0.0, 100], [1.0, 100], [2.0, 100], [3.0, 100], [4.0, 100], [5.0, 100], 'Bar', 6, [0.0, 100], [1.0, 100], [2.0, 100], [3.0, 100], [4.0, 100], [5.0, 100], 'Bar', 6, [0.0, 100], [1.0, 100], [2.0, 100], [3.0, 100], [4.0, 100], [5.0, 100], 'Bar', 6, [0.0, 100], [1.0, 100], [2.0, 100], [3.0, 100], [4.0, 100], [5.0, 100], 'Bar', 6, [0.0, 100], [1.0, 100], [2.0, 100], [3.0, 100], [4.0, 100], [5.0, 100], 'Bar', 6, [0.0, 100], [1.0, 100], [2.0, 100], [3.0, 100], [4.0, 100], [5.0, 100], 'Bar', 6, [0.0, 100], [1.0, 100], [2.0, 100], [3.0, 100], [4.0, 100], [5.0, 100], 'Bar', 6, [0.0, 100], [1.0, 100], [2.0, 100], [3.0, 100], [4.0, 100], [5.0, 100], 'Bar', 6, [0.0, 100], [1.0, 100], [2.0, 100], [3.0, 100], [4.0, 100], [5.0, 100], 'Bar', 6, [0.0, 100], [1.0, 100], [2.0, 100], [3.0, 100], [4.0, 100], [5.0, 100], 'Bar', 6, [0.0, 100], [1.0, 100], [2.0, 100], [3.0, 100], [4.0, 100], [5.0, 100], 'Bar', 6, [0.0, 100], [1.0, 100], [2.0, 100], [3.0, 100], [4.0, 100], [5.0, 100], 'Bar', 6, [0.0, 100], [1.0, 100], [2.0, 100], [3.0, 100], [4.0, 100], [5.0, 100], 'Bar', 6, [0.0, 100], [1.0, 100], [2.0, 100], [3.0, 100], [4.0, 100], [5.0, 100], 'Bar', 6, [0.0, 100], [1.0, 100], [2.0, 100], [3.0, 100], [4.0, 100], [5.0, 100], 'Bar', 6, [0.0, 100], [1.0, 100], [2.0, 100], [3.0, 100], [4.0, 100], [5.0, 100], 'Bar', 6, [0.0, 96], [1.0, 96], [2.0, 96], [3.0, 96], [4.0, 96], [5.0, 96], 'Bar', 6, [0.0, 92], [1.0, 92], [2.0, 92], [3.0, 92], [4.0, 92], [5.0, 92], 'Bar', 6, [0.0, 88], [1.0, 88], [2.0, 88], [3.0, 40]]\n"
    }
   ],
   "source": [
    "#TODO\n",
    "# za szybko, dodać zmienianie się metrum \n",
    "utils_pk.write_midi(words, word2event, r'D:\\Studia\\magisterka\\Generated\\REMI\\sample.mid')"
   ]
  },
  {
   "cell_type": "code",
   "execution_count": 15,
   "metadata": {
    "tags": []
   },
   "outputs": [
    {
     "output_type": "stream",
     "name": "stdout",
     "text": "Event(name=Bar, time=None, value=None, text=1)\nEvent(name=Position Bar, time=0.0, value=1, text=0.0)\nEvent(name=Position Quarter, time=0.0, value=1/8, text=0.0)\nEvent(name=Tempo Class, time=0.0, value=slow, text=None)\nEvent(name=Tempo Value, time=0.0, value=55, text=None)\nEvent(name=Position Bar, time=0.25, value=1, text=0.25)\nEvent(name=Position Quarter, time=0.25, value=3/8, text=0.25)\nEvent(name=Note Velocity, time=0.25, value=92, text=92/92)\nEvent(name=Note On, time=0.25, value=55, text=55)\nEvent(name=Note Duration, time=0.25, value=2, text=2/8)\nEvent(name=Position Bar, time=0.5, value=1, text=0.5)\nEvent(name=Position Quarter, time=0.5, value=5/8, text=0.5)\nEvent(name=Note Velocity, time=0.5, value=92, text=92/92)\nEvent(name=Note On, time=0.5, value=57, text=57)\nEvent(name=Note Duration, time=0.5, value=2, text=2/8)\nEvent(name=Position Bar, time=0.75, value=1, text=0.75)\nEvent(name=Position Quarter, time=0.75, value=7/8, text=0.75)\nEvent(name=Note Velocity, time=0.75, value=96, text=97/96)\nEvent(name=Note On, time=0.75, value=55, text=55)\nEvent(name=Note Duration, time=0.75, value=4, text=4/8)\nEvent(name=Position Bar, time=0.75, value=1, text=0.75)\nEvent(name=Position Quarter, time=0.75, value=7/8, text=0.75)\nEvent(name=Note Velocity, time=0.75, value=92, text=92/92)\nEvent(name=Note On, time=0.75, value=59, text=59)\nEvent(name=Note Duration, time=0.75, value=2, text=2/8)\nEvent(name=Position Bar, time=1.0, value=2, text=1.0)\nEvent(name=Position Quarter, time=1.0, value=1/8, text=1.0)\nEvent(name=Tempo Class, time=1.0, value=slow, text=None)\nEvent(name=Tempo Value, time=1.0, value=55, text=None)\nEvent(name=Position Bar, time=1.0, value=2, text=1.0)\n"
    }
   ],
   "source": [
    "print(*events[:30], sep='\\n')"
   ]
  }
 ],
 "metadata": {
  "kernelspec": {
   "display_name": "venv_remi",
   "language": "python",
   "name": "venv_remi"
  },
  "language_info": {
   "codemirror_mode": {
    "name": "ipython",
    "version": 3
   },
   "file_extension": ".py",
   "mimetype": "text/x-python",
   "name": "python",
   "nbconvert_exporter": "python",
   "pygments_lexer": "ipython3",
   "version": "3.7.7-final"
  }
 },
 "nbformat": 4,
 "nbformat_minor": 4
}