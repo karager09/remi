{
 "cells": [
  {
   "cell_type": "code",
   "execution_count": 2,
   "metadata": {},
   "outputs": [],
   "source": [
    "import miditoolkit"
   ]
  },
  {
   "cell_type": "code",
   "execution_count": 5,
   "metadata": {},
   "outputs": [
    {
     "output_type": "execute_result",
     "data": {
      "text/plain": "True"
     },
     "metadata": {},
     "execution_count": 5
    }
   ],
   "source": [
    "import tensorflow as tf \n",
    "tf.test.is_built_with_cuda()"
   ]
  },
  {
   "cell_type": "code",
   "execution_count": 1,
   "metadata": {
    "tags": []
   },
   "outputs": [
    {
     "output_type": "stream",
     "name": "stdout",
     "text": "Starting..\nWARNING:tensorflow:From D:\\Studia\\magisterka\\python\\venv_remi_asus\\lib\\site-packages\\tensorflow\\python\\training\\saver.py:1276: checkpoint_exists (from tensorflow.python.training.checkpoint_management) is deprecated and will be removed in a future version.\nInstructions for updating:\nUse standard file APIs to check for files with this prefix.\nINFO:tensorflow:Restoring parameters from REMI-finetune-pk-len256-2/model-009-0.932\nLoading complete\nFrom scratch complete\nContinuation complete\n"
    }
   ],
   "source": [
    "# test\n",
    "from main_pk import main\n",
    "main()"
   ]
  },
  {
   "cell_type": "code",
   "execution_count": 12,
   "metadata": {},
   "outputs": [],
   "source": [
    "from model_pk import PopMusicTransformer"
   ]
  },
  {
   "cell_type": "code",
   "execution_count": 2,
   "metadata": {
    "tags": []
   },
   "outputs": [
    {
     "output_type": "stream",
     "name": "stdout",
     "text": "WARNING:tensorflow:From D:\\Studia\\magisterka\\python\\venv_remi_asus\\lib\\site-packages\\tensorflow\\python\\training\\saver.py:1276: checkpoint_exists (from tensorflow.python.training.checkpoint_management) is deprecated and will be removed in a future version.\nInstructions for updating:\nUse standard file APIs to check for files with this prefix.\nINFO:tensorflow:Restoring parameters from REMI-tempo-checkpoint/model\n"
    }
   ],
   "source": [
    "    model = PopMusicTransformer(\n",
    "        checkpoint='REMI-tempo-checkpoint',\n",
    "        is_training=False)"
   ]
  },
  {
   "cell_type": "code",
   "execution_count": 4,
   "metadata": {},
   "outputs": [
    {
     "output_type": "execute_result",
     "data": {
      "text/plain": "0"
     },
     "metadata": {},
     "execution_count": 4
    }
   ],
   "source": [
    "model.extract_events(r\"D:\\Studia\\magisterka\\Inne projekty\\remi\\data\\train\\000.midi\")\n",
    "0"
   ]
  },
  {
   "cell_type": "code",
   "execution_count": 4,
   "metadata": {},
   "outputs": [
    {
     "output_type": "execute_result",
     "data": {
      "text/plain": "array([  60,  120,  180,  240,  300,  360,  420,  480,  540,  600,  660,\n        720,  780,  840,  900,  960, 1020, 1080, 1140, 1200, 1260, 1320,\n       1380, 1440, 1500, 1560, 1620, 1680, 1740, 1800, 1860, 1920, 1980,\n       2040, 2100, 2160, 2220, 2280, 2340, 2400, 2460, 2520, 2580, 2640,\n       2700, 2760, 2820, 2880, 2940, 3000, 3060, 3120, 3180, 3240, 3300,\n       3360, 3420, 3480, 3540, 3600, 3660, 3720, 3780, 3840])"
     },
     "metadata": {},
     "execution_count": 4
    }
   ],
   "source": [
    "import numpy as np\n",
    "np.arange(60, 3841, 60, dtype=int)"
   ]
  },
  {
   "cell_type": "code",
   "execution_count": 5,
   "metadata": {},
   "outputs": [],
   "source": [
    "import miditoolkit\n",
    "import utils"
   ]
  },
  {
   "cell_type": "code",
   "execution_count": 5,
   "metadata": {},
   "outputs": [
    {
     "output_type": "execute_result",
     "data": {
      "text/plain": "2"
     },
     "metadata": {},
     "execution_count": 5
    }
   ],
   "source": [
    "len(midi_obj.instruments)"
   ]
  },
  {
   "cell_type": "code",
   "execution_count": 9,
   "metadata": {
    "tags": []
   },
   "outputs": [
    {
     "output_type": "stream",
     "name": "stdout",
     "text": "480\n[TimeSignature(numerator=2, denominator=8, time=0)]\nO nie\nO nie\nO nie\nO nie\nO nie\nO nie\nO nie\nO nie\nO nie\nO nie\nO nie\nO nie\nO nie\nO nie\nO nie\nO nie\nO nie\nO nie\nO nie\n"
    }
   ],
   "source": [
    "# midi_obj = miditoolkit.midi.parser.MidiFile('D:/Studia/magisterka/Pliki midi/Classical Archives - The Greats (MIDI Library)/Classical Archives - The Greats (MIDI)\\\\Classical Piano Midis\\\\Herold\\\\Overture to Zampa.mid')\n",
    "midi_obj = miditoolkit.midi.parser.MidiFile(\"D:\\Studia\\magisterka\\Pliki midi\\Classical Archives - The Greats (MIDI Library)\\Classical Archives - The Greats (MIDI)\\Chopin\\Prelude n01 op28 ''Reunion''.mid\")\n",
    "print(midi_obj.ticks_per_beat)\n",
    "print(midi_obj.time_signature_changes)\n",
    "for note in midi_obj.instruments[0].notes[0:30]:\n",
    "    if note.start * 16 % midi_obj.ticks_per_beat != 0:\n",
    "        print(\"O nie\")"
   ]
  },
  {
   "cell_type": "code",
   "execution_count": 7,
   "metadata": {
    "tags": []
   },
   "outputs": [
    {
     "output_type": "stream",
     "name": "stdout",
     "text": "D:/Studia/magisterka/Pliki midi/Classical Archives - The Greats (MIDI Library)/Classical Archives - The Greats (MIDI)\\Buxethude Buxwv138 Prelude.mid\nD:/Studia/magisterka/Pliki midi/Classical Archives - The Greats (MIDI Library)/Classical Archives - The Greats (MIDI)\\Buxethude Buxwv161 Passcaglia.mid\nD:/Studia/magisterka/Pliki midi/Classical Archives - The Greats (MIDI Library)/Classical Archives - The Greats (MIDI)\\Beethoven\\Anhang 14-3.mid\nD:/Studia/magisterka/Pliki midi/Classical Archives - The Greats (MIDI Library)/Classical Archives - The Greats (MIDI)\\Classical Piano Midis\\Copland\\The Promise of Living - from the Tender Land.mid\nD:/Studia/magisterka/Pliki midi/Classical Archives - The Greats (MIDI Library)/Classical Archives - The Greats (MIDI)\\Classical Piano Midis\\German\\Overture to Princess of Kensington.mid\nD:/Studia/magisterka/Pliki midi/Classical Archives - The Greats (MIDI Library)/Classical Archives - The Greats (MIDI)\\Classical Piano Midis\\Grieg\\De hal van de Bergkonging.mid\nD:/Studia/magisterka/Pliki midi/Classical Archives - The Greats (MIDI Library)/Classical Archives - The Greats (MIDI)\\Classical Piano Midis\\Maier\\Atalanta Fugiens No.1.mid\nD:/Studia/magisterka/Pliki midi/Classical Archives - The Greats (MIDI Library)/Classical Archives - The Greats (MIDI)\\Classical Piano Midis\\Maier\\Atalanta Fugiens No.15.mid\nD:/Studia/magisterka/Pliki midi/Classical Archives - The Greats (MIDI Library)/Classical Archives - The Greats (MIDI)\\Classical Piano Midis\\Maier\\Atalanta Fugiens No.2.mid\nD:/Studia/magisterka/Pliki midi/Classical Archives - The Greats (MIDI Library)/Classical Archives - The Greats (MIDI)\\Classical Piano Midis\\Maier\\Atalanta Fugiens No.21.mid\nD:/Studia/magisterka/Pliki midi/Classical Archives - The Greats (MIDI Library)/Classical Archives - The Greats (MIDI)\\Classical Piano Midis\\Maier\\Atalanta Fugiens No.32.mid\nD:/Studia/magisterka/Pliki midi/Classical Archives - The Greats (MIDI Library)/Classical Archives - The Greats (MIDI)\\Classical Piano Midis\\Varios - Título desconocido\\a_h\\allfaith.mid\nD:/Studia/magisterka/Pliki midi/Classical Archives - The Greats (MIDI Library)/Classical Archives - The Greats (MIDI)\\Classical Piano Midis\\Varios - Título desconocido\\a_h\\amadeus.mid\nD:/Studia/magisterka/Pliki midi/Classical Archives - The Greats (MIDI Library)/Classical Archives - The Greats (MIDI)\\Classical Piano Midis\\Varios - Título desconocido\\a_h\\ball2.mid\nD:/Studia/magisterka/Pliki midi/Classical Archives - The Greats (MIDI Library)/Classical Archives - The Greats (MIDI)\\Classical Piano Midis\\Varios - Título desconocido\\a_h\\ballad1.mid\nD:/Studia/magisterka/Pliki midi/Classical Archives - The Greats (MIDI Library)/Classical Archives - The Greats (MIDI)\\Classical Piano Midis\\Varios - Título desconocido\\a_h\\ba_bran3.mid\nD:/Studia/magisterka/Pliki midi/Classical Archives - The Greats (MIDI Library)/Classical Archives - The Greats (MIDI)\\Classical Piano Midis\\Varios - Título desconocido\\a_h\\beet51a.mid\nD:/Studia/magisterka/Pliki midi/Classical Archives - The Greats (MIDI Library)/Classical Archives - The Greats (MIDI)\\Classical Piano Midis\\Varios - Título desconocido\\a_h\\beet51s.mid\nD:/Studia/magisterka/Pliki midi/Classical Archives - The Greats (MIDI Library)/Classical Archives - The Greats (MIDI)\\Classical Piano Midis\\Varios - Título desconocido\\a_h\\beet52.mid\nD:/Studia/magisterka/Pliki midi/Classical Archives - The Greats (MIDI Library)/Classical Archives - The Greats (MIDI)\\Classical Piano Midis\\Varios - Título desconocido\\a_h\\beet53.mid\nD:/Studia/magisterka/Pliki midi/Classical Archives - The Greats (MIDI Library)/Classical Archives - The Greats (MIDI)\\Classical Piano Midis\\Varios - Título desconocido\\a_h\\beet53s.mid\nD:/Studia/magisterka/Pliki midi/Classical Archives - The Greats (MIDI Library)/Classical Archives - The Greats (MIDI)\\Classical Piano Midis\\Varios - Título desconocido\\a_h\\beet54.mid\nD:/Studia/magisterka/Pliki midi/Classical Archives - The Greats (MIDI Library)/Classical Archives - The Greats (MIDI)\\Classical Piano Midis\\Varios - Título desconocido\\a_h\\beet54s.mid\nD:/Studia/magisterka/Pliki midi/Classical Archives - The Greats (MIDI Library)/Classical Archives - The Greats (MIDI)\\Classical Piano Midis\\Varios - Título desconocido\\a_h\\bouree32.mid\nD:/Studia/magisterka/Pliki midi/Classical Archives - The Greats (MIDI Library)/Classical Archives - The Greats (MIDI)\\Classical Piano Midis\\Varios - Título desconocido\\a_h\\brand_3.mid\nD:/Studia/magisterka/Pliki midi/Classical Archives - The Greats (MIDI Library)/Classical Archives - The Greats (MIDI)\\Classical Piano Midis\\Varios - Título desconocido\\a_h\\brass.mid\nD:/Studia/magisterka/Pliki midi/Classical Archives - The Greats (MIDI Library)/Classical Archives - The Greats (MIDI)\\Classical Piano Midis\\Varios - Título desconocido\\a_h\\bsbconc4.mid\nD:/Studia/magisterka/Pliki midi/Classical Archives - The Greats (MIDI Library)/Classical Archives - The Greats (MIDI)\\Classical Piano Midis\\Varios - Título desconocido\\a_h\\bumblbee.mid\nD:/Studia/magisterka/Pliki midi/Classical Archives - The Greats (MIDI Library)/Classical Archives - The Greats (MIDI)\\Classical Piano Midis\\Varios - Título desconocido\\a_h\\bumble_b.mid\nD:/Studia/magisterka/Pliki midi/Classical Archives - The Greats (MIDI Library)/Classical Archives - The Greats (MIDI)\\Classical Piano Midis\\Varios - Título desconocido\\a_h\\canon.mid\nD:/Studia/magisterka/Pliki midi/Classical Archives - The Greats (MIDI Library)/Classical Archives - The Greats (MIDI)\\Classical Piano Midis\\Varios - Título desconocido\\a_h\\canon2.mid\nD:/Studia/magisterka/Pliki midi/Classical Archives - The Greats (MIDI Library)/Classical Archives - The Greats (MIDI)\\Classical Piano Midis\\Varios - Título desconocido\\a_h\\canonind.mid\nD:/Studia/magisterka/Pliki midi/Classical Archives - The Greats (MIDI Library)/Classical Archives - The Greats (MIDI)\\Classical Piano Midis\\Varios - Título desconocido\\a_h\\chinese3.mid\nD:/Studia/magisterka/Pliki midi/Classical Archives - The Greats (MIDI Library)/Classical Archives - The Greats (MIDI)\\Classical Piano Midis\\Varios - Título desconocido\\a_h\\chopin7.mid\nD:/Studia/magisterka/Pliki midi/Classical Archives - The Greats (MIDI Library)/Classical Archives - The Greats (MIDI)\\Classical Piano Midis\\Varios - Título desconocido\\a_h\\chopstik.mid\nD:/Studia/magisterka/Pliki midi/Classical Archives - The Greats (MIDI Library)/Classical Archives - The Greats (MIDI)\\Classical Piano Midis\\Varios - Título desconocido\\a_h\\chord.mid\nD:/Studia/magisterka/Pliki midi/Classical Archives - The Greats (MIDI Library)/Classical Archives - The Greats (MIDI)\\Classical Piano Midis\\Varios - Título desconocido\\a_h\\clar1.mid\nD:/Studia/magisterka/Pliki midi/Classical Archives - The Greats (MIDI Library)/Classical Archives - The Greats (MIDI)\\Classical Piano Midis\\Varios - Título desconocido\\a_h\\clar2.mid\nD:/Studia/magisterka/Pliki midi/Classical Archives - The Greats (MIDI Library)/Classical Archives - The Greats (MIDI)\\Classical Piano Midis\\Varios - Título desconocido\\a_h\\clar3.mid\nD:/Studia/magisterka/Pliki midi/Classical Archives - The Greats (MIDI Library)/Classical Archives - The Greats (MIDI)\\Classical Piano Midis\\Varios - Título desconocido\\a_h\\clar4.mid\nD:/Studia/magisterka/Pliki midi/Classical Archives - The Greats (MIDI Library)/Classical Archives - The Greats (MIDI)\\Classical Piano Midis\\Varios - Título desconocido\\a_h\\clar5.mid\nD:/Studia/magisterka/Pliki midi/Classical Archives - The Greats (MIDI Library)/Classical Archives - The Greats (MIDI)\\Classical Piano Midis\\Varios - Título desconocido\\a_h\\concrto3.mid\nD:/Studia/magisterka/Pliki midi/Classical Archives - The Greats (MIDI Library)/Classical Archives - The Greats (MIDI)\\Classical Piano Midis\\Varios - Título desconocido\\a_h\\exodus.mid\nD:/Studia/magisterka/Pliki midi/Classical Archives - The Greats (MIDI Library)/Classical Archives - The Greats (MIDI)\\Classical Piano Midis\\Varios - Título desconocido\\a_h\\f20amin.mid\nD:/Studia/magisterka/Pliki midi/Classical Archives - The Greats (MIDI Library)/Classical Archives - The Greats (MIDI)\\Classical Piano Midis\\Varios - Título desconocido\\a_h\\for_unto.mid\nD:/Studia/magisterka/Pliki midi/Classical Archives - The Greats (MIDI Library)/Classical Archives - The Greats (MIDI)\\Classical Piano Midis\\Varios - Título desconocido\\a_h\\gersh1.mid\nD:/Studia/magisterka/Pliki midi/Classical Archives - The Greats (MIDI Library)/Classical Archives - The Greats (MIDI)\\Classical Piano Midis\\Varios - Título desconocido\\a_h\\gersh2.mid\nD:/Studia/magisterka/Pliki midi/Classical Archives - The Greats (MIDI Library)/Classical Archives - The Greats (MIDI)\\Classical Piano Midis\\Varios - Título desconocido\\a_h\\gersh3.mid\nD:/Studia/magisterka/Pliki midi/Classical Archives - The Greats (MIDI Library)/Classical Archives - The Greats (MIDI)\\Classical Piano Midis\\Varios - Título desconocido\\a_h\\gersh4.mid\nD:/Studia/magisterka/Pliki midi/Classical Archives - The Greats (MIDI Library)/Classical Archives - The Greats (MIDI)\\Classical Piano Midis\\Varios - Título desconocido\\a_h\\gersh5.mid\nD:/Studia/magisterka/Pliki midi/Classical Archives - The Greats (MIDI Library)/Classical Archives - The Greats (MIDI)\\Classical Piano Midis\\Varios - Título desconocido\\a_h\\godrest.mid\nD:/Studia/magisterka/Pliki midi/Classical Archives - The Greats (MIDI Library)/Classical Archives - The Greats (MIDI)\\Classical Piano Midis\\Varios - Título desconocido\\a_h\\hoedown.mid\nD:/Studia/magisterka/Pliki midi/Classical Archives - The Greats (MIDI Library)/Classical Archives - The Greats (MIDI)\\Classical Piano Midis\\Varios - Título desconocido\\i_o\\jesus.mid\nD:/Studia/magisterka/Pliki midi/Classical Archives - The Greats (MIDI Library)/Classical Archives - The Greats (MIDI)\\Classical Piano Midis\\Varios - Título desconocido\\i_o\\jupiter.mid\nD:/Studia/magisterka/Pliki midi/Classical Archives - The Greats (MIDI Library)/Classical Archives - The Greats (MIDI)\\Classical Piano Midis\\Varios - Título desconocido\\i_o\\mappari.mid\nD:/Studia/magisterka/Pliki midi/Classical Archives - The Greats (MIDI Library)/Classical Archives - The Greats (MIDI)\\Classical Piano Midis\\Varios - Título desconocido\\i_o\\mntevrdi.mid\nD:/Studia/magisterka/Pliki midi/Classical Archives - The Greats (MIDI Library)/Classical Archives - The Greats (MIDI)\\Classical Piano Midis\\Varios - Título desconocido\\i_o\\mozrtq1.mid\nD:/Studia/magisterka/Pliki midi/Classical Archives - The Greats (MIDI Library)/Classical Archives - The Greats (MIDI)\\Classical Piano Midis\\Varios - Título desconocido\\i_o\\mzrtk550.mid\nD:/Studia/magisterka/Pliki midi/Classical Archives - The Greats (MIDI Library)/Classical Archives - The Greats (MIDI)\\Classical Piano Midis\\Varios - Título desconocido\\i_o\\m_loc.mid\nD:/Studia/magisterka/Pliki midi/Classical Archives - The Greats (MIDI Library)/Classical Archives - The Greats (MIDI)\\Classical Piano Midis\\Varios - Título desconocido\\i_o\\opus6.mid\nD:/Studia/magisterka/Pliki midi/Classical Archives - The Greats (MIDI Library)/Classical Archives - The Greats (MIDI)\\Classical Piano Midis\\Varios - Título desconocido\\p_z\\pmpcicum.mid\nD:/Studia/magisterka/Pliki midi/Classical Archives - The Greats (MIDI Library)/Classical Archives - The Greats (MIDI)\\Classical Piano Midis\\Varios - Título desconocido\\p_z\\pmp_circ.mid\nD:/Studia/magisterka/Pliki midi/Classical Archives - The Greats (MIDI Library)/Classical Archives - The Greats (MIDI)\\Classical Piano Midis\\Varios - Título desconocido\\p_z\\preludgm.mid\nD:/Studia/magisterka/Pliki midi/Classical Archives - The Greats (MIDI Library)/Classical Archives - The Greats (MIDI)\\Classical Piano Midis\\Varios - Título desconocido\\p_z\\rapinbl.mid\nD:/Studia/magisterka/Pliki midi/Classical Archives - The Greats (MIDI Library)/Classical Archives - The Greats (MIDI)\\Classical Piano Midis\\Varios - Título desconocido\\p_z\\scherzo.mid\nD:/Studia/magisterka/Pliki midi/Classical Archives - The Greats (MIDI Library)/Classical Archives - The Greats (MIDI)\\Classical Piano Midis\\Varios - Título desconocido\\p_z\\schumann.mid\nD:/Studia/magisterka/Pliki midi/Classical Archives - The Greats (MIDI Library)/Classical Archives - The Greats (MIDI)\\Classical Piano Midis\\Varios - Título desconocido\\p_z\\song1.mid\nD:/Studia/magisterka/Pliki midi/Classical Archives - The Greats (MIDI Library)/Classical Archives - The Greats (MIDI)\\Classical Piano Midis\\Varios - Título desconocido\\p_z\\strav1.mid\nD:/Studia/magisterka/Pliki midi/Classical Archives - The Greats (MIDI Library)/Classical Archives - The Greats (MIDI)\\Classical Piano Midis\\Varios - Título desconocido\\p_z\\strav2.mid\nD:/Studia/magisterka/Pliki midi/Classical Archives - The Greats (MIDI Library)/Classical Archives - The Greats (MIDI)\\Classical Piano Midis\\Varios - Título desconocido\\p_z\\strav3.mid\nD:/Studia/magisterka/Pliki midi/Classical Archives - The Greats (MIDI Library)/Classical Archives - The Greats (MIDI)\\Classical Piano Midis\\Varios - Título desconocido\\p_z\\tango.mid\nD:/Studia/magisterka/Pliki midi/Classical Archives - The Greats (MIDI Library)/Classical Archives - The Greats (MIDI)\\Classical Piano Midis\\Varios - Título desconocido\\p_z\\tribamer.mid\nD:/Studia/magisterka/Pliki midi/Classical Archives - The Greats (MIDI Library)/Classical Archives - The Greats (MIDI)\\Classical Piano Midis\\Varios - Título desconocido\\p_z\\varipaga.mid\nD:/Studia/magisterka/Pliki midi/Classical Archives - The Greats (MIDI Library)/Classical Archives - The Greats (MIDI)\\Classical Piano Midis\\Varios - Título desconocido\\p_z\\vivaldi.mid\nD:/Studia/magisterka/Pliki midi/Classical Archives - The Greats (MIDI Library)/Classical Archives - The Greats (MIDI)\\Classical Piano Midis\\Varios - Título desconocido\\varios\\5th3rdmv.mid\nD:/Studia/magisterka/Pliki midi/Classical Archives - The Greats (MIDI Library)/Classical Archives - The Greats (MIDI)\\Haendel\\Hwv006 Agrippina Overture.mid\nD:/Studia/magisterka/Pliki midi/Classical Archives - The Greats (MIDI Library)/Classical Archives - The Greats (MIDI)\\Haendel\\Concertos Grossos Hwv319-330 op06\\Concerto Grosso op6 n05 2mov.mid\nD:/Studia/magisterka/Pliki midi/Classical Archives - The Greats (MIDI Library)/Classical Archives - The Greats (MIDI)\\Haendel\\Concertos Grossos Hwv319-330 op06\\Concerto Grosso op6 n05 3mov.mid\nD:/Studia/magisterka/Pliki midi/Classical Archives - The Greats (MIDI Library)/Classical Archives - The Greats (MIDI)\\Haendel\\Concertos Grossos Hwv319-330 op06\\Concerto Grosso op6 n05 4mov.mid\nD:/Studia/magisterka/Pliki midi/Classical Archives - The Greats (MIDI Library)/Classical Archives - The Greats (MIDI)\\Mendelsonn\\Organ Sonata n1.mid\nD:/Studia/magisterka/Pliki midi/Classical Archives - The Greats (MIDI Library)/Classical Archives - The Greats (MIDI)\\Mendelsonn\\Organ Sonata n4.mid\nD:/Studia/magisterka/Pliki midi/Classical Archives - The Greats (MIDI Library)/Classical Archives - The Greats (MIDI)\\Mozart\\Piano Sonatas\\Nueva carpeta\\K281 Piano Sonata n03 3mov.mid\nD:/Studia/magisterka/Pliki midi/Classical Archives - The Greats (MIDI Library)/Classical Archives - The Greats (MIDI)\\Rachmaninov\\Prelude op32 n1 .mid\nD:/Studia/magisterka/Pliki midi/Classical Archives - The Greats (MIDI Library)/Classical Archives - The Greats (MIDI)\\Rachmaninov\\Prelude op32 n2.mid\nD:/Studia/magisterka/Pliki midi/Classical Archives - The Greats (MIDI Library)/Classical Archives - The Greats (MIDI)\\Rachmaninov\\Prelude op32 n3.mid\nD:/Studia/magisterka/Pliki midi/Classical Archives - The Greats (MIDI Library)/Classical Archives - The Greats (MIDI)\\Rachmaninov\\Prelude op32 n5 .mid\n"
    }
   ],
   "source": [
    "from glob import glob\n",
    "import miditoolkit\n",
    "# len(glob('D:/Studia/magisterka/Pliki midi/Classical Archives - The Greats (MIDI Library)/Classical Archives - The Greats (MIDI)/**/*.mid', recursive=True))\n",
    "# 'D:/Studia/magisterka/Inne projekty/MusicTransformer-tensorflow2.0-master/dataset/scripts/classic_piano_dataset/*.mid'\n",
    "songs_with_4_4 = []\n",
    "bad_songs = []\n",
    "for song_path in glob('D:/Studia/magisterka/Pliki midi/Classical Archives - The Greats (MIDI Library)/Classical Archives - The Greats (MIDI)/**/*.mid', recursive=True):\n",
    "    try:\n",
    "        midi_obj = miditoolkit.midi.parser.MidiFile(song_path)\n",
    "        if midi_obj.time_signature_changes is not None and len(midi_obj.time_signature_changes) > 0 and midi_obj.time_signature_changes[0].numerator == 4 and midi_obj.time_signature_changes[0].denominator == 4 and len(midi_obj.instruments) <= 3:\n",
    "            count_error = 0\n",
    "            # print(midi_obj.time_signature_changes[0])\n",
    "            for note in midi_obj.instruments[0].notes[0:50]:\n",
    "                if note.start * 16 % midi_obj.ticks_per_beat != 0:\n",
    "                    count_error += 1\n",
    "            if count_error <= 5:\n",
    "                songs_with_4_4.append(song_path)\n",
    "            else:\n",
    "                bad_songs.append(song_path)\n",
    "    except:\n",
    "        print(song_path)"
   ]
  },
  {
   "cell_type": "code",
   "execution_count": 15,
   "metadata": {},
   "outputs": [
    {
     "output_type": "execute_result",
     "data": {
      "text/plain": "310"
     },
     "metadata": {},
     "execution_count": 15
    }
   ],
   "source": [
    "len(songs_with_4_4)\n",
    "len(bad_songs)"
   ]
  },
  {
   "cell_type": "code",
   "execution_count": null,
   "metadata": {},
   "outputs": [],
   "source": [
    "from glob import glob\n",
    "import miditoolkit\n",
    "songs_with_4_4 = []\n",
    "for song_path in glob('D:/Studia/magisterka/Inne projekty/MusicTransformer-tensorflow2.0-master/dataset/scripts/classic_piano_dataset/*.mid', recursive=True):\n",
    "    try:\n",
    "        midi_obj = miditoolkit.midi.parser.MidiFile(song_path)\n",
    "        if midi_obj.time_signature_changes is not None and len(midi_obj.time_signature_changes) > 0 and midi_obj.time_signature_changes[0].numerator == 4 and midi_obj.time_signature_changes[0].denominator == 4:\n",
    "            # print(midi_obj.time_signature_changes[0])\n",
    "            \n",
    "            songs_with_4_4.append(song_path)\n",
    "    except:\n",
    "        print(song_path)"
   ]
  },
  {
   "cell_type": "code",
   "execution_count": 9,
   "metadata": {},
   "outputs": [
    {
     "output_type": "execute_result",
     "data": {
      "text/plain": "'D:/Studia/magisterka/Pliki midi/Classical Archives - The Greats (MIDI Library)/Classical Archives - The Greats (MIDI)\\\\Buxethude Buxwv136 Prelude.mid'"
     },
     "metadata": {},
     "execution_count": 9
    }
   ],
   "source": [
    "songs_with_4_4[1]"
   ]
  },
  {
   "cell_type": "code",
   "execution_count": 10,
   "metadata": {},
   "outputs": [],
   "source": [
    "import pickle\n",
    "with open(r'pickle/songs_with_4_4_filtered_list_pickle_3ins_0,1err', 'wb+') as file:\n",
    "    pickle.dump(songs_with_4_4, file)"
   ]
  },
  {
   "cell_type": "code",
   "execution_count": 2,
   "metadata": {},
   "outputs": [
    {
     "output_type": "execute_result",
     "data": {
      "text/plain": "1993"
     },
     "metadata": {},
     "execution_count": 2
    }
   ],
   "source": [
    "import pickle\n",
    "with open(r'pickle/songs_with_4_4_list_pickle', 'rb') as file:\n",
    "    songs_with_4_4 = pickle.load(file)\n",
    "len(songs_with_4_4)"
   ]
  },
  {
   "cell_type": "code",
   "execution_count": 13,
   "metadata": {
    "tags": []
   },
   "outputs": [
    {
     "output_type": "stream",
     "name": "stdout",
     "text": "WARNING:tensorflow:From d:\\Studia\\magisterka\\Inne projekty\\remi\\model_pk.py:105: The name tf.global_variables_initializer is deprecated. Please use tf.compat.v1.global_variables_initializer instead.\n\nERROR: D:/Studia/magisterka/Pliki midi/Classical Archives - The Greats (MIDI Library)/Classical Archives - The Greats (MIDI)\\Classical Piano Midis\\Varios - Título desconocido\\a_h\\chanukah.mid, Exception: local variable 'tempo_style' referenced before assignment\nERROR: D:/Studia/magisterka/Pliki midi/Classical Archives - The Greats (MIDI Library)/Classical Archives - The Greats (MIDI)\\Schubert\\Piano Sonatas\\Piano Sonata n21 D960 1mov.mid, Exception: local variable 'tempo_style' referenced before assignment\nsomething is wrong! Note On_18\nsomething is wrong! Note On_18\nsomething is wrong! Note On_127\nsomething is wrong! Note On_127\nsomething is wrong! Note On_122\nsomething is wrong! Note On_125\nsomething is wrong! Note On_127\nsomething is wrong! Note On_127\nsomething is wrong! Note On_127\nsomething is wrong! Note On_127\nsomething is wrong! Note On_126\nsomething is wrong! Note On_127\nsomething is wrong! Note On_127\nsomething is wrong! Note On_119\nsomething is wrong! Note On_125\nsomething is wrong! Note On_122\nsomething is wrong! Note On_127\nsomething is wrong! Note On_122\nsomething is wrong! Note On_127\nsomething is wrong! Note On_127\nsomething is wrong! Note On_117\nsomething is wrong! Note On_122\nsomething is wrong! Note On_117\nsomething is wrong! Note On_112\nsomething is wrong! Note On_127\nsomething is wrong! Note On_122\nsomething is wrong! Note On_119\nsomething is wrong! Note On_127\nsomething is wrong! Note On_119\nsomething is wrong! Note On_112\nsomething is wrong! Note On_119\nsomething is wrong! Note On_117\nsomething is wrong! Note On_124\nsomething is wrong! Note On_125\nsomething is wrong! Note On_117\nsomething is wrong! Note On_0\nsomething is wrong! Note On_123\nsomething is wrong! Note On_120\nsomething is wrong! Note On_15\nsomething is wrong! Note On_127\nsomething is wrong! Note On_14\nsomething is wrong! Note On_122\nsomething is wrong! Note On_3\nsomething is wrong! Note On_127\nsomething is wrong! Note On_127\nsomething is wrong! Note On_127\nsomething is wrong! Note On_127\nsomething is wrong! Note On_127\nsomething is wrong! Note On_127\nsomething is wrong! Note On_122\nsomething is wrong! Note On_122\nsomething is wrong! Note On_0\nsomething is wrong! Note On_127\nsomething is wrong! Note On_122\n"
    }
   ],
   "source": [
    "model = PopMusicTransformer(\n",
    "    checkpoint='REMI-tempo-checkpoint',\n",
    "    load_weights=False,\n",
    "    is_training=True)\n",
    "training_data = model.prepare_data(midi_paths=songs_with_4_4)"
   ]
  },
  {
   "cell_type": "code",
   "execution_count": 14,
   "metadata": {},
   "outputs": [],
   "source": [
    "# training_data.shape\n",
    "import pickle\n",
    "with open(r'pickle/training_data_4_4_len256_classical_pickle_filtered_2from3ins_0,1err', 'wb+') as file:\n",
    "    pickle.dump(training_data, file)"
   ]
  },
  {
   "cell_type": "code",
   "execution_count": 6,
   "metadata": {},
   "outputs": [
    {
     "output_type": "execute_result",
     "data": {
      "text/plain": "'D:/Studia/magisterka/Pliki midi/Classical Archives - The Greats (MIDI Library)/Classical Archives - The Greats (MIDI)\\\\Buxethude Buxwv153 Prelude.mid'"
     },
     "metadata": {},
     "execution_count": 6
    }
   ],
   "source": [
    "songs_with_4_4[4]"
   ]
  },
  {
   "cell_type": "code",
   "execution_count": 1,
   "metadata": {
    "tags": []
   },
   "outputs": [
    {
     "output_type": "stream",
     "name": "stdout",
     "text": "WARNING:tensorflow:From d:\\Studia\\magisterka\\Inne projekty\\remi\\model_pk.py:103: The name tf.global_variables_initializer is deprecated. Please use tf.compat.v1.global_variables_initializer instead.\n\n>>> Epoch: 0, Step: 0, Loss: 7.89008, Time: 8.86\n>>> Epoch: 0, Step: 1, Loss: 5.57045, Time: 9.68\n>>> Epoch: 0, Step: 2, Loss: 5.13973, Time: 10.45\n>>> Epoch: 0, Step: 3, Loss: 4.57751, Time: 11.22\n>>> Epoch: 0, Step: 4, Loss: 4.42899, Time: 12.00\n>>> Epoch: 0, Step: 5, Loss: 4.74676, Time: 17.21\n>>> Epoch: 0, Step: 6, Loss: 4.56198, Time: 17.99\n>>> Epoch: 0, Step: 7, Loss: 4.18775, Time: 18.77\n>>> Epoch: 0, Step: 8, Loss: 4.06048, Time: 19.54\n>>> Epoch: 0, Step: 9, Loss: 4.29858, Time: 20.31\n>>> Epoch: 0, Step: 10, Loss: 4.34327, Time: 24.35\n>>> Epoch: 0, Step: 11, Loss: 4.17385, Time: 25.13\n>>> Epoch: 0, Step: 12, Loss: 4.19279, Time: 25.90\n>>> Epoch: 0, Step: 13, Loss: 4.42716, Time: 26.68\n>>> Epoch: 0, Step: 14, Loss: 4.57598, Time: 27.45\n>>> Epoch: 0, Step: 15, Loss: 4.15696, Time: 31.63\n>>> Epoch: 0, Step: 16, Loss: 4.40070, Time: 32.40\n>>> Epoch: 0, Step: 17, Loss: 4.31328, Time: 33.18\n>>> Epoch: 0, Step: 18, Loss: 4.06693, Time: 33.95\n>>> Epoch: 0, Step: 19, Loss: 4.49718, Time: 34.72\n>>> Epoch: 0, Step: 20, Loss: 4.27857, Time: 39.09\n>>> Epoch: 0, Step: 21, Loss: 4.33597, Time: 39.92\n>>> Epoch: 0, Step: 22, Loss: 4.34096, Time: 40.69\n>>> Epoch: 0, Step: 23, Loss: 4.41084, Time: 41.47\n>>> Epoch: 0, Step: 24, Loss: 4.36178, Time: 42.25\n>>> Epoch: 0, Step: 25, Loss: 4.65215, Time: 46.39\n>>> Epoch: 0, Step: 26, Loss: 4.56833, Time: 47.17\n>>> Epoch: 0, Step: 27, Loss: 4.41071, Time: 47.94\n>>> Epoch: 0, Step: 28, Loss: 4.36634, Time: 48.71\n>>> Epoch: 0, Step: 29, Loss: 4.30088, Time: 49.48\nWARNING:tensorflow:From D:\\Studia\\magisterka\\python\\venv_remi_asus\\lib\\site-packages\\tensorflow\\python\\training\\saver.py:960: remove_checkpoint (from tensorflow.python.training.checkpoint_management) is deprecated and will be removed in a future version.\nInstructions for updating:\nUse standard file APIs to delete files with this prefix.\n>>> Epoch: 0, Step: 30, Loss: 3.99346, Time: 53.45\n>>> Epoch: 0, Step: 31, Loss: 4.07147, Time: 54.22\n>>> Epoch: 0, Step: 32, Loss: 4.07647, Time: 54.99\n>>> Epoch: 0, Step: 33, Loss: 4.06843, Time: 55.77\n>>> Epoch: 0, Step: 34, Loss: 4.05903, Time: 56.56\n>>> Epoch: 0, Step: 35, Loss: 4.18971, Time: 60.69\n>>> Epoch: 0, Step: 36, Loss: 4.44518, Time: 61.46\n>>> Epoch: 0, Step: 37, Loss: 4.35762, Time: 62.24\n>>> Epoch: 0, Step: 38, Loss: 4.39061, Time: 63.01\n>>> Epoch: 0, Step: 39, Loss: 4.44979, Time: 63.78\n>>> Epoch: 0, Step: 40, Loss: 4.21394, Time: 68.04\n>>> Epoch: 0, Step: 41, Loss: 4.23966, Time: 68.82\n>>> Epoch: 0, Step: 42, Loss: 4.14728, Time: 69.60\n>>> Epoch: 0, Step: 43, Loss: 3.92530, Time: 70.37\n>>> Epoch: 0, Step: 44, Loss: 3.83347, Time: 71.14\n>>> Epoch: 0, Step: 45, Loss: 4.51152, Time: 75.43\n>>> Epoch: 0, Step: 46, Loss: 4.45928, Time: 76.24\n>>> Epoch: 0, Step: 47, Loss: 4.39957, Time: 77.02\n>>> Epoch: 0, Step: 48, Loss: 4.57604, Time: 77.79\n>>> Epoch: 0, Step: 49, Loss: 4.33128, Time: 78.56\n>>> Epoch: 0, Step: 50, Loss: 3.99269, Time: 82.97\n>>> Epoch: 0, Step: 51, Loss: 3.97778, Time: 83.75\n>>> Epoch: 0, Step: 52, Loss: 4.06369, Time: 84.52\n>>> Epoch: 0, Step: 53, Loss: 3.93721, Time: 85.29\n>>> Epoch: 0, Step: 54, Loss: 4.01041, Time: 86.08\n>>> Epoch: 0, Step: 55, Loss: 4.33829, Time: 90.21\n>>> Epoch: 0, Step: 56, Loss: 4.45323, Time: 90.99\n>>> Epoch: 0, Step: 57, Loss: 4.39488, Time: 91.77\n>>> Epoch: 0, Step: 58, Loss: 4.38457, Time: 92.54\n>>> Epoch: 0, Step: 59, Loss: 4.42615, Time: 93.31\n>>> Epoch: 0, Step: 60, Loss: 4.38760, Time: 97.41\n>>> Epoch: 0, Step: 61, Loss: 4.43460, Time: 98.20\n>>> Epoch: 0, Step: 62, Loss: 4.39348, Time: 99.01\n"
    },
    {
     "output_type": "error",
     "ename": "KeyboardInterrupt",
     "evalue": "",
     "traceback": [
      "\u001b[1;31m---------------------------------------------------------------------------\u001b[0m",
      "\u001b[1;31mKeyboardInterrupt\u001b[0m                         Traceback (most recent call last)",
      "\u001b[1;32m<ipython-input-1-3c2ae94abd54>\u001b[0m in \u001b[0;36m<module>\u001b[1;34m\u001b[0m\n\u001b[0;32m      1\u001b[0m \u001b[1;32mimport\u001b[0m \u001b[0mfinetune_pk\u001b[0m\u001b[1;33m\u001b[0m\u001b[1;33m\u001b[0m\u001b[0m\n\u001b[1;32m----> 2\u001b[1;33m \u001b[0mfinetune_pk\u001b[0m\u001b[1;33m.\u001b[0m\u001b[0mmain\u001b[0m\u001b[1;33m(\u001b[0m\u001b[1;33m)\u001b[0m\u001b[1;33m\u001b[0m\u001b[1;33m\u001b[0m\u001b[0m\n\u001b[0m",
      "\u001b[1;32md:\\Studia\\magisterka\\Inne projekty\\remi\\finetune_pk.py\u001b[0m in \u001b[0;36mmain\u001b[1;34m()\u001b[0m\n\u001b[0;32m     31\u001b[0m     model.finetune(\n\u001b[0;32m     32\u001b[0m         \u001b[0mtraining_data\u001b[0m\u001b[1;33m=\u001b[0m\u001b[0mtraining_data\u001b[0m\u001b[1;33m,\u001b[0m\u001b[1;33m\u001b[0m\u001b[1;33m\u001b[0m\u001b[0m\n\u001b[1;32m---> 33\u001b[1;33m         output_checkpoint_folder=output_checkpoint_folder)\n\u001b[0m\u001b[0;32m     34\u001b[0m \u001b[1;33m\u001b[0m\u001b[0m\n\u001b[0;32m     35\u001b[0m     \u001b[1;31m####################################\u001b[0m\u001b[1;33m\u001b[0m\u001b[1;33m\u001b[0m\u001b[1;33m\u001b[0m\u001b[0m\n",
      "\u001b[1;32md:\\Studia\\magisterka\\Inne projekty\\remi\\model_pk.py\u001b[0m in \u001b[0;36mfinetune\u001b[1;34m(self, training_data, output_checkpoint_folder)\u001b[0m\n\u001b[0;32m    299\u001b[0m                         \u001b[0mfeed_dict\u001b[0m\u001b[1;33m[\u001b[0m\u001b[0mm\u001b[0m\u001b[1;33m]\u001b[0m \u001b[1;33m=\u001b[0m \u001b[0mm_np\u001b[0m\u001b[1;33m\u001b[0m\u001b[1;33m\u001b[0m\u001b[0m\n\u001b[0;32m    300\u001b[0m                     \u001b[1;31m# run\u001b[0m\u001b[1;33m\u001b[0m\u001b[1;33m\u001b[0m\u001b[1;33m\u001b[0m\u001b[0m\n\u001b[1;32m--> 301\u001b[1;33m                     \u001b[0m_\u001b[0m\u001b[1;33m,\u001b[0m \u001b[0mgs_\u001b[0m\u001b[1;33m,\u001b[0m \u001b[0mloss_\u001b[0m\u001b[1;33m,\u001b[0m \u001b[0mnew_mem_\u001b[0m \u001b[1;33m=\u001b[0m \u001b[0mself\u001b[0m\u001b[1;33m.\u001b[0m\u001b[0msess\u001b[0m\u001b[1;33m.\u001b[0m\u001b[0mrun\u001b[0m\u001b[1;33m(\u001b[0m\u001b[1;33m[\u001b[0m\u001b[0mself\u001b[0m\u001b[1;33m.\u001b[0m\u001b[0mtrain_op\u001b[0m\u001b[1;33m,\u001b[0m \u001b[0mself\u001b[0m\u001b[1;33m.\u001b[0m\u001b[0mglobal_step\u001b[0m\u001b[1;33m,\u001b[0m \u001b[0mself\u001b[0m\u001b[1;33m.\u001b[0m\u001b[0mavg_loss\u001b[0m\u001b[1;33m,\u001b[0m \u001b[0mself\u001b[0m\u001b[1;33m.\u001b[0m\u001b[0mnew_mem\u001b[0m\u001b[1;33m]\u001b[0m\u001b[1;33m,\u001b[0m \u001b[0mfeed_dict\u001b[0m\u001b[1;33m=\u001b[0m\u001b[0mfeed_dict\u001b[0m\u001b[1;33m)\u001b[0m\u001b[1;33m\u001b[0m\u001b[1;33m\u001b[0m\u001b[0m\n\u001b[0m\u001b[0;32m    302\u001b[0m                     \u001b[0mbatch_m\u001b[0m \u001b[1;33m=\u001b[0m \u001b[0mnew_mem_\u001b[0m\u001b[1;33m\u001b[0m\u001b[1;33m\u001b[0m\u001b[0m\n\u001b[0;32m    303\u001b[0m                     \u001b[0mtotal_loss\u001b[0m\u001b[1;33m.\u001b[0m\u001b[0mappend\u001b[0m\u001b[1;33m(\u001b[0m\u001b[0mloss_\u001b[0m\u001b[1;33m)\u001b[0m\u001b[1;33m\u001b[0m\u001b[1;33m\u001b[0m\u001b[0m\n",
      "\u001b[1;32mD:\\Studia\\magisterka\\python\\venv_remi_asus\\lib\\site-packages\\tensorflow\\python\\client\\session.py\u001b[0m in \u001b[0;36mrun\u001b[1;34m(self, fetches, feed_dict, options, run_metadata)\u001b[0m\n\u001b[0;32m    948\u001b[0m     \u001b[1;32mtry\u001b[0m\u001b[1;33m:\u001b[0m\u001b[1;33m\u001b[0m\u001b[1;33m\u001b[0m\u001b[0m\n\u001b[0;32m    949\u001b[0m       result = self._run(None, fetches, feed_dict, options_ptr,\n\u001b[1;32m--> 950\u001b[1;33m                          run_metadata_ptr)\n\u001b[0m\u001b[0;32m    951\u001b[0m       \u001b[1;32mif\u001b[0m \u001b[0mrun_metadata\u001b[0m\u001b[1;33m:\u001b[0m\u001b[1;33m\u001b[0m\u001b[1;33m\u001b[0m\u001b[0m\n\u001b[0;32m    952\u001b[0m         \u001b[0mproto_data\u001b[0m \u001b[1;33m=\u001b[0m \u001b[0mtf_session\u001b[0m\u001b[1;33m.\u001b[0m\u001b[0mTF_GetBuffer\u001b[0m\u001b[1;33m(\u001b[0m\u001b[0mrun_metadata_ptr\u001b[0m\u001b[1;33m)\u001b[0m\u001b[1;33m\u001b[0m\u001b[1;33m\u001b[0m\u001b[0m\n",
      "\u001b[1;32mD:\\Studia\\magisterka\\python\\venv_remi_asus\\lib\\site-packages\\tensorflow\\python\\client\\session.py\u001b[0m in \u001b[0;36m_run\u001b[1;34m(self, handle, fetches, feed_dict, options, run_metadata)\u001b[0m\n\u001b[0;32m   1171\u001b[0m     \u001b[1;32mif\u001b[0m \u001b[0mfinal_fetches\u001b[0m \u001b[1;32mor\u001b[0m \u001b[0mfinal_targets\u001b[0m \u001b[1;32mor\u001b[0m \u001b[1;33m(\u001b[0m\u001b[0mhandle\u001b[0m \u001b[1;32mand\u001b[0m \u001b[0mfeed_dict_tensor\u001b[0m\u001b[1;33m)\u001b[0m\u001b[1;33m:\u001b[0m\u001b[1;33m\u001b[0m\u001b[1;33m\u001b[0m\u001b[0m\n\u001b[0;32m   1172\u001b[0m       results = self._do_run(handle, final_targets, final_fetches,\n\u001b[1;32m-> 1173\u001b[1;33m                              feed_dict_tensor, options, run_metadata)\n\u001b[0m\u001b[0;32m   1174\u001b[0m     \u001b[1;32melse\u001b[0m\u001b[1;33m:\u001b[0m\u001b[1;33m\u001b[0m\u001b[1;33m\u001b[0m\u001b[0m\n\u001b[0;32m   1175\u001b[0m       \u001b[0mresults\u001b[0m \u001b[1;33m=\u001b[0m \u001b[1;33m[\u001b[0m\u001b[1;33m]\u001b[0m\u001b[1;33m\u001b[0m\u001b[1;33m\u001b[0m\u001b[0m\n",
      "\u001b[1;32mD:\\Studia\\magisterka\\python\\venv_remi_asus\\lib\\site-packages\\tensorflow\\python\\client\\session.py\u001b[0m in \u001b[0;36m_do_run\u001b[1;34m(self, handle, target_list, fetch_list, feed_dict, options, run_metadata)\u001b[0m\n\u001b[0;32m   1348\u001b[0m     \u001b[1;32mif\u001b[0m \u001b[0mhandle\u001b[0m \u001b[1;32mis\u001b[0m \u001b[1;32mNone\u001b[0m\u001b[1;33m:\u001b[0m\u001b[1;33m\u001b[0m\u001b[1;33m\u001b[0m\u001b[0m\n\u001b[0;32m   1349\u001b[0m       return self._do_call(_run_fn, feeds, fetches, targets, options,\n\u001b[1;32m-> 1350\u001b[1;33m                            run_metadata)\n\u001b[0m\u001b[0;32m   1351\u001b[0m     \u001b[1;32melse\u001b[0m\u001b[1;33m:\u001b[0m\u001b[1;33m\u001b[0m\u001b[1;33m\u001b[0m\u001b[0m\n\u001b[0;32m   1352\u001b[0m       \u001b[1;32mreturn\u001b[0m \u001b[0mself\u001b[0m\u001b[1;33m.\u001b[0m\u001b[0m_do_call\u001b[0m\u001b[1;33m(\u001b[0m\u001b[0m_prun_fn\u001b[0m\u001b[1;33m,\u001b[0m \u001b[0mhandle\u001b[0m\u001b[1;33m,\u001b[0m \u001b[0mfeeds\u001b[0m\u001b[1;33m,\u001b[0m \u001b[0mfetches\u001b[0m\u001b[1;33m)\u001b[0m\u001b[1;33m\u001b[0m\u001b[1;33m\u001b[0m\u001b[0m\n",
      "\u001b[1;32mD:\\Studia\\magisterka\\python\\venv_remi_asus\\lib\\site-packages\\tensorflow\\python\\client\\session.py\u001b[0m in \u001b[0;36m_do_call\u001b[1;34m(self, fn, *args)\u001b[0m\n\u001b[0;32m   1354\u001b[0m   \u001b[1;32mdef\u001b[0m \u001b[0m_do_call\u001b[0m\u001b[1;33m(\u001b[0m\u001b[0mself\u001b[0m\u001b[1;33m,\u001b[0m \u001b[0mfn\u001b[0m\u001b[1;33m,\u001b[0m \u001b[1;33m*\u001b[0m\u001b[0margs\u001b[0m\u001b[1;33m)\u001b[0m\u001b[1;33m:\u001b[0m\u001b[1;33m\u001b[0m\u001b[1;33m\u001b[0m\u001b[0m\n\u001b[0;32m   1355\u001b[0m     \u001b[1;32mtry\u001b[0m\u001b[1;33m:\u001b[0m\u001b[1;33m\u001b[0m\u001b[1;33m\u001b[0m\u001b[0m\n\u001b[1;32m-> 1356\u001b[1;33m       \u001b[1;32mreturn\u001b[0m \u001b[0mfn\u001b[0m\u001b[1;33m(\u001b[0m\u001b[1;33m*\u001b[0m\u001b[0margs\u001b[0m\u001b[1;33m)\u001b[0m\u001b[1;33m\u001b[0m\u001b[1;33m\u001b[0m\u001b[0m\n\u001b[0m\u001b[0;32m   1357\u001b[0m     \u001b[1;32mexcept\u001b[0m \u001b[0merrors\u001b[0m\u001b[1;33m.\u001b[0m\u001b[0mOpError\u001b[0m \u001b[1;32mas\u001b[0m \u001b[0me\u001b[0m\u001b[1;33m:\u001b[0m\u001b[1;33m\u001b[0m\u001b[1;33m\u001b[0m\u001b[0m\n\u001b[0;32m   1358\u001b[0m       \u001b[0mmessage\u001b[0m \u001b[1;33m=\u001b[0m \u001b[0mcompat\u001b[0m\u001b[1;33m.\u001b[0m\u001b[0mas_text\u001b[0m\u001b[1;33m(\u001b[0m\u001b[0me\u001b[0m\u001b[1;33m.\u001b[0m\u001b[0mmessage\u001b[0m\u001b[1;33m)\u001b[0m\u001b[1;33m\u001b[0m\u001b[1;33m\u001b[0m\u001b[0m\n",
      "\u001b[1;32mD:\\Studia\\magisterka\\python\\venv_remi_asus\\lib\\site-packages\\tensorflow\\python\\client\\session.py\u001b[0m in \u001b[0;36m_run_fn\u001b[1;34m(feed_dict, fetch_list, target_list, options, run_metadata)\u001b[0m\n\u001b[0;32m   1339\u001b[0m       \u001b[0mself\u001b[0m\u001b[1;33m.\u001b[0m\u001b[0m_extend_graph\u001b[0m\u001b[1;33m(\u001b[0m\u001b[1;33m)\u001b[0m\u001b[1;33m\u001b[0m\u001b[1;33m\u001b[0m\u001b[0m\n\u001b[0;32m   1340\u001b[0m       return self._call_tf_sessionrun(\n\u001b[1;32m-> 1341\u001b[1;33m           options, feed_dict, fetch_list, target_list, run_metadata)\n\u001b[0m\u001b[0;32m   1342\u001b[0m \u001b[1;33m\u001b[0m\u001b[0m\n\u001b[0;32m   1343\u001b[0m     \u001b[1;32mdef\u001b[0m \u001b[0m_prun_fn\u001b[0m\u001b[1;33m(\u001b[0m\u001b[0mhandle\u001b[0m\u001b[1;33m,\u001b[0m \u001b[0mfeed_dict\u001b[0m\u001b[1;33m,\u001b[0m \u001b[0mfetch_list\u001b[0m\u001b[1;33m)\u001b[0m\u001b[1;33m:\u001b[0m\u001b[1;33m\u001b[0m\u001b[1;33m\u001b[0m\u001b[0m\n",
      "\u001b[1;32mD:\\Studia\\magisterka\\python\\venv_remi_asus\\lib\\site-packages\\tensorflow\\python\\client\\session.py\u001b[0m in \u001b[0;36m_call_tf_sessionrun\u001b[1;34m(self, options, feed_dict, fetch_list, target_list, run_metadata)\u001b[0m\n\u001b[0;32m   1427\u001b[0m     return tf_session.TF_SessionRun_wrapper(\n\u001b[0;32m   1428\u001b[0m         \u001b[0mself\u001b[0m\u001b[1;33m.\u001b[0m\u001b[0m_session\u001b[0m\u001b[1;33m,\u001b[0m \u001b[0moptions\u001b[0m\u001b[1;33m,\u001b[0m \u001b[0mfeed_dict\u001b[0m\u001b[1;33m,\u001b[0m \u001b[0mfetch_list\u001b[0m\u001b[1;33m,\u001b[0m \u001b[0mtarget_list\u001b[0m\u001b[1;33m,\u001b[0m\u001b[1;33m\u001b[0m\u001b[1;33m\u001b[0m\u001b[0m\n\u001b[1;32m-> 1429\u001b[1;33m         run_metadata)\n\u001b[0m\u001b[0;32m   1430\u001b[0m \u001b[1;33m\u001b[0m\u001b[0m\n\u001b[0;32m   1431\u001b[0m   \u001b[1;32mdef\u001b[0m \u001b[0m_call_tf_sessionprun\u001b[0m\u001b[1;33m(\u001b[0m\u001b[0mself\u001b[0m\u001b[1;33m,\u001b[0m \u001b[0mhandle\u001b[0m\u001b[1;33m,\u001b[0m \u001b[0mfeed_dict\u001b[0m\u001b[1;33m,\u001b[0m \u001b[0mfetch_list\u001b[0m\u001b[1;33m)\u001b[0m\u001b[1;33m:\u001b[0m\u001b[1;33m\u001b[0m\u001b[1;33m\u001b[0m\u001b[0m\n",
      "\u001b[1;31mKeyboardInterrupt\u001b[0m: "
     ]
    }
   ],
   "source": [
    "import finetune_pk\n",
    "finetune_pk.main()"
   ]
  },
  {
   "cell_type": "code",
   "execution_count": null,
   "metadata": {},
   "outputs": [],
   "source": [
    "D:\\Studia\\magisterka\\python\\venv_remi_asus\\Scripts\\activate\n",
    "D:\\Studia\\magisterka\\python\\venv_remi_asus\\Scripts\\deactivate\n",
    "\n",
    "python finetune_pk.py"
   ]
  }
 ],
 "metadata": {
  "language_info": {
   "codemirror_mode": {
    "name": "ipython",
    "version": 3
   },
   "file_extension": ".py",
   "mimetype": "text/x-python",
   "name": "python",
   "nbconvert_exporter": "python",
   "pygments_lexer": "ipython3",
   "version": "3.7.5-final"
  },
  "orig_nbformat": 2,
  "kernelspec": {
   "name": "venv_remi_asus",
   "display_name": "venv_remi_asus"
  }
 },
 "nbformat": 4,
 "nbformat_minor": 2
}