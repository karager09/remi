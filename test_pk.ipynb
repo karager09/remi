{
 "cells": [
  {
   "cell_type": "code",
   "execution_count": 2,
   "metadata": {},
   "outputs": [],
   "source": [
    "import miditoolkit"
   ]
  },
  {
   "cell_type": "code",
   "execution_count": 5,
   "metadata": {},
   "outputs": [
    {
     "output_type": "execute_result",
     "data": {
      "text/plain": "True"
     },
     "metadata": {},
     "execution_count": 5
    }
   ],
   "source": [
    "import tensorflow as tf \n",
    "tf.test.is_built_with_cuda()"
   ]
  },
  {
   "cell_type": "code",
   "execution_count": 4,
   "metadata": {
    "tags": []
   },
   "outputs": [
    {
     "output_type": "stream",
     "name": "stdout",
     "text": "Starting..\nINFO:tensorflow:Restoring parameters from REMI-finetune-pk-len256-2from3ins_0,1err/model-022-0.570\nLoading complete\nFrom scratch complete\nContinuation complete\n"
    }
   ],
   "source": [
    "# test\n",
    "from main_pk import main\n",
    "main()"
   ]
  },
  {
   "cell_type": "code",
   "execution_count": 4,
   "metadata": {},
   "outputs": [],
   "source": [
    "from model_pk import PopMusicTransformer"
   ]
  },
  {
   "cell_type": "code",
   "execution_count": 5,
   "metadata": {
    "tags": []
   },
   "outputs": [],
   "source": [
    "    model = PopMusicTransformer(\n",
    "        checkpoint='REMI-tempo-checkpoint',\n",
    "        is_training=False)"
   ]
  },
  {
   "cell_type": "code",
   "execution_count": 7,
   "metadata": {
    "tags": []
   },
   "outputs": [
    {
     "output_type": "execute_result",
     "data": {
      "text/plain": "[Event(name=Bar, time=None, value=None, text=1),\n Event(name=Position Bar, time=0.0, value=1, text=0.0),\n Event(name=Position Quarter, time=0.0, value=1/8, text=0.0),\n Event(name=Tempo Class, time=0.0, value=slow, text=None),\n Event(name=Tempo Value, time=0.0, value=11, text=None),\n Event(name=Position Bar, time=0.0, value=1, text=0.0),\n Event(name=Position Quarter, time=0.0, value=1/8, text=0.0),\n Event(name=Note Velocity, time=0.0, value=100, text=100/100),\n Event(name=Note On, time=0.0, value=48, text=48),\n Event(name=Note Duration, time=0.0, value=7, text=7/8)]"
     },
     "metadata": {},
     "execution_count": 7
    }
   ],
   "source": [
    "import utils_pk\n",
    "ev = model.extract_events(r'D:/Studia/magisterka/Pliki midi/Classical Archives - The Greats (MIDI Library)/Classical Archives - The Greats (MIDI)\\Diabelli Sonatina op151 n4 2mov.mid')\n",
    "ev[:10]\n",
    "\n",
    "# utils_pk.write_midi(utils_pk.event_to_word(ev, model.event2word), model.word2event, r'D:\\Studia\\magisterka\\Generated\\REMI\\sample.mid')"
   ]
  },
  {
   "cell_type": "code",
   "execution_count": 4,
   "metadata": {},
   "outputs": [
    {
     "output_type": "execute_result",
     "data": {
      "text/plain": "array([  60,  120,  180,  240,  300,  360,  420,  480,  540,  600,  660,\n        720,  780,  840,  900,  960, 1020, 1080, 1140, 1200, 1260, 1320,\n       1380, 1440, 1500, 1560, 1620, 1680, 1740, 1800, 1860, 1920, 1980,\n       2040, 2100, 2160, 2220, 2280, 2340, 2400, 2460, 2520, 2580, 2640,\n       2700, 2760, 2820, 2880, 2940, 3000, 3060, 3120, 3180, 3240, 3300,\n       3360, 3420, 3480, 3540, 3600, 3660, 3720, 3780, 3840])"
     },
     "metadata": {},
     "execution_count": 4
    }
   ],
   "source": [
    "import numpy as np\n",
    "np.arange(60, 3841, 60, dtype=int)"
   ]
  },
  {
   "cell_type": "code",
   "execution_count": 5,
   "metadata": {},
   "outputs": [],
   "source": [
    "import miditoolkit\n",
    "import utils"
   ]
  },
  {
   "cell_type": "code",
   "execution_count": 5,
   "metadata": {},
   "outputs": [
    {
     "output_type": "execute_result",
     "data": {
      "text/plain": "2"
     },
     "metadata": {},
     "execution_count": 5
    }
   ],
   "source": [
    "len(midi_obj.instruments)"
   ]
  },
  {
   "cell_type": "code",
   "execution_count": 9,
   "metadata": {
    "tags": []
   },
   "outputs": [
    {
     "output_type": "stream",
     "name": "stdout",
     "text": "480\n[TimeSignature(numerator=2, denominator=8, time=0)]\nO nie\nO nie\nO nie\nO nie\nO nie\nO nie\nO nie\nO nie\nO nie\nO nie\nO nie\nO nie\nO nie\nO nie\nO nie\nO nie\nO nie\nO nie\nO nie\n"
    }
   ],
   "source": [
    "# midi_obj = miditoolkit.midi.parser.MidiFile('D:/Studia/magisterka/Pliki midi/Classical Archives - The Greats (MIDI Library)/Classical Archives - The Greats (MIDI)\\\\Classical Piano Midis\\\\Herold\\\\Overture to Zampa.mid')\n",
    "midi_obj = miditoolkit.midi.parser.MidiFile(\"D:\\Studia\\magisterka\\Pliki midi\\Classical Archives - The Greats (MIDI Library)\\Classical Archives - The Greats (MIDI)\\Chopin\\Prelude n01 op28 ''Reunion''.mid\")\n",
    "print(midi_obj.ticks_per_beat)\n",
    "print(midi_obj.time_signature_changes)\n",
    "for note in midi_obj.instruments[0].notes[0:30]:\n",
    "    if note.start * 16 % midi_obj.ticks_per_beat != 0:\n",
    "        print(\"O nie\")"
   ]
  },
  {
   "cell_type": "code",
   "execution_count": 7,
   "metadata": {
    "tags": []
   },
   "outputs": [
    {
     "output_type": "stream",
     "name": "stdout",
     "text": "D:/Studia/magisterka/Pliki midi/Classical Archives - The Greats (MIDI Library)/Classical Archives - The Greats (MIDI)\\Buxethude Buxwv138 Prelude.mid\nD:/Studia/magisterka/Pliki midi/Classical Archives - The Greats (MIDI Library)/Classical Archives - The Greats (MIDI)\\Buxethude Buxwv161 Passcaglia.mid\nD:/Studia/magisterka/Pliki midi/Classical Archives - The Greats (MIDI Library)/Classical Archives - The Greats (MIDI)\\Beethoven\\Anhang 14-3.mid\nD:/Studia/magisterka/Pliki midi/Classical Archives - The Greats (MIDI Library)/Classical Archives - The Greats (MIDI)\\Classical Piano Midis\\Copland\\The Promise of Living - from the Tender Land.mid\nD:/Studia/magisterka/Pliki midi/Classical Archives - The Greats (MIDI Library)/Classical Archives - The Greats (MIDI)\\Classical Piano Midis\\German\\Overture to Princess of Kensington.mid\nD:/Studia/magisterka/Pliki midi/Classical Archives - The Greats (MIDI Library)/Classical Archives - The Greats (MIDI)\\Classical Piano Midis\\Grieg\\De hal van de Bergkonging.mid\nD:/Studia/magisterka/Pliki midi/Classical Archives - The Greats (MIDI Library)/Classical Archives - The Greats (MIDI)\\Classical Piano Midis\\Maier\\Atalanta Fugiens No.1.mid\nD:/Studia/magisterka/Pliki midi/Classical Archives - The Greats (MIDI Library)/Classical Archives - The Greats (MIDI)\\Classical Piano Midis\\Maier\\Atalanta Fugiens No.15.mid\nD:/Studia/magisterka/Pliki midi/Classical Archives - The Greats (MIDI Library)/Classical Archives - The Greats (MIDI)\\Classical Piano Midis\\Maier\\Atalanta Fugiens No.2.mid\nD:/Studia/magisterka/Pliki midi/Classical Archives - The Greats (MIDI Library)/Classical Archives - The Greats (MIDI)\\Classical Piano Midis\\Maier\\Atalanta Fugiens No.21.mid\nD:/Studia/magisterka/Pliki midi/Classical Archives - The Greats (MIDI Library)/Classical Archives - The Greats (MIDI)\\Classical Piano Midis\\Maier\\Atalanta Fugiens No.32.mid\nD:/Studia/magisterka/Pliki midi/Classical Archives - The Greats (MIDI Library)/Classical Archives - The Greats (MIDI)\\Classical Piano Midis\\Varios - Título desconocido\\a_h\\allfaith.mid\nD:/Studia/magisterka/Pliki midi/Classical Archives - The Greats (MIDI Library)/Classical Archives - The Greats (MIDI)\\Classical Piano Midis\\Varios - Título desconocido\\a_h\\amadeus.mid\nD:/Studia/magisterka/Pliki midi/Classical Archives - The Greats (MIDI Library)/Classical Archives - The Greats (MIDI)\\Classical Piano Midis\\Varios - Título desconocido\\a_h\\ball2.mid\nD:/Studia/magisterka/Pliki midi/Classical Archives - The Greats (MIDI Library)/Classical Archives - The Greats (MIDI)\\Classical Piano Midis\\Varios - Título desconocido\\a_h\\ballad1.mid\nD:/Studia/magisterka/Pliki midi/Classical Archives - The Greats (MIDI Library)/Classical Archives - The Greats (MIDI)\\Classical Piano Midis\\Varios - Título desconocido\\a_h\\ba_bran3.mid\nD:/Studia/magisterka/Pliki midi/Classical Archives - The Greats (MIDI Library)/Classical Archives - The Greats (MIDI)\\Classical Piano Midis\\Varios - Título desconocido\\a_h\\beet51a.mid\nD:/Studia/magisterka/Pliki midi/Classical Archives - The Greats (MIDI Library)/Classical Archives - The Greats (MIDI)\\Classical Piano Midis\\Varios - Título desconocido\\a_h\\beet51s.mid\nD:/Studia/magisterka/Pliki midi/Classical Archives - The Greats (MIDI Library)/Classical Archives - The Greats (MIDI)\\Classical Piano Midis\\Varios - Título desconocido\\a_h\\beet52.mid\nD:/Studia/magisterka/Pliki midi/Classical Archives - The Greats (MIDI Library)/Classical Archives - The Greats (MIDI)\\Classical Piano Midis\\Varios - Título desconocido\\a_h\\beet53.mid\nD:/Studia/magisterka/Pliki midi/Classical Archives - The Greats (MIDI Library)/Classical Archives - The Greats (MIDI)\\Classical Piano Midis\\Varios - Título desconocido\\a_h\\beet53s.mid\nD:/Studia/magisterka/Pliki midi/Classical Archives - The Greats (MIDI Library)/Classical Archives - The Greats (MIDI)\\Classical Piano Midis\\Varios - Título desconocido\\a_h\\beet54.mid\nD:/Studia/magisterka/Pliki midi/Classical Archives - The Greats (MIDI Library)/Classical Archives - The Greats (MIDI)\\Classical Piano Midis\\Varios - Título desconocido\\a_h\\beet54s.mid\nD:/Studia/magisterka/Pliki midi/Classical Archives - The Greats (MIDI Library)/Classical Archives - The Greats (MIDI)\\Classical Piano Midis\\Varios - Título desconocido\\a_h\\bouree32.mid\nD:/Studia/magisterka/Pliki midi/Classical Archives - The Greats (MIDI Library)/Classical Archives - The Greats (MIDI)\\Classical Piano Midis\\Varios - Título desconocido\\a_h\\brand_3.mid\nD:/Studia/magisterka/Pliki midi/Classical Archives - The Greats (MIDI Library)/Classical Archives - The Greats (MIDI)\\Classical Piano Midis\\Varios - Título desconocido\\a_h\\brass.mid\nD:/Studia/magisterka/Pliki midi/Classical Archives - The Greats (MIDI Library)/Classical Archives - The Greats (MIDI)\\Classical Piano Midis\\Varios - Título desconocido\\a_h\\bsbconc4.mid\nD:/Studia/magisterka/Pliki midi/Classical Archives - The Greats (MIDI Library)/Classical Archives - The Greats (MIDI)\\Classical Piano Midis\\Varios - Título desconocido\\a_h\\bumblbee.mid\nD:/Studia/magisterka/Pliki midi/Classical Archives - The Greats (MIDI Library)/Classical Archives - The Greats (MIDI)\\Classical Piano Midis\\Varios - Título desconocido\\a_h\\bumble_b.mid\nD:/Studia/magisterka/Pliki midi/Classical Archives - The Greats (MIDI Library)/Classical Archives - The Greats (MIDI)\\Classical Piano Midis\\Varios - Título desconocido\\a_h\\canon.mid\nD:/Studia/magisterka/Pliki midi/Classical Archives - The Greats (MIDI Library)/Classical Archives - The Greats (MIDI)\\Classical Piano Midis\\Varios - Título desconocido\\a_h\\canon2.mid\nD:/Studia/magisterka/Pliki midi/Classical Archives - The Greats (MIDI Library)/Classical Archives - The Greats (MIDI)\\Classical Piano Midis\\Varios - Título desconocido\\a_h\\canonind.mid\nD:/Studia/magisterka/Pliki midi/Classical Archives - The Greats (MIDI Library)/Classical Archives - The Greats (MIDI)\\Classical Piano Midis\\Varios - Título desconocido\\a_h\\chinese3.mid\nD:/Studia/magisterka/Pliki midi/Classical Archives - The Greats (MIDI Library)/Classical Archives - The Greats (MIDI)\\Classical Piano Midis\\Varios - Título desconocido\\a_h\\chopin7.mid\nD:/Studia/magisterka/Pliki midi/Classical Archives - The Greats (MIDI Library)/Classical Archives - The Greats (MIDI)\\Classical Piano Midis\\Varios - Título desconocido\\a_h\\chopstik.mid\nD:/Studia/magisterka/Pliki midi/Classical Archives - The Greats (MIDI Library)/Classical Archives - The Greats (MIDI)\\Classical Piano Midis\\Varios - Título desconocido\\a_h\\chord.mid\nD:/Studia/magisterka/Pliki midi/Classical Archives - The Greats (MIDI Library)/Classical Archives - The Greats (MIDI)\\Classical Piano Midis\\Varios - Título desconocido\\a_h\\clar1.mid\nD:/Studia/magisterka/Pliki midi/Classical Archives - The Greats (MIDI Library)/Classical Archives - The Greats (MIDI)\\Classical Piano Midis\\Varios - Título desconocido\\a_h\\clar2.mid\nD:/Studia/magisterka/Pliki midi/Classical Archives - The Greats (MIDI Library)/Classical Archives - The Greats (MIDI)\\Classical Piano Midis\\Varios - Título desconocido\\a_h\\clar3.mid\nD:/Studia/magisterka/Pliki midi/Classical Archives - The Greats (MIDI Library)/Classical Archives - The Greats (MIDI)\\Classical Piano Midis\\Varios - Título desconocido\\a_h\\clar4.mid\nD:/Studia/magisterka/Pliki midi/Classical Archives - The Greats (MIDI Library)/Classical Archives - The Greats (MIDI)\\Classical Piano Midis\\Varios - Título desconocido\\a_h\\clar5.mid\nD:/Studia/magisterka/Pliki midi/Classical Archives - The Greats (MIDI Library)/Classical Archives - The Greats (MIDI)\\Classical Piano Midis\\Varios - Título desconocido\\a_h\\concrto3.mid\nD:/Studia/magisterka/Pliki midi/Classical Archives - The Greats (MIDI Library)/Classical Archives - The Greats (MIDI)\\Classical Piano Midis\\Varios - Título desconocido\\a_h\\exodus.mid\nD:/Studia/magisterka/Pliki midi/Classical Archives - The Greats (MIDI Library)/Classical Archives - The Greats (MIDI)\\Classical Piano Midis\\Varios - Título desconocido\\a_h\\f20amin.mid\nD:/Studia/magisterka/Pliki midi/Classical Archives - The Greats (MIDI Library)/Classical Archives - The Greats (MIDI)\\Classical Piano Midis\\Varios - Título desconocido\\a_h\\for_unto.mid\nD:/Studia/magisterka/Pliki midi/Classical Archives - The Greats (MIDI Library)/Classical Archives - The Greats (MIDI)\\Classical Piano Midis\\Varios - Título desconocido\\a_h\\gersh1.mid\nD:/Studia/magisterka/Pliki midi/Classical Archives - The Greats (MIDI Library)/Classical Archives - The Greats (MIDI)\\Classical Piano Midis\\Varios - Título desconocido\\a_h\\gersh2.mid\nD:/Studia/magisterka/Pliki midi/Classical Archives - The Greats (MIDI Library)/Classical Archives - The Greats (MIDI)\\Classical Piano Midis\\Varios - Título desconocido\\a_h\\gersh3.mid\nD:/Studia/magisterka/Pliki midi/Classical Archives - The Greats (MIDI Library)/Classical Archives - The Greats (MIDI)\\Classical Piano Midis\\Varios - Título desconocido\\a_h\\gersh4.mid\nD:/Studia/magisterka/Pliki midi/Classical Archives - The Greats (MIDI Library)/Classical Archives - The Greats (MIDI)\\Classical Piano Midis\\Varios - Título desconocido\\a_h\\gersh5.mid\nD:/Studia/magisterka/Pliki midi/Classical Archives - The Greats (MIDI Library)/Classical Archives - The Greats (MIDI)\\Classical Piano Midis\\Varios - Título desconocido\\a_h\\godrest.mid\nD:/Studia/magisterka/Pliki midi/Classical Archives - The Greats (MIDI Library)/Classical Archives - The Greats (MIDI)\\Classical Piano Midis\\Varios - Título desconocido\\a_h\\hoedown.mid\nD:/Studia/magisterka/Pliki midi/Classical Archives - The Greats (MIDI Library)/Classical Archives - The Greats (MIDI)\\Classical Piano Midis\\Varios - Título desconocido\\i_o\\jesus.mid\nD:/Studia/magisterka/Pliki midi/Classical Archives - The Greats (MIDI Library)/Classical Archives - The Greats (MIDI)\\Classical Piano Midis\\Varios - Título desconocido\\i_o\\jupiter.mid\nD:/Studia/magisterka/Pliki midi/Classical Archives - The Greats (MIDI Library)/Classical Archives - The Greats (MIDI)\\Classical Piano Midis\\Varios - Título desconocido\\i_o\\mappari.mid\nD:/Studia/magisterka/Pliki midi/Classical Archives - The Greats (MIDI Library)/Classical Archives - The Greats (MIDI)\\Classical Piano Midis\\Varios - Título desconocido\\i_o\\mntevrdi.mid\nD:/Studia/magisterka/Pliki midi/Classical Archives - The Greats (MIDI Library)/Classical Archives - The Greats (MIDI)\\Classical Piano Midis\\Varios - Título desconocido\\i_o\\mozrtq1.mid\nD:/Studia/magisterka/Pliki midi/Classical Archives - The Greats (MIDI Library)/Classical Archives - The Greats (MIDI)\\Classical Piano Midis\\Varios - Título desconocido\\i_o\\mzrtk550.mid\nD:/Studia/magisterka/Pliki midi/Classical Archives - The Greats (MIDI Library)/Classical Archives - The Greats (MIDI)\\Classical Piano Midis\\Varios - Título desconocido\\i_o\\m_loc.mid\nD:/Studia/magisterka/Pliki midi/Classical Archives - The Greats (MIDI Library)/Classical Archives - The Greats (MIDI)\\Classical Piano Midis\\Varios - Título desconocido\\i_o\\opus6.mid\nD:/Studia/magisterka/Pliki midi/Classical Archives - The Greats (MIDI Library)/Classical Archives - The Greats (MIDI)\\Classical Piano Midis\\Varios - Título desconocido\\p_z\\pmpcicum.mid\nD:/Studia/magisterka/Pliki midi/Classical Archives - The Greats (MIDI Library)/Classical Archives - The Greats (MIDI)\\Classical Piano Midis\\Varios - Título desconocido\\p_z\\pmp_circ.mid\nD:/Studia/magisterka/Pliki midi/Classical Archives - The Greats (MIDI Library)/Classical Archives - The Greats (MIDI)\\Classical Piano Midis\\Varios - Título desconocido\\p_z\\preludgm.mid\nD:/Studia/magisterka/Pliki midi/Classical Archives - The Greats (MIDI Library)/Classical Archives - The Greats (MIDI)\\Classical Piano Midis\\Varios - Título desconocido\\p_z\\rapinbl.mid\nD:/Studia/magisterka/Pliki midi/Classical Archives - The Greats (MIDI Library)/Classical Archives - The Greats (MIDI)\\Classical Piano Midis\\Varios - Título desconocido\\p_z\\scherzo.mid\nD:/Studia/magisterka/Pliki midi/Classical Archives - The Greats (MIDI Library)/Classical Archives - The Greats (MIDI)\\Classical Piano Midis\\Varios - Título desconocido\\p_z\\schumann.mid\nD:/Studia/magisterka/Pliki midi/Classical Archives - The Greats (MIDI Library)/Classical Archives - The Greats (MIDI)\\Classical Piano Midis\\Varios - Título desconocido\\p_z\\song1.mid\nD:/Studia/magisterka/Pliki midi/Classical Archives - The Greats (MIDI Library)/Classical Archives - The Greats (MIDI)\\Classical Piano Midis\\Varios - Título desconocido\\p_z\\strav1.mid\nD:/Studia/magisterka/Pliki midi/Classical Archives - The Greats (MIDI Library)/Classical Archives - The Greats (MIDI)\\Classical Piano Midis\\Varios - Título desconocido\\p_z\\strav2.mid\nD:/Studia/magisterka/Pliki midi/Classical Archives - The Greats (MIDI Library)/Classical Archives - The Greats (MIDI)\\Classical Piano Midis\\Varios - Título desconocido\\p_z\\strav3.mid\nD:/Studia/magisterka/Pliki midi/Classical Archives - The Greats (MIDI Library)/Classical Archives - The Greats (MIDI)\\Classical Piano Midis\\Varios - Título desconocido\\p_z\\tango.mid\nD:/Studia/magisterka/Pliki midi/Classical Archives - The Greats (MIDI Library)/Classical Archives - The Greats (MIDI)\\Classical Piano Midis\\Varios - Título desconocido\\p_z\\tribamer.mid\nD:/Studia/magisterka/Pliki midi/Classical Archives - The Greats (MIDI Library)/Classical Archives - The Greats (MIDI)\\Classical Piano Midis\\Varios - Título desconocido\\p_z\\varipaga.mid\nD:/Studia/magisterka/Pliki midi/Classical Archives - The Greats (MIDI Library)/Classical Archives - The Greats (MIDI)\\Classical Piano Midis\\Varios - Título desconocido\\p_z\\vivaldi.mid\nD:/Studia/magisterka/Pliki midi/Classical Archives - The Greats (MIDI Library)/Classical Archives - The Greats (MIDI)\\Classical Piano Midis\\Varios - Título desconocido\\varios\\5th3rdmv.mid\nD:/Studia/magisterka/Pliki midi/Classical Archives - The Greats (MIDI Library)/Classical Archives - The Greats (MIDI)\\Haendel\\Hwv006 Agrippina Overture.mid\nD:/Studia/magisterka/Pliki midi/Classical Archives - The Greats (MIDI Library)/Classical Archives - The Greats (MIDI)\\Haendel\\Concertos Grossos Hwv319-330 op06\\Concerto Grosso op6 n05 2mov.mid\nD:/Studia/magisterka/Pliki midi/Classical Archives - The Greats (MIDI Library)/Classical Archives - The Greats (MIDI)\\Haendel\\Concertos Grossos Hwv319-330 op06\\Concerto Grosso op6 n05 3mov.mid\nD:/Studia/magisterka/Pliki midi/Classical Archives - The Greats (MIDI Library)/Classical Archives - The Greats (MIDI)\\Haendel\\Concertos Grossos Hwv319-330 op06\\Concerto Grosso op6 n05 4mov.mid\nD:/Studia/magisterka/Pliki midi/Classical Archives - The Greats (MIDI Library)/Classical Archives - The Greats (MIDI)\\Mendelsonn\\Organ Sonata n1.mid\nD:/Studia/magisterka/Pliki midi/Classical Archives - The Greats (MIDI Library)/Classical Archives - The Greats (MIDI)\\Mendelsonn\\Organ Sonata n4.mid\nD:/Studia/magisterka/Pliki midi/Classical Archives - The Greats (MIDI Library)/Classical Archives - The Greats (MIDI)\\Mozart\\Piano Sonatas\\Nueva carpeta\\K281 Piano Sonata n03 3mov.mid\nD:/Studia/magisterka/Pliki midi/Classical Archives - The Greats (MIDI Library)/Classical Archives - The Greats (MIDI)\\Rachmaninov\\Prelude op32 n1 .mid\nD:/Studia/magisterka/Pliki midi/Classical Archives - The Greats (MIDI Library)/Classical Archives - The Greats (MIDI)\\Rachmaninov\\Prelude op32 n2.mid\nD:/Studia/magisterka/Pliki midi/Classical Archives - The Greats (MIDI Library)/Classical Archives - The Greats (MIDI)\\Rachmaninov\\Prelude op32 n3.mid\nD:/Studia/magisterka/Pliki midi/Classical Archives - The Greats (MIDI Library)/Classical Archives - The Greats (MIDI)\\Rachmaninov\\Prelude op32 n5 .mid\n"
    }
   ],
   "source": [
    "from glob import glob\n",
    "import miditoolkit\n",
    "# len(glob('D:/Studia/magisterka/Pliki midi/Classical Archives - The Greats (MIDI Library)/Classical Archives - The Greats (MIDI)/**/*.mid', recursive=True))\n",
    "# 'D:/Studia/magisterka/Inne projekty/MusicTransformer-tensorflow2.0-master/dataset/scripts/classic_piano_dataset/*.mid'\n",
    "songs_to_parse = []\n",
    "bad_songs = []\n",
    "error_song = []\n",
    "more_than_3 = []\n",
    "for song_path in glob('D:/Studia/magisterka/Pliki midi/Classical Archives - The Greats (MIDI Library)/Classical Archives - The Greats (MIDI)/**/*.mid', recursive=True):\n",
    "    try:\n",
    "        midi_obj = miditoolkit.midi.parser.MidiFile(song_path)\n",
    "        if len(midi_obj.instruments) <= 3:\n",
    "            count_error = 0\n",
    "            # print(midi_obj.time_signature_changes[0])\n",
    "            for note in midi_obj.instruments[0].notes[0:50]:\n",
    "                if note.start * 16 % midi_obj.ticks_per_beat != 0:\n",
    "                    count_error += 1\n",
    "            if count_error <= 5:\n",
    "                songs_to_parse.append(song_path)\n",
    "            else:\n",
    "                bad_songs.append(song_path)\n",
    "        else:\n",
    "            more_than_3.append(song_path)\n",
    "    except:\n",
    "        print(song_path)\n",
    "        error_song.append(song_path)"
   ]
  },
  {
   "cell_type": "code",
   "execution_count": 15,
   "metadata": {},
   "outputs": [
    {
     "output_type": "execute_result",
     "data": {
      "text/plain": "310"
     },
     "metadata": {},
     "execution_count": 15
    }
   ],
   "source": [
    "len(songs_with_4_4)\n",
    "len(bad_songs)"
   ]
  },
  {
   "cell_type": "code",
   "execution_count": null,
   "metadata": {},
   "outputs": [],
   "source": [
    "from glob import glob\n",
    "import miditoolkit\n",
    "songs_with_4_4 = []\n",
    "for song_path in glob('D:/Studia/magisterka/Inne projekty/MusicTransformer-tensorflow2.0-master/dataset/scripts/classic_piano_dataset/*.mid', recursive=True):\n",
    "    try:\n",
    "        midi_obj = miditoolkit.midi.parser.MidiFile(song_path)\n",
    "        if midi_obj.time_signature_changes is not None and len(midi_obj.time_signature_changes) > 0 and midi_obj.time_signature_changes[0].numerator == 4 and midi_obj.time_signature_changes[0].denominator == 4:\n",
    "            # print(midi_obj.time_signature_changes[0])\n",
    "            \n",
    "            songs_with_4_4.append(song_path)\n",
    "    except:\n",
    "        print(song_path)"
   ]
  },
  {
   "cell_type": "code",
   "execution_count": 9,
   "metadata": {},
   "outputs": [
    {
     "output_type": "execute_result",
     "data": {
      "text/plain": "'D:/Studia/magisterka/Pliki midi/Classical Archives - The Greats (MIDI Library)/Classical Archives - The Greats (MIDI)\\\\Buxethude Buxwv136 Prelude.mid'"
     },
     "metadata": {},
     "execution_count": 9
    }
   ],
   "source": [
    "songs_with_4_4[1]"
   ]
  },
  {
   "cell_type": "code",
   "execution_count": 12,
   "metadata": {},
   "outputs": [],
   "source": [
    "import pickle\n",
    "with open(r'pickle/songs_filtered_list_pickle_3ins_0,1err', 'wb+') as file:\n",
    "    pickle.dump(songs_to_parse, file)"
   ]
  },
  {
   "cell_type": "code",
   "execution_count": 2,
   "metadata": {},
   "outputs": [
    {
     "output_type": "execute_result",
     "data": {
      "text/plain": "'D:/Studia/magisterka/Pliki midi/Classical Archives - The Greats (MIDI Library)/Classical Archives - The Greats (MIDI)\\\\Bartok Suite 2mov.mid'"
     },
     "metadata": {},
     "execution_count": 2
    }
   ],
   "source": [
    "import pickle\n",
    "with open(r'pickle/songs_filtered_list_pickle_3ins_0,1err', 'rb') as file:\n",
    "    songs_to_parse = pickle.load(file)\n",
    "len(songs_to_parse)\n",
    "songs_to_parse[1]"
   ]
  },
  {
   "cell_type": "code",
   "execution_count": 5,
   "metadata": {},
   "outputs": [
    {
     "output_type": "execute_result",
     "data": {
      "text/plain": "(4839, 5, 2, 256)"
     },
     "metadata": {},
     "execution_count": 5
    }
   ],
   "source": [
    "training_data.shape"
   ]
  },
  {
   "cell_type": "code",
   "execution_count": 3,
   "metadata": {
    "tags": []
   },
   "outputs": [
    {
     "output_type": "stream",
     "name": "stdout",
     "text": "WARNING:tensorflow:From d:\\Studia\\magisterka\\Inne projekty\\remi\\model_pk.py:107: The name tf.global_variables_initializer is deprecated. Please use tf.compat.v1.global_variables_initializer instead.\n\nERROR: D:/Studia/magisterka/Pliki midi/Classical Archives - The Greats (MIDI Library)/Classical Archives - The Greats (MIDI)\\Beethoven\\Piano Sonatas\\Piano Sonata n14 op27 2mov ''Moonlight''.mid, Exception: local variable 'tempo_style' referenced before assignment\nERROR: D:/Studia/magisterka/Pliki midi/Classical Archives - The Greats (MIDI Library)/Classical Archives - The Greats (MIDI)\\Brahms\\Sonata 2 pianos n34b 3mov.mid, Exception: local variable 'tempo_style' referenced before assignment\nERROR: D:/Studia/magisterka/Pliki midi/Classical Archives - The Greats (MIDI Library)/Classical Archives - The Greats (MIDI)\\Classical Piano Midis\\Griffes\\Scherzo, Op.6 No.3.mid, Exception: local variable 'tempo_style' referenced before assignment\nERROR: D:/Studia/magisterka/Pliki midi/Classical Archives - The Greats (MIDI Library)/Classical Archives - The Greats (MIDI)\\Classical Piano Midis\\Varios - Título desconocido\\a_h\\chanukah.mid, Exception: local variable 'tempo_style' referenced before assignment\nERROR: D:/Studia/magisterka/Pliki midi/Classical Archives - The Greats (MIDI Library)/Classical Archives - The Greats (MIDI)\\Classical Piano Midis\\Vaughan\\Quick Dance.mid, Exception: local variable 'tempo_style' referenced before assignment\nERROR: D:/Studia/magisterka/Pliki midi/Classical Archives - The Greats (MIDI Library)/Classical Archives - The Greats (MIDI)\\Schubert\\Piano Sonatas\\Piano Sonata n21 D960 1mov.mid, Exception: local variable 'tempo_style' referenced before assignment\nAGAIN\nERROR: D:/Studia/magisterka/Pliki midi/Classical Archives - The Greats (MIDI Library)/Classical Archives - The Greats (MIDI)\\Vivaldi\\Concertos op3 01-12 ''L'estro Armonico''\\Concerto op3 n05 for 2 Violins RV519 2mov.mid, Exception: Too high meter., Event: Event(name=Position Bar, time=1157.0, value=9, text=1157.0)\nAGAIN\nERROR: D:/Studia/magisterka/Pliki midi/Classical Archives - The Greats (MIDI Library)/Classical Archives - The Greats (MIDI)\\Vivaldi\\Concertos op3 01-12 ''L'estro Armonico''\\Concerto op3 n05 for 2 Violins RV519 2mov.mid, Exception: Too high meter., Event: Event(name=Position Bar, time=54.0, value=9, text=54.0)\nAGAIN\nERROR: D:/Studia/magisterka/Pliki midi/Classical Archives - The Greats (MIDI Library)/Classical Archives - The Greats (MIDI)\\Vivaldi\\Concertos op3 01-12 ''L'estro Armonico''\\Concerto op3 n05 for 2 Violins RV519 2mov.mid, Exception: Too high meter., Event: Event(name=Position Bar, time=215.0, value=9, text=215.0)\nAGAIN\nERROR: D:/Studia/magisterka/Pliki midi/Classical Archives - The Greats (MIDI Library)/Classical Archives - The Greats (MIDI)\\Vivaldi\\Concertos op3 01-12 ''L'estro Armonico''\\Concerto op3 n05 for 2 Violins RV519 2mov.mid, Exception: Too high meter., Event: Event(name=Position Bar, time=8.0, value=9, text=8.0)\nAGAIN\nERROR: D:/Studia/magisterka/Pliki midi/Classical Archives - The Greats (MIDI Library)/Classical Archives - The Greats (MIDI)\\Vivaldi\\Concertos op3 01-12 ''L'estro Armonico''\\Concerto op3 n05 for 2 Violins RV519 2mov.mid, Exception: Too high meter., Event: Event(name=Position Bar, time=8.0, value=9, text=8.0)\nAGAIN\nERROR: D:/Studia/magisterka/Pliki midi/Classical Archives - The Greats (MIDI Library)/Classical Archives - The Greats (MIDI)\\Vivaldi\\Concertos op3 01-12 ''L'estro Armonico''\\Concerto op3 n05 for 2 Violins RV519 2mov.mid, Exception: Too high meter., Event: Event(name=Position Bar, time=8.0, value=9, text=8.0)\nAGAIN\nERROR: D:/Studia/magisterka/Pliki midi/Classical Archives - The Greats (MIDI Library)/Classical Archives - The Greats (MIDI)\\Vivaldi\\Concertos op3 01-12 ''L'estro Armonico''\\Concerto op3 n05 for 2 Violins RV519 2mov.mid, Exception: Too high meter., Event: Event(name=Position Bar, time=434.0, value=9, text=434.0)\nAGAIN\nERROR: D:/Studia/magisterka/Pliki midi/Classical Archives - The Greats (MIDI Library)/Classical Archives - The Greats (MIDI)\\Vivaldi\\Concertos op3 01-12 ''L'estro Armonico''\\Concerto op3 n05 for 2 Violins RV519 2mov.mid, Exception: Too high meter., Event: Event(name=Position Bar, time=796.0, value=9, text=796.0)\n"
    }
   ],
   "source": [
    "model = PopMusicTransformer(\n",
    "    checkpoint='REMI-tempo-checkpoint',\n",
    "    is_training=True)\n",
    "training_data = model.prepare_data(midi_paths=songs_to_parse)"
   ]
  },
  {
   "cell_type": "code",
   "execution_count": 4,
   "metadata": {},
   "outputs": [],
   "source": [
    "# training_data.shape\n",
    "import pickle\n",
    "with open(r'pickle/training_data_len256_classical_pickle_filtered_2from3ins_0,1err', 'wb+') as file:\n",
    "    pickle.dump(training_data, file)"
   ]
  },
  {
   "cell_type": "code",
   "execution_count": 6,
   "metadata": {},
   "outputs": [
    {
     "output_type": "execute_result",
     "data": {
      "text/plain": "'D:/Studia/magisterka/Pliki midi/Classical Archives - The Greats (MIDI Library)/Classical Archives - The Greats (MIDI)\\\\Buxethude Buxwv153 Prelude.mid'"
     },
     "metadata": {},
     "execution_count": 6
    }
   ],
   "source": [
    "songs_with_4_4[4]"
   ]
  },
  {
   "cell_type": "code",
   "execution_count": 2,
   "metadata": {
    "tags": []
   },
   "outputs": [
    {
     "output_type": "execute_result",
     "data": {
      "text/plain": "1"
     },
     "metadata": {},
     "execution_count": 2
    }
   ],
   "source": [
    "import finetune_pk\n",
    "finetune_pk.main()"
   ]
  },
  {
   "cell_type": "code",
   "execution_count": null,
   "metadata": {},
   "outputs": [],
   "source": [
    "D:\\Studia\\magisterka\\python\\venv_remi_asus\\Scripts\\activate\n",
    "D:\\Studia\\magisterka\\python\\venv_remi_asus\\Scripts\\deactivate\n",
    "\n",
    "python finetune_pk.py"
   ]
  }
 ],
 "metadata": {
  "language_info": {
   "codemirror_mode": {
    "name": "ipython",
    "version": 3
   },
   "file_extension": ".py",
   "mimetype": "text/x-python",
   "name": "python",
   "nbconvert_exporter": "python",
   "pygments_lexer": "ipython3",
   "version": "3.7.7-final"
  },
  "orig_nbformat": 2,
  "kernelspec": {
   "name": "venv_remi",
   "display_name": "venv_remi"
  }
 },
 "nbformat": 4,
 "nbformat_minor": 2
}